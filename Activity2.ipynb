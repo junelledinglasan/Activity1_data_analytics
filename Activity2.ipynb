{
 "cells": [
  {
   "cell_type": "markdown",
   "id": "795bb284-ab5a-46f1-94f6-c87df0b6fbd4",
   "metadata": {},
   "source": [
    "<h1>UK ACCIDENT ANALYTICS</h1>\n",
    "<h3>Analyst : JUNELLE C. DINGLASAN</h3>"
   ]
  },
  {
   "cell_type": "code",
   "execution_count": 1,
   "id": "b9de6d90-b7e0-498c-b229-8ea2e1fc5225",
   "metadata": {},
   "outputs": [],
   "source": [
    "#import libraries\n",
    "import numpy as np\n",
    "import pandas as pd\n",
    "from scipy.stats import f_oneway\n",
    "import folium\n",
    "from folium.plugins import HeatMap\n",
    "import warnings\n",
    "warnings.filterwarnings('ignore')\n",
    "import matplotlib.pyplot as plt"
   ]
  },
  {
   "cell_type": "code",
   "execution_count": 2,
   "id": "20e8fcfe-da5f-4e62-9cef-d982e43294d9",
   "metadata": {},
   "outputs": [],
   "source": [
    "accident = pd.read_csv('datasets\\\\uk_road_accident.csv')"
   ]
  },
  {
   "cell_type": "code",
   "execution_count": 3,
   "id": "045ce5f0-303f-4433-b050-d58dee5c819f",
   "metadata": {},
   "outputs": [
    {
     "data": {
      "text/html": [
       "<div>\n",
       "<style scoped>\n",
       "    .dataframe tbody tr th:only-of-type {\n",
       "        vertical-align: middle;\n",
       "    }\n",
       "\n",
       "    .dataframe tbody tr th {\n",
       "        vertical-align: top;\n",
       "    }\n",
       "\n",
       "    .dataframe thead th {\n",
       "        text-align: right;\n",
       "    }\n",
       "</style>\n",
       "<table border=\"1\" class=\"dataframe\">\n",
       "  <thead>\n",
       "    <tr style=\"text-align: right;\">\n",
       "      <th></th>\n",
       "      <th>Index</th>\n",
       "      <th>Accident_Severity</th>\n",
       "      <th>Accident Date</th>\n",
       "      <th>Latitude</th>\n",
       "      <th>Light_Conditions</th>\n",
       "      <th>District Area</th>\n",
       "      <th>Longitude</th>\n",
       "      <th>Number_of_Casualties</th>\n",
       "      <th>Number_of_Vehicles</th>\n",
       "      <th>Road_Surface_Conditions</th>\n",
       "      <th>Road_Type</th>\n",
       "      <th>Urban_or_Rural_Area</th>\n",
       "      <th>Weather_Conditions</th>\n",
       "      <th>Vehicle_Type</th>\n",
       "    </tr>\n",
       "  </thead>\n",
       "  <tbody>\n",
       "    <tr>\n",
       "      <th>0</th>\n",
       "      <td>200701BS64157</td>\n",
       "      <td>Serious</td>\n",
       "      <td>5/6/2019</td>\n",
       "      <td>51.506187</td>\n",
       "      <td>Darkness - lights lit</td>\n",
       "      <td>Kensington and Chelsea</td>\n",
       "      <td>-0.209082</td>\n",
       "      <td>1</td>\n",
       "      <td>2</td>\n",
       "      <td>Dry</td>\n",
       "      <td>Single carriageway</td>\n",
       "      <td>Urban</td>\n",
       "      <td>Fine no high winds</td>\n",
       "      <td>Car</td>\n",
       "    </tr>\n",
       "    <tr>\n",
       "      <th>1</th>\n",
       "      <td>200701BS65737</td>\n",
       "      <td>Serious</td>\n",
       "      <td>2/7/2019</td>\n",
       "      <td>51.495029</td>\n",
       "      <td>Daylight</td>\n",
       "      <td>Kensington and Chelsea</td>\n",
       "      <td>-0.173647</td>\n",
       "      <td>1</td>\n",
       "      <td>2</td>\n",
       "      <td>Wet or damp</td>\n",
       "      <td>Single carriageway</td>\n",
       "      <td>Urban</td>\n",
       "      <td>Raining no high winds</td>\n",
       "      <td>Car</td>\n",
       "    </tr>\n",
       "    <tr>\n",
       "      <th>2</th>\n",
       "      <td>200701BS66127</td>\n",
       "      <td>Serious</td>\n",
       "      <td>26-08-2019</td>\n",
       "      <td>51.517715</td>\n",
       "      <td>Darkness - lighting unknown</td>\n",
       "      <td>Kensington and Chelsea</td>\n",
       "      <td>-0.210215</td>\n",
       "      <td>1</td>\n",
       "      <td>3</td>\n",
       "      <td>Dry</td>\n",
       "      <td>NaN</td>\n",
       "      <td>Urban</td>\n",
       "      <td>NaN</td>\n",
       "      <td>Taxi/Private hire car</td>\n",
       "    </tr>\n",
       "    <tr>\n",
       "      <th>3</th>\n",
       "      <td>200701BS66128</td>\n",
       "      <td>Serious</td>\n",
       "      <td>16-08-2019</td>\n",
       "      <td>51.495478</td>\n",
       "      <td>Daylight</td>\n",
       "      <td>Kensington and Chelsea</td>\n",
       "      <td>-0.202731</td>\n",
       "      <td>1</td>\n",
       "      <td>4</td>\n",
       "      <td>Dry</td>\n",
       "      <td>Single carriageway</td>\n",
       "      <td>Urban</td>\n",
       "      <td>Fine no high winds</td>\n",
       "      <td>Bus or coach (17 or more pass seats)</td>\n",
       "    </tr>\n",
       "    <tr>\n",
       "      <th>4</th>\n",
       "      <td>200701BS66837</td>\n",
       "      <td>Slight</td>\n",
       "      <td>3/9/2019</td>\n",
       "      <td>51.488576</td>\n",
       "      <td>Darkness - lights lit</td>\n",
       "      <td>Kensington and Chelsea</td>\n",
       "      <td>-0.192487</td>\n",
       "      <td>1</td>\n",
       "      <td>2</td>\n",
       "      <td>Dry</td>\n",
       "      <td>NaN</td>\n",
       "      <td>Urban</td>\n",
       "      <td>NaN</td>\n",
       "      <td>Other vehicle</td>\n",
       "    </tr>\n",
       "    <tr>\n",
       "      <th>...</th>\n",
       "      <td>...</td>\n",
       "      <td>...</td>\n",
       "      <td>...</td>\n",
       "      <td>...</td>\n",
       "      <td>...</td>\n",
       "      <td>...</td>\n",
       "      <td>...</td>\n",
       "      <td>...</td>\n",
       "      <td>...</td>\n",
       "      <td>...</td>\n",
       "      <td>...</td>\n",
       "      <td>...</td>\n",
       "      <td>...</td>\n",
       "      <td>...</td>\n",
       "    </tr>\n",
       "    <tr>\n",
       "      <th>660674</th>\n",
       "      <td>201091NM01760</td>\n",
       "      <td>Slight</td>\n",
       "      <td>18-02-2022</td>\n",
       "      <td>57.374005</td>\n",
       "      <td>Daylight</td>\n",
       "      <td>Highland</td>\n",
       "      <td>-3.467828</td>\n",
       "      <td>2</td>\n",
       "      <td>1</td>\n",
       "      <td>Dry</td>\n",
       "      <td>Single carriageway</td>\n",
       "      <td>Rural</td>\n",
       "      <td>Fine no high winds</td>\n",
       "      <td>Car</td>\n",
       "    </tr>\n",
       "    <tr>\n",
       "      <th>660675</th>\n",
       "      <td>201091NM01881</td>\n",
       "      <td>Slight</td>\n",
       "      <td>21-02-2022</td>\n",
       "      <td>57.232273</td>\n",
       "      <td>Darkness - no lighting</td>\n",
       "      <td>Highland</td>\n",
       "      <td>-3.809281</td>\n",
       "      <td>1</td>\n",
       "      <td>1</td>\n",
       "      <td>Frost or ice</td>\n",
       "      <td>Single carriageway</td>\n",
       "      <td>Rural</td>\n",
       "      <td>Fine no high winds</td>\n",
       "      <td>Car</td>\n",
       "    </tr>\n",
       "    <tr>\n",
       "      <th>660676</th>\n",
       "      <td>201091NM01935</td>\n",
       "      <td>Slight</td>\n",
       "      <td>23-02-2022</td>\n",
       "      <td>57.585044</td>\n",
       "      <td>Daylight</td>\n",
       "      <td>Highland</td>\n",
       "      <td>-3.862727</td>\n",
       "      <td>1</td>\n",
       "      <td>3</td>\n",
       "      <td>Frost or ice</td>\n",
       "      <td>Single carriageway</td>\n",
       "      <td>Rural</td>\n",
       "      <td>Fine no high winds</td>\n",
       "      <td>Car</td>\n",
       "    </tr>\n",
       "    <tr>\n",
       "      <th>660677</th>\n",
       "      <td>201091NM01964</td>\n",
       "      <td>Serious</td>\n",
       "      <td>23-02-2022</td>\n",
       "      <td>57.214898</td>\n",
       "      <td>Darkness - no lighting</td>\n",
       "      <td>Highland</td>\n",
       "      <td>-3.823997</td>\n",
       "      <td>1</td>\n",
       "      <td>2</td>\n",
       "      <td>Wet or damp</td>\n",
       "      <td>Single carriageway</td>\n",
       "      <td>Rural</td>\n",
       "      <td>Fine no high winds</td>\n",
       "      <td>Motorcycle over 500cc</td>\n",
       "    </tr>\n",
       "    <tr>\n",
       "      <th>660678</th>\n",
       "      <td>201091NM02142</td>\n",
       "      <td>Serious</td>\n",
       "      <td>28-02-2022</td>\n",
       "      <td>57.575210</td>\n",
       "      <td>Daylight</td>\n",
       "      <td>Highland</td>\n",
       "      <td>-3.895673</td>\n",
       "      <td>1</td>\n",
       "      <td>1</td>\n",
       "      <td>Wet or damp</td>\n",
       "      <td>Dual carriageway</td>\n",
       "      <td>Rural</td>\n",
       "      <td>Snowing no high winds</td>\n",
       "      <td>Car</td>\n",
       "    </tr>\n",
       "  </tbody>\n",
       "</table>\n",
       "<p>660679 rows × 14 columns</p>\n",
       "</div>"
      ],
      "text/plain": [
       "                Index Accident_Severity Accident Date   Latitude  \\\n",
       "0       200701BS64157           Serious      5/6/2019  51.506187   \n",
       "1       200701BS65737           Serious      2/7/2019  51.495029   \n",
       "2       200701BS66127           Serious    26-08-2019  51.517715   \n",
       "3       200701BS66128           Serious    16-08-2019  51.495478   \n",
       "4       200701BS66837            Slight      3/9/2019  51.488576   \n",
       "...               ...               ...           ...        ...   \n",
       "660674  201091NM01760            Slight    18-02-2022  57.374005   \n",
       "660675  201091NM01881            Slight    21-02-2022  57.232273   \n",
       "660676  201091NM01935            Slight    23-02-2022  57.585044   \n",
       "660677  201091NM01964           Serious    23-02-2022  57.214898   \n",
       "660678  201091NM02142           Serious    28-02-2022  57.575210   \n",
       "\n",
       "                   Light_Conditions           District Area  Longitude  \\\n",
       "0             Darkness - lights lit  Kensington and Chelsea  -0.209082   \n",
       "1                          Daylight  Kensington and Chelsea  -0.173647   \n",
       "2       Darkness - lighting unknown  Kensington and Chelsea  -0.210215   \n",
       "3                          Daylight  Kensington and Chelsea  -0.202731   \n",
       "4             Darkness - lights lit  Kensington and Chelsea  -0.192487   \n",
       "...                             ...                     ...        ...   \n",
       "660674                     Daylight                Highland  -3.467828   \n",
       "660675       Darkness - no lighting                Highland  -3.809281   \n",
       "660676                     Daylight                Highland  -3.862727   \n",
       "660677       Darkness - no lighting                Highland  -3.823997   \n",
       "660678                     Daylight                Highland  -3.895673   \n",
       "\n",
       "        Number_of_Casualties  Number_of_Vehicles Road_Surface_Conditions  \\\n",
       "0                          1                   2                     Dry   \n",
       "1                          1                   2             Wet or damp   \n",
       "2                          1                   3                     Dry   \n",
       "3                          1                   4                     Dry   \n",
       "4                          1                   2                     Dry   \n",
       "...                      ...                 ...                     ...   \n",
       "660674                     2                   1                     Dry   \n",
       "660675                     1                   1            Frost or ice   \n",
       "660676                     1                   3            Frost or ice   \n",
       "660677                     1                   2             Wet or damp   \n",
       "660678                     1                   1             Wet or damp   \n",
       "\n",
       "                 Road_Type Urban_or_Rural_Area     Weather_Conditions  \\\n",
       "0       Single carriageway               Urban     Fine no high winds   \n",
       "1       Single carriageway               Urban  Raining no high winds   \n",
       "2                      NaN               Urban                    NaN   \n",
       "3       Single carriageway               Urban     Fine no high winds   \n",
       "4                      NaN               Urban                    NaN   \n",
       "...                    ...                 ...                    ...   \n",
       "660674  Single carriageway               Rural     Fine no high winds   \n",
       "660675  Single carriageway               Rural     Fine no high winds   \n",
       "660676  Single carriageway               Rural     Fine no high winds   \n",
       "660677  Single carriageway               Rural     Fine no high winds   \n",
       "660678    Dual carriageway               Rural  Snowing no high winds   \n",
       "\n",
       "                                Vehicle_Type  \n",
       "0                                        Car  \n",
       "1                                        Car  \n",
       "2                      Taxi/Private hire car  \n",
       "3       Bus or coach (17 or more pass seats)  \n",
       "4                              Other vehicle  \n",
       "...                                      ...  \n",
       "660674                                   Car  \n",
       "660675                                   Car  \n",
       "660676                                   Car  \n",
       "660677                 Motorcycle over 500cc  \n",
       "660678                                   Car  \n",
       "\n",
       "[660679 rows x 14 columns]"
      ]
     },
     "execution_count": 3,
     "metadata": {},
     "output_type": "execute_result"
    }
   ],
   "source": [
    "accident"
   ]
  },
  {
   "cell_type": "code",
   "execution_count": 4,
   "id": "307cd6a7-1398-4f9d-9908-d12fb06116ec",
   "metadata": {},
   "outputs": [
    {
     "data": {
      "text/plain": [
       "Index                       object\n",
       "Accident_Severity           object\n",
       "Accident Date               object\n",
       "Latitude                   float64\n",
       "Light_Conditions            object\n",
       "District Area               object\n",
       "Longitude                  float64\n",
       "Number_of_Casualties         int64\n",
       "Number_of_Vehicles           int64\n",
       "Road_Surface_Conditions     object\n",
       "Road_Type                   object\n",
       "Urban_or_Rural_Area         object\n",
       "Weather_Conditions          object\n",
       "Vehicle_Type                object\n",
       "dtype: object"
      ]
     },
     "execution_count": 4,
     "metadata": {},
     "output_type": "execute_result"
    }
   ],
   "source": [
    "accident.dtypes"
   ]
  },
  {
   "cell_type": "code",
   "execution_count": 5,
   "id": "a8ea686b-f993-4256-a111-e75ef129e74f",
   "metadata": {},
   "outputs": [
    {
     "name": "stdout",
     "output_type": "stream",
     "text": [
      "<class 'pandas.core.frame.DataFrame'>\n",
      "RangeIndex: 660679 entries, 0 to 660678\n",
      "Data columns (total 14 columns):\n",
      " #   Column                   Non-Null Count   Dtype  \n",
      "---  ------                   --------------   -----  \n",
      " 0   Index                    660679 non-null  object \n",
      " 1   Accident_Severity        660679 non-null  object \n",
      " 2   Accident Date            660679 non-null  object \n",
      " 3   Latitude                 660654 non-null  float64\n",
      " 4   Light_Conditions         660679 non-null  object \n",
      " 5   District Area            660679 non-null  object \n",
      " 6   Longitude                660653 non-null  float64\n",
      " 7   Number_of_Casualties     660679 non-null  int64  \n",
      " 8   Number_of_Vehicles       660679 non-null  int64  \n",
      " 9   Road_Surface_Conditions  659953 non-null  object \n",
      " 10  Road_Type                656159 non-null  object \n",
      " 11  Urban_or_Rural_Area      660664 non-null  object \n",
      " 12  Weather_Conditions       646551 non-null  object \n",
      " 13  Vehicle_Type             660679 non-null  object \n",
      "dtypes: float64(2), int64(2), object(10)\n",
      "memory usage: 70.6+ MB\n"
     ]
    }
   ],
   "source": [
    "accident.info()"
   ]
  },
  {
   "cell_type": "code",
   "execution_count": 6,
   "id": "e5643c71-e084-4b61-9d6d-ae3ffe8406f5",
   "metadata": {},
   "outputs": [],
   "source": [
    "accident['Latitude'] = accident['Latitude'].fillna(accident['Latitude'].mean())\n",
    "accident['Longitude'] = accident['Longitude'].fillna(accident['Longitude'].mean())\n",
    "accident['Road_Surface_Conditions'] = accident['Road_Surface_Conditions'].fillna(accident['Road_Surface_Conditions'].mode()[0])\n",
    "accident['Road_Type'] = accident['Road_Type'].fillna(accident['Road_Type'].mode()[0])\n",
    "accident['Weather_Conditions'] = accident['Weather_Conditions'].fillna(accident['Weather_Conditions'].mode()[0])\n",
    "accident['Urban_or_Rural_Area'] = accident['Urban_or_Rural_Area'].fillna(accident['Urban_or_Rural_Area'].mode()[0])"
   ]
  },
  {
   "cell_type": "code",
   "execution_count": 7,
   "id": "df8fcec2-6e9a-4bf5-b882-6376ec57b248",
   "metadata": {},
   "outputs": [
    {
     "data": {
      "text/plain": [
       "Index                      0\n",
       "Accident_Severity          0\n",
       "Accident Date              0\n",
       "Latitude                   0\n",
       "Light_Conditions           0\n",
       "District Area              0\n",
       "Longitude                  0\n",
       "Number_of_Casualties       0\n",
       "Number_of_Vehicles         0\n",
       "Road_Surface_Conditions    0\n",
       "Road_Type                  0\n",
       "Urban_or_Rural_Area        0\n",
       "Weather_Conditions         0\n",
       "Vehicle_Type               0\n",
       "dtype: int64"
      ]
     },
     "execution_count": 7,
     "metadata": {},
     "output_type": "execute_result"
    }
   ],
   "source": [
    "accident.isnull().sum()"
   ]
  },
  {
   "cell_type": "code",
   "execution_count": 8,
   "id": "fe03a0b8-510b-421a-9e7c-70616f341d2e",
   "metadata": {},
   "outputs": [],
   "source": [
    "accident['Index'] = accident['Index'].astype('category')\n",
    "accident['Accident_Severity'] = accident['Accident_Severity'].astype('category')\n",
    "accident['Light_Conditions'] = accident['Light_Conditions'].astype('category')\n",
    "accident['District Area'] = accident['District Area'].astype('category')\n",
    "accident['Road_Surface_Conditions'] = accident['Road_Surface_Conditions'].astype('category')\n",
    "accident['Road_Type'] = accident['Road_Type'].astype('category')\n",
    "accident['Urban_or_Rural_Area'] = accident['Urban_or_Rural_Area'].astype('category')\n",
    "accident['Weather_Conditions'] = accident['Weather_Conditions'].astype('category')\n",
    "accident['Vehicle_Type'] = accident['Vehicle_Type'].astype('category')"
   ]
  },
  {
   "cell_type": "code",
   "execution_count": 9,
   "id": "aed46d56-7d54-401f-9560-2505ca0cd783",
   "metadata": {},
   "outputs": [
    {
     "data": {
      "text/plain": [
       "Index                      category\n",
       "Accident_Severity          category\n",
       "Accident Date                object\n",
       "Latitude                    float64\n",
       "Light_Conditions           category\n",
       "District Area              category\n",
       "Longitude                   float64\n",
       "Number_of_Casualties          int64\n",
       "Number_of_Vehicles            int64\n",
       "Road_Surface_Conditions    category\n",
       "Road_Type                  category\n",
       "Urban_or_Rural_Area        category\n",
       "Weather_Conditions         category\n",
       "Vehicle_Type               category\n",
       "dtype: object"
      ]
     },
     "execution_count": 9,
     "metadata": {},
     "output_type": "execute_result"
    }
   ],
   "source": [
    "accident.dtypes"
   ]
  },
  {
   "cell_type": "markdown",
   "id": "46850fb8-6ed4-46dc-bb57-cec2b309a03c",
   "metadata": {},
   "source": [
    "<h1>QUESTIONS</h1>"
   ]
  },
  {
   "cell_type": "markdown",
   "id": "6912344a-8518-46ce-98fe-bd48402a363e",
   "metadata": {},
   "source": [
    "<h3>1.) What is the minimum and maximum latitude and longitude?</h3>"
   ]
  },
  {
   "cell_type": "code",
   "execution_count": 10,
   "id": "c4b07976-1d30-4c52-bf62-3b6efffb5c3b",
   "metadata": {},
   "outputs": [
    {
     "data": {
      "text/plain": [
       "(np.float64(49.91443),\n",
       " np.float64(60.757544),\n",
       " np.float64(-7.516225),\n",
       " np.float64(1.76201))"
      ]
     },
     "execution_count": 10,
     "metadata": {},
     "output_type": "execute_result"
    }
   ],
   "source": [
    "min_lat = accident['Latitude'].min()\n",
    "max_lat = accident['Latitude'].max()\n",
    "min_long = accident['Longitude'].min()\n",
    "max_long = accident['Longitude'].max()\n",
    "min_lat, max_lat, min_long, max_long"
   ]
  },
  {
   "cell_type": "markdown",
   "id": "97b6d30a-d0f9-4a3d-aecc-f30708a36b8c",
   "metadata": {},
   "source": [
    "<h4>INSIGHTS : This tells the farthest locations where accidents happened. It sets the boundary of the dataset.</h4>"
   ]
  },
  {
   "cell_type": "markdown",
   "id": "48b73b04-4691-4112-a4ef-5680198bb7f5",
   "metadata": {},
   "source": [
    "<h3>2.) What is the earliest accident date in the datasets</h3>"
   ]
  },
  {
   "cell_type": "code",
   "execution_count": 11,
   "id": "5f492842-7647-4e74-a8a3-fa105961ffc3",
   "metadata": {},
   "outputs": [
    {
     "data": {
      "text/plain": [
       "Timestamp('2019-01-01 00:00:00')"
      ]
     },
     "execution_count": 11,
     "metadata": {},
     "output_type": "execute_result"
    }
   ],
   "source": [
    "accident['Accident Date'] = pd.to_datetime(accident['Accident Date'], errors='coerce')\n",
    "earliest = accident['Accident Date'].min()\n",
    "earliest"
   ]
  },
  {
   "cell_type": "markdown",
   "id": "c7e0455f-d40b-42d3-a2f7-bee671b23177",
   "metadata": {},
   "source": [
    "<h4>INSIGHTS : Tells the starting point of recorded accident data.</h4>"
   ]
  },
  {
   "cell_type": "markdown",
   "id": "78c61f13-4b4b-4df1-9e8f-13078386148b",
   "metadata": {},
   "source": [
    "<h3>3.) What is the average number of vehicles involved in accidents for each severity level?</h3>"
   ]
  },
  {
   "cell_type": "code",
   "execution_count": 12,
   "id": "9e34b48d-96bc-4dfa-bccb-9230ce206bfe",
   "metadata": {},
   "outputs": [
    {
     "data": {
      "text/html": [
       "<div>\n",
       "<style scoped>\n",
       "    .dataframe tbody tr th:only-of-type {\n",
       "        vertical-align: middle;\n",
       "    }\n",
       "\n",
       "    .dataframe tbody tr th {\n",
       "        vertical-align: top;\n",
       "    }\n",
       "\n",
       "    .dataframe thead th {\n",
       "        text-align: right;\n",
       "    }\n",
       "</style>\n",
       "<table border=\"1\" class=\"dataframe\">\n",
       "  <thead>\n",
       "    <tr style=\"text-align: right;\">\n",
       "      <th></th>\n",
       "      <th>Accident_Severity</th>\n",
       "      <th>Avg_Vehicles</th>\n",
       "    </tr>\n",
       "  </thead>\n",
       "  <tbody>\n",
       "    <tr>\n",
       "      <th>0</th>\n",
       "      <td>Fatal</td>\n",
       "      <td>1.786976</td>\n",
       "    </tr>\n",
       "    <tr>\n",
       "      <th>1</th>\n",
       "      <td>Serious</td>\n",
       "      <td>1.678327</td>\n",
       "    </tr>\n",
       "    <tr>\n",
       "      <th>2</th>\n",
       "      <td>Slight</td>\n",
       "      <td>1.855864</td>\n",
       "    </tr>\n",
       "  </tbody>\n",
       "</table>\n",
       "</div>"
      ],
      "text/plain": [
       "  Accident_Severity  Avg_Vehicles\n",
       "0             Fatal      1.786976\n",
       "1           Serious      1.678327\n",
       "2            Slight      1.855864"
      ]
     },
     "execution_count": 12,
     "metadata": {},
     "output_type": "execute_result"
    }
   ],
   "source": [
    "avg_vehicles = accident.groupby('Accident_Severity')['Number_of_Vehicles'].mean().reset_index(name='Avg_Vehicles')\n",
    "avg_vehicles"
   ]
  },
  {
   "cell_type": "markdown",
   "id": "657e01af-3f2c-41cd-81b4-5a6f0938a5ec",
   "metadata": {},
   "source": [
    "<h4>INSIGHTS : Reveals if more vehicles tent to be involved in serious or slight accidents.</h4>"
   ]
  },
  {
   "cell_type": "markdown",
   "id": "dcd9a055-b102-437b-8c2a-5b5c7d0ed63d",
   "metadata": {},
   "source": [
    "<h3>4.) How many accidents occurred each year?</h3>"
   ]
  },
  {
   "cell_type": "code",
   "execution_count": 13,
   "id": "bb2a3e9c-7d5c-42e1-a0dc-491c1d9bf5e2",
   "metadata": {},
   "outputs": [
    {
     "data": {
      "text/html": [
       "<div>\n",
       "<style scoped>\n",
       "    .dataframe tbody tr th:only-of-type {\n",
       "        vertical-align: middle;\n",
       "    }\n",
       "\n",
       "    .dataframe tbody tr th {\n",
       "        vertical-align: top;\n",
       "    }\n",
       "\n",
       "    .dataframe thead th {\n",
       "        text-align: right;\n",
       "    }\n",
       "</style>\n",
       "<table border=\"1\" class=\"dataframe\">\n",
       "  <thead>\n",
       "    <tr style=\"text-align: right;\">\n",
       "      <th></th>\n",
       "      <th>Year</th>\n",
       "      <th>Accident_Count</th>\n",
       "    </tr>\n",
       "  </thead>\n",
       "  <tbody>\n",
       "    <tr>\n",
       "      <th>0</th>\n",
       "      <td>2019.0</td>\n",
       "      <td>71867</td>\n",
       "    </tr>\n",
       "    <tr>\n",
       "      <th>1</th>\n",
       "      <td>2020.0</td>\n",
       "      <td>70163</td>\n",
       "    </tr>\n",
       "    <tr>\n",
       "      <th>2</th>\n",
       "      <td>2021.0</td>\n",
       "      <td>66172</td>\n",
       "    </tr>\n",
       "    <tr>\n",
       "      <th>3</th>\n",
       "      <td>2022.0</td>\n",
       "      <td>56805</td>\n",
       "    </tr>\n",
       "  </tbody>\n",
       "</table>\n",
       "</div>"
      ],
      "text/plain": [
       "     Year  Accident_Count\n",
       "0  2019.0           71867\n",
       "1  2020.0           70163\n",
       "2  2021.0           66172\n",
       "3  2022.0           56805"
      ]
     },
     "execution_count": 13,
     "metadata": {},
     "output_type": "execute_result"
    }
   ],
   "source": [
    "accident['Year'] = accident['Accident Date'].dt.year\n",
    "yearly = accident.groupby('Year').size().reset_index(name='Accident_Count')\n",
    "yearly"
   ]
  },
  {
   "cell_type": "markdown",
   "id": "671ba1ae-c7f5-4768-a3fb-136ccf91cabd",
   "metadata": {},
   "source": [
    "<h4>INSIGHTS : Helps track accident trends over time.</h4>"
   ]
  },
  {
   "cell_type": "markdown",
   "id": "0e96e2c8-e9ff-4141-9711-7e0c6fdc5b52",
   "metadata": {},
   "source": [
    "<h3>5.) What is the total number of vehicles involved per road type?</h3>"
   ]
  },
  {
   "cell_type": "code",
   "execution_count": 14,
   "id": "23e75908-7319-4373-a565-47d19c6d2c62",
   "metadata": {},
   "outputs": [
    {
     "data": {
      "text/plain": [
       "Road_Type\n",
       "Dual carriageway      199819\n",
       "One way street         21497\n",
       "Roundabout             83643\n",
       "Single carriageway    891412\n",
       "Slip road              13501\n",
       "Name: Number_of_Vehicles, dtype: int64"
      ]
     },
     "execution_count": 14,
     "metadata": {},
     "output_type": "execute_result"
    }
   ],
   "source": [
    "accident.groupby('Road_Type')['Number_of_Vehicles'].sum()"
   ]
  },
  {
   "cell_type": "markdown",
   "id": "c9dc3229-3fcd-40ce-a9a6-f707cd87d38e",
   "metadata": {},
   "source": [
    "<h4>INSIGHTS : This shows which road types see the biggest pileups.</h4>"
   ]
  },
  {
   "cell_type": "markdown",
   "id": "8723f44e-6a30-495d-a990-1048d5a42a0f",
   "metadata": {},
   "source": [
    "<h3>6.) Do accidents with 1 vehicle differ from those with 2 vehicles in terms of casualties?</h3>"
   ]
  },
  {
   "cell_type": "code",
   "execution_count": 15,
   "id": "5801e233-c56a-4cfb-a305-49defc7641d0",
   "metadata": {},
   "outputs": [
    {
     "data": {
      "text/plain": [
       "(np.float64(10199.156920414918), np.float64(0.0))"
      ]
     },
     "execution_count": 15,
     "metadata": {},
     "output_type": "execute_result"
    }
   ],
   "source": [
    "one_vehicle = accident[accident['Number_of_Vehicles'] == 1]['Number_of_Casualties']\n",
    "two_vehicle = accident[accident['Number_of_Vehicles'] == 2]['Number_of_Casualties']\n",
    "\n",
    "stats, p_value = f_oneway(one_vehicle.dropna(), two_vehicle.dropna())\n",
    "stats, p_value"
   ]
  },
  {
   "cell_type": "markdown",
   "id": "c5e81847-8b14-4fc5-9e3f-3e5aa0a84baf",
   "metadata": {},
   "source": [
    "<h4>INSIGHTS : This test asks whether single-vehicle accidents cause more or fewer casualties compared to two-vehicle accidents.</h4>"
   ]
  },
  {
   "cell_type": "markdown",
   "id": "a0fba046-8f62-481a-9d14-e77fec0a2732",
   "metadata": {},
   "source": [
    "<h3>7.) Do weather conditions affect the average number of casualties></h3>"
   ]
  },
  {
   "cell_type": "code",
   "execution_count": 16,
   "id": "00cc3487-261c-456b-9dab-5691c115cfeb",
   "metadata": {},
   "outputs": [
    {
     "data": {
      "text/plain": [
       "(np.float64(nan), np.float64(nan))"
      ]
     },
     "execution_count": 16,
     "metadata": {},
     "output_type": "execute_result"
    }
   ],
   "source": [
    "clear = accident[accident['Weather_Conditions'] == 'Fine no high winds']['Number_of_Casualties']\n",
    "rain = accident[accident['Weather_Conditions'] == 'Raining without high winds']['Number_of_Casualties']\n",
    "snow = accident[accident['Weather_Conditions'] == 'Snowing without high winds']['Number_of_Casualties']\n",
    "\n",
    "stats, p_value = f_oneway(clear.dropna(), rain.dropna(), snow.dropna())\n",
    "stats, p_value"
   ]
  },
  {
   "cell_type": "markdown",
   "id": "884a929b-14d7-4b03-b869-1d8be2e32739",
   "metadata": {},
   "source": [
    "<h4>INSIGHTS : This ANOVA tests if accidents in different weather conditions lead to different casualty numbers.</h4>"
   ]
  },
  {
   "cell_type": "markdown",
   "id": "d43f6180-5b61-4561-9068-39276c85c4c1",
   "metadata": {},
   "source": [
    "<h3>8.) What is the average number of vehicles per district?</h3>"
   ]
  },
  {
   "cell_type": "code",
   "execution_count": 17,
   "id": "9329d09e-6dc1-406a-925e-9436b541ba59",
   "metadata": {},
   "outputs": [
    {
     "data": {
      "text/html": [
       "<div>\n",
       "<style scoped>\n",
       "    .dataframe tbody tr th:only-of-type {\n",
       "        vertical-align: middle;\n",
       "    }\n",
       "\n",
       "    .dataframe tbody tr th {\n",
       "        vertical-align: top;\n",
       "    }\n",
       "\n",
       "    .dataframe thead th {\n",
       "        text-align: right;\n",
       "    }\n",
       "</style>\n",
       "<table border=\"1\" class=\"dataframe\">\n",
       "  <thead>\n",
       "    <tr style=\"text-align: right;\">\n",
       "      <th></th>\n",
       "      <th>District Area</th>\n",
       "      <th>Avg_Vehicles</th>\n",
       "    </tr>\n",
       "  </thead>\n",
       "  <tbody>\n",
       "    <tr>\n",
       "      <th>0</th>\n",
       "      <td>Aberdeen City</td>\n",
       "      <td>1.637188</td>\n",
       "    </tr>\n",
       "    <tr>\n",
       "      <th>1</th>\n",
       "      <td>Aberdeenshire</td>\n",
       "      <td>1.553368</td>\n",
       "    </tr>\n",
       "    <tr>\n",
       "      <th>2</th>\n",
       "      <td>Adur</td>\n",
       "      <td>1.969305</td>\n",
       "    </tr>\n",
       "    <tr>\n",
       "      <th>3</th>\n",
       "      <td>Allerdale</td>\n",
       "      <td>1.782801</td>\n",
       "    </tr>\n",
       "    <tr>\n",
       "      <th>4</th>\n",
       "      <td>Alnwick</td>\n",
       "      <td>1.646552</td>\n",
       "    </tr>\n",
       "    <tr>\n",
       "      <th>...</th>\n",
       "      <td>...</td>\n",
       "      <td>...</td>\n",
       "    </tr>\n",
       "    <tr>\n",
       "      <th>417</th>\n",
       "      <td>Wychavon</td>\n",
       "      <td>1.828068</td>\n",
       "    </tr>\n",
       "    <tr>\n",
       "      <th>418</th>\n",
       "      <td>Wycombe</td>\n",
       "      <td>1.866397</td>\n",
       "    </tr>\n",
       "    <tr>\n",
       "      <th>419</th>\n",
       "      <td>Wyre</td>\n",
       "      <td>1.860258</td>\n",
       "    </tr>\n",
       "    <tr>\n",
       "      <th>420</th>\n",
       "      <td>Wyre Forest</td>\n",
       "      <td>1.789474</td>\n",
       "    </tr>\n",
       "    <tr>\n",
       "      <th>421</th>\n",
       "      <td>York</td>\n",
       "      <td>1.856089</td>\n",
       "    </tr>\n",
       "  </tbody>\n",
       "</table>\n",
       "<p>422 rows × 2 columns</p>\n",
       "</div>"
      ],
      "text/plain": [
       "     District Area  Avg_Vehicles\n",
       "0    Aberdeen City      1.637188\n",
       "1    Aberdeenshire      1.553368\n",
       "2             Adur      1.969305\n",
       "3        Allerdale      1.782801\n",
       "4          Alnwick      1.646552\n",
       "..             ...           ...\n",
       "417       Wychavon      1.828068\n",
       "418        Wycombe      1.866397\n",
       "419           Wyre      1.860258\n",
       "420    Wyre Forest      1.789474\n",
       "421           York      1.856089\n",
       "\n",
       "[422 rows x 2 columns]"
      ]
     },
     "execution_count": 17,
     "metadata": {},
     "output_type": "execute_result"
    }
   ],
   "source": [
    "accident.groupby('District Area')['Number_of_Vehicles'].mean().reset_index(name='Avg_Vehicles')"
   ]
  },
  {
   "cell_type": "markdown",
   "id": "93f04951-35b1-4275-bff6-be2948aea7ee",
   "metadata": {},
   "source": [
    "<h4>INSIGHTS :  Districts with higher averages may have more multi-vehicle collisions.</h4>"
   ]
  },
  {
   "cell_type": "markdown",
   "id": "f442ea17-ea10-4c88-a445-ab299e6ee422",
   "metadata": {},
   "source": [
    "<h3>9.) How many accidents include more than one vehicle?</h3>"
   ]
  },
  {
   "cell_type": "code",
   "execution_count": 18,
   "id": "171d8eaa-42a2-4e56-91c3-9c03b09a5805",
   "metadata": {},
   "outputs": [
    {
     "data": {
      "text/plain": [
       "459892"
      ]
     },
     "execution_count": 18,
     "metadata": {},
     "output_type": "execute_result"
    }
   ],
   "source": [
    "accident[accident['Number_of_Vehicles'] > 1].shape[0]"
   ]
  },
  {
   "cell_type": "markdown",
   "id": "5cc2d6ba-f32a-46a4-b2f1-50d95a9a0402",
   "metadata": {},
   "source": [
    "<h4>INSIGHTS : Shows proportion of multi-vehicle collisions versus single-vehicle incidents.</h4>"
   ]
  },
  {
   "cell_type": "markdown",
   "id": "9a353ed0-f510-46d3-9a21-95ce12d3235f",
   "metadata": {},
   "source": [
    "<h3>10.) Are there differences in casualties between daylight, darkness with lights, and darkness without lights?</h3>"
   ]
  },
  {
   "cell_type": "code",
   "execution_count": 19,
   "id": "1b571a97-d3db-45ce-b511-9f0f05d12d10",
   "metadata": {},
   "outputs": [
    {
     "data": {
      "text/plain": [
       "(np.float64(1051.9027966748497), np.float64(0.0))"
      ]
     },
     "execution_count": 19,
     "metadata": {},
     "output_type": "execute_result"
    }
   ],
   "source": [
    "day = accident[accident['Light_Conditions'] == 'Daylight']['Number_of_Casualties']\n",
    "lit = accident[accident['Light_Conditions'] == 'Darkness - lights lit']['Number_of_Casualties']\n",
    "unlit = accident[accident['Light_Conditions'] == 'Darkness - no lighting']['Number_of_Casualties']\n",
    "\n",
    "stats, p_value = f_oneway(day.dropna(), lit.dropna(), unlit.dropna())\n",
    "stats, p_value"
   ]
  },
  {
   "cell_type": "markdown",
   "id": "9ca09f1e-1801-423e-80e6-3224d069183e",
   "metadata": {},
   "source": [
    "<h4>INSIGHTS : This shows wheather light conditions impact how severe the accidents are in terms of casualties.</h4>"
   ]
  },
  {
   "cell_type": "markdown",
   "id": "19a94d0d-4a41-4e8d-a140-c38112615e7a",
   "metadata": {},
   "source": [
    "<h3>11.) Which vehicle type is most often involved in fatal accidents?</h3>"
   ]
  },
  {
   "cell_type": "code",
   "execution_count": 20,
   "id": "e9a8492f-a8c9-445a-8a34-1f5be1f232a7",
   "metadata": {},
   "outputs": [
    {
     "data": {
      "text/plain": [
       "Vehicle_Type\n",
       "Car    6577\n",
       "Name: count, dtype: int64"
      ]
     },
     "execution_count": 20,
     "metadata": {},
     "output_type": "execute_result"
    }
   ],
   "source": [
    "accident[accident['Accident_Severity'] == 'Fatal']['Vehicle_Type'].value_counts().head(1)"
   ]
  },
  {
   "cell_type": "markdown",
   "id": "0fc2331b-58e0-41c3-9d2d-6e9dfd2b334c",
   "metadata": {},
   "source": [
    "<h4>INSIGHTS : This identifies the vehicle most frequently linked with deadly crashes.</h4>"
   ]
  },
  {
   "cell_type": "markdown",
   "id": "27e4f62c-4c44-4c24-a074-0834203e9908",
   "metadata": {},
   "source": [
    "<h3>12.) What is the most common road type where accidents occur?</h3>"
   ]
  },
  {
   "cell_type": "code",
   "execution_count": 21,
   "id": "1450cee6-4f85-48a2-abb5-03bda23fe176",
   "metadata": {},
   "outputs": [
    {
     "data": {
      "text/plain": [
       "'Single carriageway'"
      ]
     },
     "execution_count": 21,
     "metadata": {},
     "output_type": "execute_result"
    }
   ],
   "source": [
    "accident['Road_Type'].mode()[0]"
   ]
  },
  {
   "cell_type": "markdown",
   "id": "e7ce6bf8-3abe-4cb3-9769-4f951c6c0c5b",
   "metadata": {},
   "source": [
    "<h4>INSIGHTS : This shows the road type most prone to accident, which helps authorities focus safety improvements.</h4>"
   ]
  },
  {
   "cell_type": "markdown",
   "id": "7c441096-7749-4b42-a754-4e61e7e90c45",
   "metadata": {},
   "source": [
    "<h3>13.) What is the correlation between number of vehicles and number of casualties?</h3>"
   ]
  },
  {
   "cell_type": "code",
   "execution_count": 22,
   "id": "263ec26a-c552-47f7-af10-fcce42a3648b",
   "metadata": {},
   "outputs": [
    {
     "data": {
      "text/html": [
       "<div>\n",
       "<style scoped>\n",
       "    .dataframe tbody tr th:only-of-type {\n",
       "        vertical-align: middle;\n",
       "    }\n",
       "\n",
       "    .dataframe tbody tr th {\n",
       "        vertical-align: top;\n",
       "    }\n",
       "\n",
       "    .dataframe thead th {\n",
       "        text-align: right;\n",
       "    }\n",
       "</style>\n",
       "<table border=\"1\" class=\"dataframe\">\n",
       "  <thead>\n",
       "    <tr style=\"text-align: right;\">\n",
       "      <th></th>\n",
       "      <th>Number_of_Vehicles</th>\n",
       "      <th>Number_of_Casualties</th>\n",
       "    </tr>\n",
       "  </thead>\n",
       "  <tbody>\n",
       "    <tr>\n",
       "      <th>Number_of_Vehicles</th>\n",
       "      <td>1.000000</td>\n",
       "      <td>0.228889</td>\n",
       "    </tr>\n",
       "    <tr>\n",
       "      <th>Number_of_Casualties</th>\n",
       "      <td>0.228889</td>\n",
       "      <td>1.000000</td>\n",
       "    </tr>\n",
       "  </tbody>\n",
       "</table>\n",
       "</div>"
      ],
      "text/plain": [
       "                      Number_of_Vehicles  Number_of_Casualties\n",
       "Number_of_Vehicles              1.000000              0.228889\n",
       "Number_of_Casualties            0.228889              1.000000"
      ]
     },
     "execution_count": 22,
     "metadata": {},
     "output_type": "execute_result"
    }
   ],
   "source": [
    "accident[['Number_of_Vehicles', 'Number_of_Casualties']].corr()"
   ]
  },
  {
   "cell_type": "markdown",
   "id": "3c129bee-02ad-4778-b286-1bfaa019c762",
   "metadata": {},
   "source": [
    "<h4>INSIGHTS : This correlation shows if more vehicles usually lead to more casualties.</h4>"
   ]
  },
  {
   "cell_type": "markdown",
   "id": "6bda4ca6-990f-4756-8284-27a43e8e9414",
   "metadata": {},
   "source": [
    "<h3>14.) Perform a t-test comparing the number of vehicles and number of casualties.</h3>"
   ]
  },
  {
   "cell_type": "code",
   "execution_count": 23,
   "id": "f6adafcd-1d52-4db3-8c32-8be6f7c4aba4",
   "metadata": {},
   "outputs": [
    {
     "data": {
      "text/plain": [
       "(np.float64(124644.05667145054), np.float64(0.0))"
      ]
     },
     "execution_count": 23,
     "metadata": {},
     "output_type": "execute_result"
    }
   ],
   "source": [
    "stats, p_value = f_oneway(accident['Number_of_Vehicles'].dropna(),accident['Number_of_Casualties'].dropna())\n",
    "stats, p_value"
   ]
  },
  {
   "cell_type": "markdown",
   "id": "943724a0-2d41-4111-b42c-07d84c71633f",
   "metadata": {},
   "source": [
    "<h4>INSIGHTS : This test checks if there is a significant statistical difference between vehicles and casualties data.</h4> "
   ]
  },
  {
   "cell_type": "markdown",
   "id": "6030e6a2-a14f-41dd-9402-c2f6c0076b0b",
   "metadata": {},
   "source": [
    "<h3>15.) What is the variance in the number of casualties?</h3>"
   ]
  },
  {
   "cell_type": "code",
   "execution_count": 24,
   "id": "f11edcc4-4754-4c2d-931c-8eb41c41656b",
   "metadata": {},
   "outputs": [
    {
     "data": {
      "text/plain": [
       "np.float64(0.6803724822080995)"
      ]
     },
     "execution_count": 24,
     "metadata": {},
     "output_type": "execute_result"
    }
   ],
   "source": [
    "casualty_variance = accident ['Number_of_Casualties'].var()\n",
    "casualty_variance"
   ]
  },
  {
   "cell_type": "markdown",
   "id": "0cd581b4-935e-47d3-be5c-533ef102a2d3",
   "metadata": {},
   "source": [
    "<h4>INSIGHTS : This explains how spread out casualty numbers are across all accidents.</h4>"
   ]
  },
  {
   "cell_type": "markdown",
   "id": "f1718be2-a6ef-4f8c-b95d-846646beb32f",
   "metadata": {},
   "source": [
    "<h3>16.) Check if there is a correlation between number of vehicles and number of casualties.</h3>"
   ]
  },
  {
   "cell_type": "code",
   "execution_count": 25,
   "id": "da56d181-afd9-4405-800c-b5e87c8b3abb",
   "metadata": {},
   "outputs": [
    {
     "data": {
      "text/plain": [
       "np.float64(0.2288888612692759)"
      ]
     },
     "execution_count": 25,
     "metadata": {},
     "output_type": "execute_result"
    }
   ],
   "source": [
    "correlation = accident ['Number_of_Vehicles'].corr(accident['Number_of_Casualties'])\n",
    "correlation"
   ]
  },
  {
   "cell_type": "markdown",
   "id": "9eaa11ae-a206-4713-ab1e-812e5fcf8afd",
   "metadata": {},
   "source": [
    "<h4>INSIGHTS : A possitive correlation means more vehicles tend to cause more casualties.</h4>"
   ]
  },
  {
   "cell_type": "markdown",
   "id": "a90fe1a0-a0fd-4ef4-a7b7-8e7288c518f5",
   "metadata": {},
   "source": [
    "<h3>17.) How many accidents occurred in 2019?</h3>"
   ]
  },
  {
   "cell_type": "code",
   "execution_count": 26,
   "id": "4fa548d4-724b-4013-a701-78b5796bc16f",
   "metadata": {},
   "outputs": [
    {
     "data": {
      "text/plain": [
       "71867"
      ]
     },
     "execution_count": 26,
     "metadata": {},
     "output_type": "execute_result"
    }
   ],
   "source": [
    "accident_2019 = accident[accident['Accident Date'].dt.year == 2019].shape[0]\n",
    "accident_2019"
   ]
  },
  {
   "cell_type": "markdown",
   "id": "c4d05539-519b-447f-a6e7-4b61aec454b4",
   "metadata": {},
   "source": [
    "<h4>INSIGHTS : This filters accidents by year to see how frequent they were in 2019.</h4>"
   ]
  },
  {
   "cell_type": "markdown",
   "id": "830cb2f1-cb05-4c51-9b6d-3b2ad531dec5",
   "metadata": {},
   "source": [
    "<h3>18.) How many accidents happened on weekend vs weekdays?</h3>"
   ]
  },
  {
   "cell_type": "code",
   "execution_count": 27,
   "id": "9c076b22-5b63-40e7-b429-b05021eb9d8c",
   "metadata": {},
   "outputs": [
    {
     "data": {
      "text/plain": [
       "(75523, 189484)"
      ]
     },
     "execution_count": 27,
     "metadata": {},
     "output_type": "execute_result"
    }
   ],
   "source": [
    "accident['Weekday'] = accident['Accident Date'].dt.dayofweek\n",
    "weekend = accident[accident['Weekday'] >= 5].shape[0]\n",
    "weekday = accident[accident['Weekday'] < 5].shape[0]\n",
    "weekend, weekday"
   ]
  },
  {
   "cell_type": "markdown",
   "id": "7c9b0243-f476-4c8d-bb47-41988f9486a6",
   "metadata": {},
   "source": [
    "<h4>INSIGHTS : Compares weekend vs weekday driving risks.</h4>"
   ]
  },
  {
   "cell_type": "markdown",
   "id": "7a662f91-f813-46d1-8096-51163066e8e8",
   "metadata": {},
   "source": [
    "<h3>19.) How many accidents happened in December 2020?</h3>"
   ]
  },
  {
   "cell_type": "code",
   "execution_count": 28,
   "id": "edae32ba-e077-44c0-9dee-181574e2e9a9",
   "metadata": {},
   "outputs": [
    {
     "data": {
      "text/plain": [
       "5960"
      ]
     },
     "execution_count": 28,
     "metadata": {},
     "output_type": "execute_result"
    }
   ],
   "source": [
    "dec2020 = accident[(accident['Accident Date'].dt.year == 2020) & (accident['Accident Date'].dt.month == 12)].shape[0]\n",
    "dec2020"
   ]
  },
  {
   "cell_type": "markdown",
   "id": "3a7b4871-6641-4f35-b4b5-71de8e525245",
   "metadata": {},
   "source": [
    "<h4>INSIGHTS : Narrows down to a sigle month in a single year for detailed analysis.</h4>"
   ]
  },
  {
   "cell_type": "markdown",
   "id": "2a490aca-5a41-4380-816b-59e6af954756",
   "metadata": {},
   "source": [
    "<h3>20.) Which road surface condition is most common in accidents?</h3>"
   ]
  },
  {
   "cell_type": "code",
   "execution_count": 29,
   "id": "e201453d-e814-461d-9312-cbe6aa836a40",
   "metadata": {},
   "outputs": [
    {
     "data": {
      "image/png": "[encoded data removed]",
      "text/plain": [
       "<Figure size 800x500 with 1 Axes>"
      ]
     },
     "metadata": {},
     "output_type": "display_data"
    }
   ],
   "source": [
    "road_surface_counts = accident['Road_Surface_Conditions'].value_counts()\n",
    "road_surface_counts.plot(\n",
    "    kind = 'bar',\n",
    "    color = ['red','blue','green','yellow','black'],\n",
    "    figsize = (8,5),\n",
    "    title = 'Accident by Road Surface Condition'\n",
    ")\n",
    "\n",
    "plt.xlabel(\"Road Surface Condition\")\n",
    "plt.ylabel(\"Number of Accident\")\n",
    "plt.grid(axis='y', alpha=0.5)\n",
    "plt.show()"
   ]
  },
  {
   "cell_type": "markdown",
   "id": "5d2b1238-d2e9-4a08-b29f-4e5812617b58",
   "metadata": {},
   "source": [
    "<h4>INSIGHT: Most accidents happen on Dry roads, showing that weather alone isn't the biggest factor. High traffic volume and driver behavior often matter more than slippery surfaces.</h4>"
   ]
  },
  {
   "cell_type": "markdown",
   "id": "8c1c5e15-1137-462d-9b4b-ba354eb873cb",
   "metadata": {},
   "source": [
    "<h3>21.) Do most accidents happen in urban or rural areas?</h3>"
   ]
  },
  {
   "cell_type": "code",
   "execution_count": 30,
   "id": "906af11d-a916-4e00-b68d-4dd84affaa18",
   "metadata": {},
   "outputs": [
    {
     "data": {
      "image/png": "[encoded data removed]",
      "text/plain": [
       "<Figure size 600x600 with 1 Axes>"
      ]
     },
     "metadata": {},
     "output_type": "display_data"
    }
   ],
   "source": [
    "urban_rural_counts = accident['Urban_or_Rural_Area'].value_counts()\n",
    "urban_rural_counts.plot(\n",
    "    kind = 'pie',\n",
    "    colors = ['blue','red'],\n",
    "    figsize = (6,6),\n",
    "    title = 'Urban vs Rural Accidents'\n",
    ")\n",
    "\n",
    "plt.ylabel(\"\")\n",
    "plt.show()"
   ]
  },
  {
   "cell_type": "markdown",
   "id": "bc224ee8-f404-4baa-96c3-a74bb64424fa",
   "metadata": {},
   "source": [
    "<h4>INSIGHT: Accident are more frequent in urban areas because of traffic congestion,intersections and pedestrian crossings. This highlights the need for stricter traffic management in cities.</h4>"
   ]
  },
  {
   "cell_type": "markdown",
   "id": "4e44adb8-a38f-4e11-89ac-fbe52a3f9c8f",
   "metadata": {},
   "source": [
    "<h3>22.) What does this chart imply about the risks of different vehicles?</h3>"
   ]
  },
  {
   "cell_type": "code",
   "execution_count": 31,
   "id": "d98d0362-4374-4a8d-8809-984559aebba2",
   "metadata": {},
   "outputs": [
    {
     "data": {
      "image/png": "[encoded data removed]",
      "text/plain": [
       "<Figure size 800x500 with 1 Axes>"
      ]
     },
     "metadata": {},
     "output_type": "display_data"
    }
   ],
   "source": [
    "vehicle_counts = accident['Vehicle_Type'].value_counts()\n",
    "vehicle_counts.plot(\n",
    "    kind = 'barh',\n",
    "    color = ['lightcoral'],\n",
    "    figsize = (8,5),\n",
    "    title = 'Top Vehicles Types Involved in Accidents'\n",
    ")\n",
    "\n",
    "plt.xlabel(\"Number of Accidents\")\n",
    "plt.ylabel(\"Vehicle Type\")\n",
    "plt.grid(axis='x', alpha=0.5)\n",
    "plt.show()"
   ]
  },
  {
   "cell_type": "markdown",
   "id": "6587cc25-213f-4e40-9205-2badf6b423a1",
   "metadata": {},
   "source": [
    "<h4>INSIGHT: The bar chart usually shows cars leading accident counts because they are the most common vehicles on the road. However, motorcycles, despite lower numbers, may still face higher risk per vehicle due to their vulnerability.</h4>"
   ]
  },
  {
   "cell_type": "markdown",
   "id": "c5e09ae8-cdbe-467f-8954-3469650aec76",
   "metadata": {},
   "source": [
    "<h3>23.) Do more accidents occur during daylight or darkness?</h3>"
   ]
  },
  {
   "cell_type": "code",
   "execution_count": 32,
   "id": "fba6420c-429c-4846-ac89-cc63f5e85833",
   "metadata": {},
   "outputs": [
    {
     "data": {
      "image/png": "[encoded data removed]",
      "text/plain": [
       "<Figure size 800x500 with 1 Axes>"
      ]
     },
     "metadata": {},
     "output_type": "display_data"
    }
   ],
   "source": [
    "light_counts = accident['Light_Conditions'].value_counts()\n",
    "\n",
    "light_counts.plot(\n",
    "    kind='bar',\n",
    "    color=['red','green','blue'],\n",
    "    figsize=(8,5),\n",
    "    title='Accidents by Light Conditions'\n",
    ")\n",
    "\n",
    "plt.xlabel(\"Light Condition\")\n",
    "plt.ylabel(\"Number of Accidents\")\n",
    "plt.grid(axis='y', alpha=0.5)\n",
    "plt.show()"
   ]
  },
  {
   "cell_type": "markdown",
   "id": "bd1813d4-03b6-4c2d-b29d-fd5d32f7ebd3",
   "metadata": {},
   "source": [
    "<h4>INSIGHT: Most accidents occur in daylight because traffic is heavier. However, night-time accidents, although fewer, are often more severe due to visibility issues.</h4>"
   ]
  },
  {
   "cell_type": "markdown",
   "id": "ad8fe72b-3298-4d83-bc56-c13331127cd0",
   "metadata": {},
   "source": [
    "<h3>24.) What types of roads record more accidents?</h3>"
   ]
  },
  {
   "cell_type": "code",
   "execution_count": 33,
   "id": "272c2800-12fe-473e-8ce6-3135d10c614c",
   "metadata": {},
   "outputs": [
    {
     "data": {
      "image/png": "[encoded data removed]",
      "text/plain": [
       "<Figure size 640x480 with 1 Axes>"
      ]
     },
     "metadata": {},
     "output_type": "display_data"
    }
   ],
   "source": [
    "accident['Road_Type'].value_counts().plot(kind='bar')\n",
    "plt.title(\"Accidents by Road Type\")\n",
    "plt.xlabel(\"Road Type\")\n",
    "plt.ylabel(\"Number of Accidents\")\n",
    "plt.show()"
   ]
  },
  {
   "cell_type": "markdown",
   "id": "0ea9d972-8233-4bfa-87fd-55462c34d309",
   "metadata": {},
   "source": [
    "<h4>INSIGHT: The visualization makes it easier to compare which road categories, like single carriageways or dual carriageways, are riskier.</h4>"
   ]
  },
  {
   "cell_type": "markdown",
   "id": "b20f80b4-4f45-4028-8f64-c962cfd5f576",
   "metadata": {},
   "source": [
    "<h3>25.) What is the percentage of accidents by road surface conditions?</h3>"
   ]
  },
  {
   "cell_type": "code",
   "execution_count": 34,
   "id": "e4efea9f-dc98-48a2-bad7-3f234e25b9f0",
   "metadata": {},
   "outputs": [
    {
     "data": {
      "image/png": "[encoded data removed]",
      "text/plain": [
       "<Figure size 640x480 with 1 Axes>"
      ]
     },
     "metadata": {},
     "output_type": "display_data"
    }
   ],
   "source": [
    "accident['Road_Surface_Conditions'].value_counts().plot(kind='pie', autopct='%1.1f%%')\n",
    "plt.title(\"Percentage of Accidents by Road Surface Conditions\")\n",
    "plt.ylabel(\"\")\n",
    "plt.show()"
   ]
  },
  {
   "cell_type": "markdown",
   "id": "32eec548-28a7-4b4e-9d26-01945c698df9",
   "metadata": {},
   "source": [
    "<h4>INSIGHT: The pie chart shows how often accidents happen on dry, wet, or icy roads, helping in planning for seasonal hazards.</h4>"
   ]
  },
  {
   "cell_type": "code",
   "execution_count": 41,
   "id": "508ba50b-6760-4d5a-8610-b77bef9e4f1f",
   "metadata": {},
   "outputs": [
    {
     "data": {
      "text/plain": [
       "Index                            category\n",
       "Accident_Severity                category\n",
       "Accident Date              datetime64[ns]\n",
       "Latitude                          float64\n",
       "Light_Conditions                 category\n",
       "District Area                    category\n",
       "Longitude                         float64\n",
       "Number_of_Casualties                int64\n",
       "Number_of_Vehicles                  int64\n",
       "Road_Surface_Conditions          category\n",
       "Road_Type                        category\n",
       "Urban_or_Rural_Area              category\n",
       "Weather_Conditions               category\n",
       "Vehicle_Type                     category\n",
       "Year                              float64\n",
       "Weekday                           float64\n",
       "dtype: object"
      ]
     },
     "execution_count": 41,
     "metadata": {},
     "output_type": "execute_result"
    }
   ],
   "source": [
    "accident.dtypes"
   ]
  },
  {
   "cell_type": "code",
   "execution_count": 42,
   "id": "95c68b68-68df-4d3e-8d45-545cac898d9e",
   "metadata": {},
   "outputs": [
    {
     "name": "stdout",
     "output_type": "stream",
     "text": [
      "Kensington and Chelsea\n",
      "Westminster\n",
      "Richmond upon Thames\n",
      "Hammersmith and Fulham\n",
      "Hounslow\n",
      "Tower Hamlets\n",
      "City of London\n",
      "Southwark\n",
      "Camden\n",
      "Hackney\n",
      "Islington\n",
      "Barnet\n",
      "Brent\n",
      "Haringey\n",
      "Merton\n",
      "Ealing\n",
      "Enfield\n",
      "Greenwich\n",
      "Newham\n",
      "London Airport (Heathrow)\n",
      "Hillingdon\n",
      "Waltham Forest\n",
      "Redbridge\n",
      "Barking and Dagenham\n",
      "Bromley\n",
      "Havering\n",
      "Croydon\n",
      "Lambeth\n",
      "Wandsworth\n",
      "Sutton\n",
      "Bexley\n",
      "Lewisham\n",
      "Harrow\n",
      "Kingston upon Thames\n",
      "Barrow-in-Furness\n",
      "South Lakeland\n",
      "Carlisle\n",
      "Eden\n",
      "Allerdale\n",
      "Copeland\n",
      "Fylde\n",
      "Blackpool\n",
      "Wyre\n",
      "Lancaster\n",
      "Chorley\n",
      "West Lancashire\n",
      "South Ribble\n",
      "Preston\n",
      "Blackburn with Darwen\n",
      "Hyndburn\n",
      "Ribble Valley\n",
      "Burnley\n",
      "Pendle\n",
      "Rossendale\n",
      "Wirral\n",
      "Liverpool\n",
      "Sefton\n",
      "Knowsley\n",
      "St. Helens\n",
      "Manchester\n",
      "Salford\n",
      "Tameside\n",
      "Stockport\n",
      "Bolton\n",
      "Wigan\n",
      "Trafford\n",
      "Bury\n",
      "Rochdale\n",
      "Oldham\n",
      "Chester\n",
      "Vale Royal\n",
      "Halton\n",
      "Warrington\n",
      "Crewe and ntwich\n",
      "Ellesmere Port and Neston\n",
      "Congleton\n",
      "Macclesfield\n",
      "Crewe and Nantwich\n",
      "Blyth Valley\n",
      "Sunderland\n",
      "Gateshead\n",
      "North Tyneside\n",
      "Tynedale\n",
      "Berwick-upon-Tweed\n",
      "Newcastle upon Tyne\n",
      "Castle Morpeth\n",
      "South Tyneside\n",
      "Wansbeck\n",
      "Alnwick\n",
      "Wear Valley\n",
      "Sedgefield\n",
      "Durham\n",
      "Easington\n",
      "Chester-le-Street\n",
      "Derwentside\n",
      "Teesdale\n",
      "Darlington\n",
      "Craven\n",
      "Hambleton\n",
      "Richmondshire\n",
      "York\n",
      "Harrogate\n",
      "Selby\n",
      "Scarborough\n",
      "Ryedale\n",
      "Kirklees\n",
      "Leeds\n",
      "Wakefield\n",
      "Bradford\n",
      "Calderdale\n",
      "Doncaster\n",
      "Barnsley\n",
      "Sheffield\n",
      "Rotherham\n",
      "North East Lincolnshire\n",
      "North Lincolnshire\n",
      "East Riding of Yorkshire\n",
      "Kingston upon Hull, City of\n",
      "Redcar and Cleveland\n",
      "Hartlepool\n",
      "Middlesbrough\n",
      "Stockton-on-Tees\n",
      "Birmingham\n",
      "Wolverhampton\n",
      "Walsall\n",
      "Dudley\n",
      "Sandwell\n",
      "Solihull\n",
      "Coventry\n",
      "Newcastle-under-Lyme\n",
      "Stafford\n",
      "East Staffordshire\n",
      "South Staffordshire\n",
      "Lichfield\n",
      "Stoke-on-Trent\n",
      "Cannock Chase\n",
      "Tamworth\n",
      "Staffordshire Moorlands\n",
      "Malvern Hills\n",
      "Worcester\n",
      "Wychavon\n",
      "Wyre Forest\n",
      "Redditch\n",
      "Bromsgrove\n",
      "Herefordshire, County of\n",
      "Telford and Wrekin\n",
      "South Shropshire\n",
      "Bridgnorth\n",
      "Shrewsbury and Atcham\n",
      "North Shropshire\n",
      "Oswestry\n",
      "Warwick\n",
      "Stratford-upon-Avon\n",
      "Rugby\n",
      "North Warwickshire\n",
      "Nuneaton and Bedworth\n",
      "Amber Valley\n",
      "Erewash\n",
      "Bolsover\n",
      "High Peak\n",
      "Derbyshire Dales\n",
      "North East Derbyshire\n",
      "Chesterfield\n",
      "Derby\n",
      "South Derbyshire\n",
      "Ashfield\n",
      "Mansfield\n",
      "Newark and Sherwood\n",
      "Bassetlaw\n",
      "Gedling\n",
      "Rushcliffe\n",
      "Nottingham\n",
      "Broxtowe\n",
      "South Holland\n",
      "South Kesteven\n",
      "North Kesteven\n",
      "East Lindsey\n",
      "Boston\n",
      "West Lindsey\n",
      "Lincoln\n",
      "Hinckley and Bosworth\n",
      "Harborough\n",
      "Leicester\n",
      "Rutland\n",
      "Charnwood\n",
      "Melton\n",
      "North West Leicestershire\n",
      "Blaby\n",
      "Oadby and Wigston\n",
      "South Northamptonshire\n",
      "Northampton\n",
      "Kettering\n",
      "Corby\n",
      "Daventry\n",
      "East Northamptonshire\n",
      "Wellingborough\n",
      "South Cambridgeshire\n",
      "Fenland\n",
      "Huntingdonshire\n",
      "Peterborough\n",
      "East Cambridgeshire\n",
      "Cambridge\n",
      "King's Lynn and West Norfolk\n",
      "Norwich\n",
      "Breckland\n",
      "South Norfolk\n",
      "Broadland\n",
      "Great Yarmouth\n",
      "North Norfolk\n",
      "St. Edmundsbury\n",
      "Babergh\n",
      "Mid Suffolk\n",
      "Forest Heath\n",
      "Suffolk Coastal\n",
      "Ipswich\n",
      "Waveney\n",
      "Luton\n",
      "Mid Bedfordshire\n",
      "Bedford\n",
      "South Bedfordshire\n",
      "East Hertfordshire\n",
      "North Hertfordshire\n",
      "Welwyn Hatfield\n",
      "St. Albans\n",
      "Hertsmere\n",
      "Three Rivers\n",
      "Watford\n",
      "Dacorum\n",
      "Broxbourne\n",
      "Stevege\n",
      "Stevenage\n",
      "Epping Forest\n",
      "Brentwood\n",
      "Castle Point\n",
      "Uttlesford\n",
      "Chelmsford\n",
      "Basildon\n",
      "Tendring\n",
      "Colchester\n",
      "Thurrock\n",
      "Braintree\n",
      "Rochford\n",
      "Maldon\n",
      "Southend-on-Sea\n",
      "Harlow\n",
      "Aylesbury Vale\n",
      "Wycombe\n",
      "South Bucks\n",
      "Chiltern\n",
      "Slough\n",
      "Windsor and Maidenhead\n",
      "South Oxfordshire\n",
      "Milton Keynes\n",
      "Cherwell\n",
      "Vale of White Horse\n",
      "West Oxfordshire\n",
      "Oxford\n",
      "Reading\n",
      "West Berkshire\n",
      "Wokingham\n",
      "Bracknell Forest\n",
      "Eastleigh\n",
      "Test Valley\n",
      "Portsmouth\n",
      "Winchester\n",
      "Basingstoke and Deane\n",
      "Southampton\n",
      "Fareham\n",
      "Hart\n",
      "Gosport\n",
      "Havant\n",
      "Isle of Wight\n",
      "East Hampshire\n",
      "Rushmoor\n",
      "New Forest\n",
      "Elmbridge\n",
      "Mole Valley\n",
      "Guildford\n",
      "Spelthorne\n",
      "Epsom and Ewell\n",
      "Runnymede\n",
      "Woking\n",
      "Reigate and Banstead\n",
      "Surrey Heath\n",
      "Waverley\n",
      "Tandridge\n",
      "Medway\n",
      "Thanet\n",
      "Shepway\n",
      "Ashford\n",
      "Maidstone\n",
      "Dover\n",
      "Tunbridge Wells\n",
      "Canterbury\n",
      "Tonbridge and Malling\n",
      "Swale\n",
      "Dartford\n",
      "Sevenoaks\n",
      "Gravesham\n",
      "Brighton and Hove\n",
      "Chichester\n",
      "Rother\n",
      "Lewes\n",
      "Wealden\n",
      "Eastbourne\n",
      "Hastings\n",
      "Crawley\n",
      "Horsham\n",
      "Mid Sussex\n",
      "Arun\n",
      "Adur\n",
      "Worthing\n",
      "Kerrier\n",
      "Restormel\n",
      "Carrick\n",
      "Penwith\n",
      "North Cornwall\n",
      "West Devon\n",
      "Torridge\n",
      "Caradon\n",
      "North Devon\n",
      "Mid Devon\n",
      "Exeter\n",
      "East Devon\n",
      "Teignbridge\n",
      "Plymouth\n",
      "South Hams\n",
      "Torbay\n",
      "Bristol, City of\n",
      "South Somerset\n",
      "Sedgemoor\n",
      "Mendip\n",
      "Taunton Deane\n",
      "South Gloucestershire\n",
      "North Somerset\n",
      "Bath and North East Somerset\n",
      "West Somerset\n",
      "Stroud\n",
      "Tewkesbury\n",
      "Gloucester\n",
      "Cotswold\n",
      "Cheltenham\n",
      "Forest of Dean\n",
      "Salisbury\n",
      "Kennet\n",
      "West Wiltshire\n",
      "North Wiltshire\n",
      "Swindon\n",
      "Bournemouth\n",
      "Poole\n",
      "East Dorset\n",
      "West Dorset\n",
      "Weymouth and Portland\n",
      "Christchurch\n",
      "Purbeck\n",
      "North Dorset\n",
      "Isle of Anglesey\n",
      "Conwy\n",
      "Denbighshire\n",
      "Flintshire\n",
      "Wrexham\n",
      "Gwynedd\n",
      "Monmouthshire\n",
      "Newport\n",
      "Caerphilly\n",
      "Torfaen\n",
      "Blaeu Gwent\n",
      "Blaenau Gwent\n",
      "Merthyr Tydfil\n",
      "The Vale of Glamorgan\n",
      "Cardiff\n",
      "Rhondda, Cynon, Taff\n",
      "Swansea\n",
      "Bridgend\n",
      "Neath Port Talbot\n",
      "Carmarthenshire\n",
      "Ceredigion\n",
      "Pembrokeshire\n",
      "Powys\n",
      "Highland\n",
      "Western Isles\n",
      "Orkney Islands\n",
      "Shetland Islands\n",
      "Aberdeenshire\n",
      "Moray\n",
      "Aberdeen City\n",
      "Dundee City\n",
      "Angus\n",
      "Perth and Kinross\n",
      "Fife\n",
      "East Lothian\n",
      "Midlothian\n",
      "Scottish Borders\n",
      "Edinburgh, City of\n",
      "West Lothian\n",
      "Falkirk\n",
      "Clackmannanshire\n",
      "Stirling\n",
      "Clackmannshire\n",
      "Glasgow City\n",
      "East Dunbartonshire\n",
      "North Larkshire\n",
      "North Lanarkshire\n",
      "Renfrewshire\n",
      "East Renfrewshire\n",
      "East Ayrshire\n",
      "South Larkshire\n",
      "Inverclyde\n",
      "West Dunbartonshire\n",
      "Argyll and Bute\n",
      "South Lanarkshire\n",
      "North Ayrshire\n",
      "South Ayrshire\n",
      "Dumfries and Galloway\n",
      "Cheshire East\n",
      "Cheshire West and Chester\n",
      "Northumberland\n",
      "County Durham\n",
      "Shropshire\n",
      "Central Bedfordshire\n",
      "Cornwall\n",
      "Wiltshire\n"
     ]
    }
   ],
   "source": [
    "for i in accident['District Area'].unique():\n",
    "    print(i)"
   ]
  },
  {
   "cell_type": "markdown",
   "id": "ad885a74-da0a-432b-b877-bdf55b1135c7",
   "metadata": {},
   "source": [
    "<h3>26.) What are  the critical hotspot of fatal accidents located in Camden?</h3>"
   ]
  },
  {
   "cell_type": "code",
   "execution_count": 44,
   "id": "9d5fc3cd-c0b7-4da2-b78e-3bb5937aa90c",
   "metadata": {},
   "outputs": [],
   "source": [
    "camden_df = accident[accident['District Area']== 'Camden']"
   ]
  },
  {
   "cell_type": "code",
   "execution_count": 54,
   "id": "cbec1b2e-ca15-4316-9920-3d8fc2ca3468",
   "metadata": {},
   "outputs": [
    {
     "data": {
      "text/html": [
       "<div style=\"width:100%;\"><div style=\"position:relative;width:100%;height:0;padding-bottom:60%;\"><span style=\"color:#565656\">Make this Notebook Trusted to load map: File -> Trust Notebook</span><iframe srcdoc=\"&lt;!DOCTYPE html&gt;\n",
       "&lt;html&gt;\n",
       "&lt;head&gt;\n",
       "    \n",
       "    &lt;meta http-equiv=&quot;content-type&quot; content=&quot;text/html; charset=UTF-8&quot; /&gt;\n",
       "    &lt;script src=&quot;https://cdn.jsdelivr.net/npm/leaflet@1.9.3/dist/leaflet.js&quot;&gt;&lt;/script&gt;\n",
       "    &lt;script src=&quot;https://code.jquery.com/jquery-3.7.1.min.js&quot;&gt;&lt;/script&gt;\n",
       "    &lt;script src=&quot;https://cdn.jsdelivr.net/npm/bootstrap@5.2.2/dist/js/bootstrap.bundle.min.js&quot;&gt;&lt;/script&gt;\n",
       "    &lt;script src=&quot;https://cdnjs.cloudflare.com/ajax/libs/Leaflet.awesome-markers/2.0.2/leaflet.awesome-markers.js&quot;&gt;&lt;/script&gt;\n",
       "    &lt;link rel=&quot;stylesheet&quot; href=&quot;https://cdn.jsdelivr.net/npm/leaflet@1.9.3/dist/leaflet.css&quot;/&gt;\n",
       "    &lt;link rel=&quot;stylesheet&quot; href=&quot;https://cdn.jsdelivr.net/npm/bootstrap@5.2.2/dist/css/bootstrap.min.css&quot;/&gt;\n",
       "    &lt;link rel=&quot;stylesheet&quot; href=&quot;https://netdna.bootstrapcdn.com/bootstrap/3.0.0/css/bootstrap-glyphicons.css&quot;/&gt;\n",
       "    &lt;link rel=&quot;stylesheet&quot; href=&quot;https://cdn.jsdelivr.net/npm/@fortawesome/fontawesome-free@6.2.0/css/all.min.css&quot;/&gt;\n",
       "    &lt;link rel=&quot;stylesheet&quot; href=&quot;https://cdnjs.cloudflare.com/ajax/libs/Leaflet.awesome-markers/2.0.2/leaflet.awesome-markers.css&quot;/&gt;\n",
       "    &lt;link rel=&quot;stylesheet&quot; href=&quot;https://cdn.jsdelivr.net/gh/python-visualization/folium/folium/templates/leaflet.awesome.rotate.min.css&quot;/&gt;\n",
       "    \n",
       "            &lt;meta name=&quot;viewport&quot; content=&quot;width=device-width,\n",
       "                initial-scale=1.0, maximum-scale=1.0, user-scalable=no&quot; /&gt;\n",
       "            &lt;style&gt;\n",
       "                #map_dfa9ac1abede025b3303df63203dada2 {\n",
       "                    position: relative;\n",
       "                    width: 100.0%;\n",
       "                    height: 100.0%;\n",
       "                    left: 0.0%;\n",
       "                    top: 0.0%;\n",
       "                }\n",
       "                .leaflet-container { font-size: 1rem; }\n",
       "            &lt;/style&gt;\n",
       "\n",
       "            &lt;style&gt;html, body {\n",
       "                width: 100%;\n",
       "                height: 100%;\n",
       "                margin: 0;\n",
       "                padding: 0;\n",
       "            }\n",
       "            &lt;/style&gt;\n",
       "\n",
       "            &lt;style&gt;#map {\n",
       "                position:absolute;\n",
       "                top:0;\n",
       "                bottom:0;\n",
       "                right:0;\n",
       "                left:0;\n",
       "                }\n",
       "            &lt;/style&gt;\n",
       "\n",
       "            &lt;script&gt;\n",
       "                L_NO_TOUCH = false;\n",
       "                L_DISABLE_3D = false;\n",
       "            &lt;/script&gt;\n",
       "\n",
       "        \n",
       "    &lt;script src=&quot;https://cdn.jsdelivr.net/gh/python-visualization/folium@main/folium/templates/leaflet_heat.min.js&quot;&gt;&lt;/script&gt;\n",
       "&lt;/head&gt;\n",
       "&lt;body&gt;\n",
       "    \n",
       "    \n",
       "            &lt;div class=&quot;folium-map&quot; id=&quot;map_dfa9ac1abede025b3303df63203dada2&quot; &gt;&lt;/div&gt;\n",
       "        \n",
       "&lt;/body&gt;\n",
       "&lt;script&gt;\n",
       "    \n",
       "    \n",
       "            var map_dfa9ac1abede025b3303df63203dada2 = L.map(\n",
       "                &quot;map_dfa9ac1abede025b3303df63203dada2&quot;,\n",
       "                {\n",
       "                    center: [51.53754890909092, -0.14937827272727275],\n",
       "                    crs: L.CRS.EPSG3857,\n",
       "                    ...{\n",
       "  &quot;zoom&quot;: 13,\n",
       "  &quot;zoomControl&quot;: true,\n",
       "  &quot;preferCanvas&quot;: false,\n",
       "}\n",
       "\n",
       "                }\n",
       "            );\n",
       "\n",
       "            \n",
       "\n",
       "        \n",
       "    \n",
       "            var tile_layer_59b108ebdfd2a5ed971161b8b11191e6 = L.tileLayer(\n",
       "                &quot;https://tile.openstreetmap.org/{z}/{x}/{y}.png&quot;,\n",
       "                {\n",
       "  &quot;minZoom&quot;: 0,\n",
       "  &quot;maxZoom&quot;: 19,\n",
       "  &quot;maxNativeZoom&quot;: 19,\n",
       "  &quot;noWrap&quot;: false,\n",
       "  &quot;attribution&quot;: &quot;\\u0026copy; \\u003ca href=\\&quot;https://www.openstreetmap.org/copyright\\&quot;\\u003eOpenStreetMap\\u003c/a\\u003e contributors&quot;,\n",
       "  &quot;subdomains&quot;: &quot;abc&quot;,\n",
       "  &quot;detectRetina&quot;: false,\n",
       "  &quot;tms&quot;: false,\n",
       "  &quot;opacity&quot;: 1,\n",
       "}\n",
       "\n",
       "            );\n",
       "        \n",
       "    \n",
       "            tile_layer_59b108ebdfd2a5ed971161b8b11191e6.addTo(map_dfa9ac1abede025b3303df63203dada2);\n",
       "        \n",
       "    \n",
       "            var heat_map_f4c48559e2c4518d952cbfb24c9ffe32 = L.heatLayer(\n",
       "                [[51.523684, -0.137327], [51.516285, -0.130134], [51.567477, -0.183154], [51.52168, -0.124435], [51.542714, -0.1752], [51.530038, -0.124092], [51.536714, -0.142418], [51.52424, -0.115824], [51.518931, -0.121233], [51.525565, -0.125573], [51.52419, -0.14091], [51.549438, -0.156612], [51.54504, -0.134435], [51.519016, -0.120941], [51.554941, -0.192454], [51.542551, -0.141892], [51.545937, -0.157042], [51.532943, -0.137093], [51.554015, -0.196529], [51.545844, -0.179834], [51.554069, -0.165225], [51.550764, -0.183965]],\n",
       "                {\n",
       "  &quot;minOpacity&quot;: 0.5,\n",
       "  &quot;maxZoom&quot;: 18,\n",
       "  &quot;radius&quot;: 25,\n",
       "  &quot;blur&quot;: 15,\n",
       "}\n",
       "            );\n",
       "        \n",
       "    \n",
       "            heat_map_f4c48559e2c4518d952cbfb24c9ffe32.addTo(map_dfa9ac1abede025b3303df63203dada2);\n",
       "        \n",
       "    \n",
       "            tile_layer_59b108ebdfd2a5ed971161b8b11191e6.addTo(map_dfa9ac1abede025b3303df63203dada2);\n",
       "        \n",
       "    \n",
       "            heat_map_f4c48559e2c4518d952cbfb24c9ffe32.addTo(map_dfa9ac1abede025b3303df63203dada2);\n",
       "        \n",
       "&lt;/script&gt;\n",
       "&lt;/html&gt;\" style=\"position:absolute;width:100%;height:100%;left:0;top:0;border:none !important;\" allowfullscreen webkitallowfullscreen mozallowfullscreen></iframe></div></div>"
      ],
      "text/plain": [
       "<folium.folium.Map at 0x1a0c9290350>"
      ]
     },
     "execution_count": 54,
     "metadata": {},
     "output_type": "execute_result"
    }
   ],
   "source": [
    "camden_fatal_df = camden_df[camden_df['Accident_Severity'] == 'Fatal']\n",
    "\n",
    "locations = list(zip(camden_fatal_df['Latitude'], camden_fatal_df['Longitude']))\n",
    "Camden_Map = folium.Map(location = [camden_fatal_df['Latitude'].mean(), camden_fatal_df['Longitude'].mean()], zoom_start=13)\n",
    "HeatMap(locations).add_to(Camden_Map)\n",
    "Camden_Map.save('Camden_heatmap.html')\n",
    "Camden_Map"
   ]
  },
  {
   "cell_type": "markdown",
   "id": "6cd43acd-72af-4fdd-949b-b28fb6ef921f",
   "metadata": {},
   "source": [
    "<h4>Insight: In Camdenn, the fatal accident heatmap highlights clusters around main intersections. These suggest that <b>congested road crossings</b> are the most vulnerable areas. Most accidents in Camden are classified as <b>slight</b>, which means most crashes here don’t lead to very severe injuries. The area has busy roads, so bumps and minor collisions are expected. It shows that while road risks are present, most are not life-threatening.</h4>"
   ]
  },
  {
   "cell_type": "markdown",
   "id": "d5709e20-02f0-430d-a263-53ce363298dc",
   "metadata": {},
   "source": [
    "<h3>27.) How are fatal road accidents distributed across Hackney?</h3>"
   ]
  },
  {
   "cell_type": "code",
   "execution_count": 51,
   "id": "b6681d9d-1215-401e-8a04-ce3015560353",
   "metadata": {},
   "outputs": [],
   "source": [
    "hackney_df = accident[accident['District Area']== 'Hackney']"
   ]
  },
  {
   "cell_type": "code",
   "execution_count": 58,
   "id": "2530f428-8884-4be1-a89f-a1f2d11122f5",
   "metadata": {},
   "outputs": [
    {
     "data": {
      "text/html": [
       "<div style=\"width:100%;\"><div style=\"position:relative;width:100%;height:0;padding-bottom:60%;\"><span style=\"color:#565656\">Make this Notebook Trusted to load map: File -> Trust Notebook</span><iframe srcdoc=\"&lt;!DOCTYPE html&gt;\n",
       "&lt;html&gt;\n",
       "&lt;head&gt;\n",
       "    \n",
       "    &lt;meta http-equiv=&quot;content-type&quot; content=&quot;text/html; charset=UTF-8&quot; /&gt;\n",
       "    &lt;script src=&quot;https://cdn.jsdelivr.net/npm/leaflet@1.9.3/dist/leaflet.js&quot;&gt;&lt;/script&gt;\n",
       "    &lt;script src=&quot;https://code.jquery.com/jquery-3.7.1.min.js&quot;&gt;&lt;/script&gt;\n",
       "    &lt;script src=&quot;https://cdn.jsdelivr.net/npm/bootstrap@5.2.2/dist/js/bootstrap.bundle.min.js&quot;&gt;&lt;/script&gt;\n",
       "    &lt;script src=&quot;https://cdnjs.cloudflare.com/ajax/libs/Leaflet.awesome-markers/2.0.2/leaflet.awesome-markers.js&quot;&gt;&lt;/script&gt;\n",
       "    &lt;link rel=&quot;stylesheet&quot; href=&quot;https://cdn.jsdelivr.net/npm/leaflet@1.9.3/dist/leaflet.css&quot;/&gt;\n",
       "    &lt;link rel=&quot;stylesheet&quot; href=&quot;https://cdn.jsdelivr.net/npm/bootstrap@5.2.2/dist/css/bootstrap.min.css&quot;/&gt;\n",
       "    &lt;link rel=&quot;stylesheet&quot; href=&quot;https://netdna.bootstrapcdn.com/bootstrap/3.0.0/css/bootstrap-glyphicons.css&quot;/&gt;\n",
       "    &lt;link rel=&quot;stylesheet&quot; href=&quot;https://cdn.jsdelivr.net/npm/@fortawesome/fontawesome-free@6.2.0/css/all.min.css&quot;/&gt;\n",
       "    &lt;link rel=&quot;stylesheet&quot; href=&quot;https://cdnjs.cloudflare.com/ajax/libs/Leaflet.awesome-markers/2.0.2/leaflet.awesome-markers.css&quot;/&gt;\n",
       "    &lt;link rel=&quot;stylesheet&quot; href=&quot;https://cdn.jsdelivr.net/gh/python-visualization/folium/folium/templates/leaflet.awesome.rotate.min.css&quot;/&gt;\n",
       "    \n",
       "            &lt;meta name=&quot;viewport&quot; content=&quot;width=device-width,\n",
       "                initial-scale=1.0, maximum-scale=1.0, user-scalable=no&quot; /&gt;\n",
       "            &lt;style&gt;\n",
       "                #map_40d255a0dc77afc6f4fdedbd8856a114 {\n",
       "                    position: relative;\n",
       "                    width: 100.0%;\n",
       "                    height: 100.0%;\n",
       "                    left: 0.0%;\n",
       "                    top: 0.0%;\n",
       "                }\n",
       "                .leaflet-container { font-size: 1rem; }\n",
       "            &lt;/style&gt;\n",
       "\n",
       "            &lt;style&gt;html, body {\n",
       "                width: 100%;\n",
       "                height: 100%;\n",
       "                margin: 0;\n",
       "                padding: 0;\n",
       "            }\n",
       "            &lt;/style&gt;\n",
       "\n",
       "            &lt;style&gt;#map {\n",
       "                position:absolute;\n",
       "                top:0;\n",
       "                bottom:0;\n",
       "                right:0;\n",
       "                left:0;\n",
       "                }\n",
       "            &lt;/style&gt;\n",
       "\n",
       "            &lt;script&gt;\n",
       "                L_NO_TOUCH = false;\n",
       "                L_DISABLE_3D = false;\n",
       "            &lt;/script&gt;\n",
       "\n",
       "        \n",
       "    &lt;script src=&quot;https://cdn.jsdelivr.net/gh/python-visualization/folium@main/folium/templates/leaflet_heat.min.js&quot;&gt;&lt;/script&gt;\n",
       "&lt;/head&gt;\n",
       "&lt;body&gt;\n",
       "    \n",
       "    \n",
       "            &lt;div class=&quot;folium-map&quot; id=&quot;map_40d255a0dc77afc6f4fdedbd8856a114&quot; &gt;&lt;/div&gt;\n",
       "        \n",
       "&lt;/body&gt;\n",
       "&lt;script&gt;\n",
       "    \n",
       "    \n",
       "            var map_40d255a0dc77afc6f4fdedbd8856a114 = L.map(\n",
       "                &quot;map_40d255a0dc77afc6f4fdedbd8856a114&quot;,\n",
       "                {\n",
       "                    center: [51.541371235294115, -0.06635382352941177],\n",
       "                    crs: L.CRS.EPSG3857,\n",
       "                    ...{\n",
       "  &quot;zoom&quot;: 13,\n",
       "  &quot;zoomControl&quot;: true,\n",
       "  &quot;preferCanvas&quot;: false,\n",
       "}\n",
       "\n",
       "                }\n",
       "            );\n",
       "\n",
       "            \n",
       "\n",
       "        \n",
       "    \n",
       "            var tile_layer_26cabc1af90cfcafaba0382aa88eb9bb = L.tileLayer(\n",
       "                &quot;https://tile.openstreetmap.org/{z}/{x}/{y}.png&quot;,\n",
       "                {\n",
       "  &quot;minZoom&quot;: 0,\n",
       "  &quot;maxZoom&quot;: 19,\n",
       "  &quot;maxNativeZoom&quot;: 19,\n",
       "  &quot;noWrap&quot;: false,\n",
       "  &quot;attribution&quot;: &quot;\\u0026copy; \\u003ca href=\\&quot;https://www.openstreetmap.org/copyright\\&quot;\\u003eOpenStreetMap\\u003c/a\\u003e contributors&quot;,\n",
       "  &quot;subdomains&quot;: &quot;abc&quot;,\n",
       "  &quot;detectRetina&quot;: false,\n",
       "  &quot;tms&quot;: false,\n",
       "  &quot;opacity&quot;: 1,\n",
       "}\n",
       "\n",
       "            );\n",
       "        \n",
       "    \n",
       "            tile_layer_26cabc1af90cfcafaba0382aa88eb9bb.addTo(map_40d255a0dc77afc6f4fdedbd8856a114);\n",
       "        \n",
       "    \n",
       "            var heat_map_289a2773b300b10fe82df6f3e0d42891 = L.heatLayer(\n",
       "                [[51.536489, -0.061821], [51.534402, -0.07705], [51.563779, -0.058929], [51.540865, -0.076345], [51.56545, -0.072999], [51.545423, -0.031298], [51.54607, -0.075693], [51.534574, -0.07661], [51.548045, -0.075465], [51.549131, -0.037917], [51.52717, -0.080238], [51.526089, -0.085618], [51.548463, -0.040975], [51.545852, -0.062433], [51.52485, -0.081345], [51.528827, -0.088098], [51.537832, -0.045181]],\n",
       "                {\n",
       "  &quot;minOpacity&quot;: 0.5,\n",
       "  &quot;maxZoom&quot;: 18,\n",
       "  &quot;radius&quot;: 25,\n",
       "  &quot;blur&quot;: 15,\n",
       "}\n",
       "            );\n",
       "        \n",
       "    \n",
       "            heat_map_289a2773b300b10fe82df6f3e0d42891.addTo(map_40d255a0dc77afc6f4fdedbd8856a114);\n",
       "        \n",
       "    \n",
       "            tile_layer_26cabc1af90cfcafaba0382aa88eb9bb.addTo(map_40d255a0dc77afc6f4fdedbd8856a114);\n",
       "        \n",
       "    \n",
       "            heat_map_289a2773b300b10fe82df6f3e0d42891.addTo(map_40d255a0dc77afc6f4fdedbd8856a114);\n",
       "        \n",
       "&lt;/script&gt;\n",
       "&lt;/html&gt;\" style=\"position:absolute;width:100%;height:100%;left:0;top:0;border:none !important;\" allowfullscreen webkitallowfullscreen mozallowfullscreen></iframe></div></div>"
      ],
      "text/plain": [
       "<folium.folium.Map at 0x1a0c9291350>"
      ]
     },
     "execution_count": 58,
     "metadata": {},
     "output_type": "execute_result"
    }
   ],
   "source": [
    "hackney_fatal_df = hackney_df[hackney_df['Accident_Severity'] == 'Fatal']\n",
    "\n",
    "locations = list(zip(hackney_fatal_df['Latitude'], hackney_fatal_df['Longitude']))\n",
    "Hackney_Map = folium.Map(location = [hackney_fatal_df['Latitude'].mean(), hackney_fatal_df['Longitude'].mean()], zoom_start=13)\n",
    "HeatMap(locations).add_to(Hackney_Map)\n",
    "Hackney_Map.save('Hackney_heatmap.html')\n",
    "Hackney_Map"
   ]
  },
  {
   "cell_type": "markdown",
   "id": "9ad47ad7-f83a-480a-92f4-30ae50c0930e",
   "metadata": {},
   "source": [
    "<h4>Insight: Hackney’s accidents are not evenly spread but <b>concentrated along a few roads</b>, pointing to the presence of high-risk corridors where interventions may be needed. Accidents usually happen during <b>daylight hours</b>. This connects to the busy traffic and active streets where pedestrians and vehicles often mix. It highlights how congestion plays a big role in road incidents\n",
    "</h4>"
   ]
  },
  {
   "cell_type": "markdown",
   "id": "59d0b77a-eb85-4188-a858-19c3db70dc98",
   "metadata": {},
   "source": [
    "<h3>28.) Which areas in Islington record the highest concentration of fatal accidents?</h3>"
   ]
  },
  {
   "cell_type": "code",
   "execution_count": 55,
   "id": "7c3054cf-b256-418b-a3a4-e8197864b3c9",
   "metadata": {},
   "outputs": [],
   "source": [
    "islington_df = accident[accident['District Area']== 'Islington']"
   ]
  },
  {
   "cell_type": "code",
   "execution_count": 57,
   "id": "e2306982-5949-41b0-850c-cac061d44a67",
   "metadata": {},
   "outputs": [
    {
     "data": {
      "text/html": [
       "<div style=\"width:100%;\"><div style=\"position:relative;width:100%;height:0;padding-bottom:60%;\"><span style=\"color:#565656\">Make this Notebook Trusted to load map: File -> Trust Notebook</span><iframe srcdoc=\"&lt;!DOCTYPE html&gt;\n",
       "&lt;html&gt;\n",
       "&lt;head&gt;\n",
       "    \n",
       "    &lt;meta http-equiv=&quot;content-type&quot; content=&quot;text/html; charset=UTF-8&quot; /&gt;\n",
       "    &lt;script src=&quot;https://cdn.jsdelivr.net/npm/leaflet@1.9.3/dist/leaflet.js&quot;&gt;&lt;/script&gt;\n",
       "    &lt;script src=&quot;https://code.jquery.com/jquery-3.7.1.min.js&quot;&gt;&lt;/script&gt;\n",
       "    &lt;script src=&quot;https://cdn.jsdelivr.net/npm/bootstrap@5.2.2/dist/js/bootstrap.bundle.min.js&quot;&gt;&lt;/script&gt;\n",
       "    &lt;script src=&quot;https://cdnjs.cloudflare.com/ajax/libs/Leaflet.awesome-markers/2.0.2/leaflet.awesome-markers.js&quot;&gt;&lt;/script&gt;\n",
       "    &lt;link rel=&quot;stylesheet&quot; href=&quot;https://cdn.jsdelivr.net/npm/leaflet@1.9.3/dist/leaflet.css&quot;/&gt;\n",
       "    &lt;link rel=&quot;stylesheet&quot; href=&quot;https://cdn.jsdelivr.net/npm/bootstrap@5.2.2/dist/css/bootstrap.min.css&quot;/&gt;\n",
       "    &lt;link rel=&quot;stylesheet&quot; href=&quot;https://netdna.bootstrapcdn.com/bootstrap/3.0.0/css/bootstrap-glyphicons.css&quot;/&gt;\n",
       "    &lt;link rel=&quot;stylesheet&quot; href=&quot;https://cdn.jsdelivr.net/npm/@fortawesome/fontawesome-free@6.2.0/css/all.min.css&quot;/&gt;\n",
       "    &lt;link rel=&quot;stylesheet&quot; href=&quot;https://cdnjs.cloudflare.com/ajax/libs/Leaflet.awesome-markers/2.0.2/leaflet.awesome-markers.css&quot;/&gt;\n",
       "    &lt;link rel=&quot;stylesheet&quot; href=&quot;https://cdn.jsdelivr.net/gh/python-visualization/folium/folium/templates/leaflet.awesome.rotate.min.css&quot;/&gt;\n",
       "    \n",
       "            &lt;meta name=&quot;viewport&quot; content=&quot;width=device-width,\n",
       "                initial-scale=1.0, maximum-scale=1.0, user-scalable=no&quot; /&gt;\n",
       "            &lt;style&gt;\n",
       "                #map_15a2103bb39b5c9a2a323f972939765d {\n",
       "                    position: relative;\n",
       "                    width: 100.0%;\n",
       "                    height: 100.0%;\n",
       "                    left: 0.0%;\n",
       "                    top: 0.0%;\n",
       "                }\n",
       "                .leaflet-container { font-size: 1rem; }\n",
       "            &lt;/style&gt;\n",
       "\n",
       "            &lt;style&gt;html, body {\n",
       "                width: 100%;\n",
       "                height: 100%;\n",
       "                margin: 0;\n",
       "                padding: 0;\n",
       "            }\n",
       "            &lt;/style&gt;\n",
       "\n",
       "            &lt;style&gt;#map {\n",
       "                position:absolute;\n",
       "                top:0;\n",
       "                bottom:0;\n",
       "                right:0;\n",
       "                left:0;\n",
       "                }\n",
       "            &lt;/style&gt;\n",
       "\n",
       "            &lt;script&gt;\n",
       "                L_NO_TOUCH = false;\n",
       "                L_DISABLE_3D = false;\n",
       "            &lt;/script&gt;\n",
       "\n",
       "        \n",
       "    &lt;script src=&quot;https://cdn.jsdelivr.net/gh/python-visualization/folium@main/folium/templates/leaflet_heat.min.js&quot;&gt;&lt;/script&gt;\n",
       "&lt;/head&gt;\n",
       "&lt;body&gt;\n",
       "    \n",
       "    \n",
       "            &lt;div class=&quot;folium-map&quot; id=&quot;map_15a2103bb39b5c9a2a323f972939765d&quot; &gt;&lt;/div&gt;\n",
       "        \n",
       "&lt;/body&gt;\n",
       "&lt;script&gt;\n",
       "    \n",
       "    \n",
       "            var map_15a2103bb39b5c9a2a323f972939765d = L.map(\n",
       "                &quot;map_15a2103bb39b5c9a2a323f972939765d&quot;,\n",
       "                {\n",
       "                    center: [51.551664625, -0.11466681249999999],\n",
       "                    crs: L.CRS.EPSG3857,\n",
       "                    ...{\n",
       "  &quot;zoom&quot;: 13,\n",
       "  &quot;zoomControl&quot;: true,\n",
       "  &quot;preferCanvas&quot;: false,\n",
       "}\n",
       "\n",
       "                }\n",
       "            );\n",
       "\n",
       "            \n",
       "\n",
       "        \n",
       "    \n",
       "            var tile_layer_556a484a5eede621d4197474082240e9 = L.tileLayer(\n",
       "                &quot;https://tile.openstreetmap.org/{z}/{x}/{y}.png&quot;,\n",
       "                {\n",
       "  &quot;minZoom&quot;: 0,\n",
       "  &quot;maxZoom&quot;: 19,\n",
       "  &quot;maxNativeZoom&quot;: 19,\n",
       "  &quot;noWrap&quot;: false,\n",
       "  &quot;attribution&quot;: &quot;\\u0026copy; \\u003ca href=\\&quot;https://www.openstreetmap.org/copyright\\&quot;\\u003eOpenStreetMap\\u003c/a\\u003e contributors&quot;,\n",
       "  &quot;subdomains&quot;: &quot;abc&quot;,\n",
       "  &quot;detectRetina&quot;: false,\n",
       "  &quot;tms&quot;: false,\n",
       "  &quot;opacity&quot;: 1,\n",
       "}\n",
       "\n",
       "            );\n",
       "        \n",
       "    \n",
       "            tile_layer_556a484a5eede621d4197474082240e9.addTo(map_15a2103bb39b5c9a2a323f972939765d);\n",
       "        \n",
       "    \n",
       "            var heat_map_18c23937628769e87e14a50aea932e55 = L.heatLayer(\n",
       "                [[51.553212, -0.133668], [51.566106, -0.135882], [51.556794, -0.138427], [51.531228, -0.114238], [51.564006, -0.105812], [51.560634, -0.114176], [51.563231, -0.102382], [51.546949, -0.090944], [51.572874, -0.120452], [51.549111, -0.107874], [51.53432, -0.105171], [51.523149, -0.098427], [51.555053, -0.119456], [51.562869, -0.13587], [51.527861, -0.095059], [51.559237, -0.116831]],\n",
       "                {\n",
       "  &quot;minOpacity&quot;: 0.5,\n",
       "  &quot;maxZoom&quot;: 18,\n",
       "  &quot;radius&quot;: 25,\n",
       "  &quot;blur&quot;: 15,\n",
       "}\n",
       "            );\n",
       "        \n",
       "    \n",
       "            heat_map_18c23937628769e87e14a50aea932e55.addTo(map_15a2103bb39b5c9a2a323f972939765d);\n",
       "        \n",
       "    \n",
       "            tile_layer_556a484a5eede621d4197474082240e9.addTo(map_15a2103bb39b5c9a2a323f972939765d);\n",
       "        \n",
       "    \n",
       "            heat_map_18c23937628769e87e14a50aea932e55.addTo(map_15a2103bb39b5c9a2a323f972939765d);\n",
       "        \n",
       "&lt;/script&gt;\n",
       "&lt;/html&gt;\" style=\"position:absolute;width:100%;height:100%;left:0;top:0;border:none !important;\" allowfullscreen webkitallowfullscreen mozallowfullscreen></iframe></div></div>"
      ],
      "text/plain": [
       "<folium.folium.Map at 0x1a0c9291050>"
      ]
     },
     "execution_count": 57,
     "metadata": {},
     "output_type": "execute_result"
    }
   ],
   "source": [
    "islington_fatal_df = islington_df[islington_df['Accident_Severity'] == 'Fatal']\n",
    "\n",
    "locations = list(zip(islington_fatal_df['Latitude'], islington_fatal_df['Longitude']))\n",
    "Islington_Map = folium.Map(location = [islington_fatal_df['Latitude'].mean(), islington_fatal_df['Longitude'].mean()], zoom_start=13)\n",
    "HeatMap(locations).add_to(Islington_Map)\n",
    "Islington_Map.save('Islington_heatmap.html')\n",
    "Islington_Map"
   ]
  },
  {
   "cell_type": "markdown",
   "id": "e8a8430b-94ac-49d8-8c0a-554023646ab6",
   "metadata": {},
   "source": [
    "<h4>Insight: Fatal crashes in Islington are seen mostly <b>near busy junctions</b>, suggesting intersections are risk-prone compared to quieter residential streets. The data in Islington shows that <b>slight accidents</b> make up the largest portion. The area’s crowded streets and intersections may contribute to these frequent minor collisions. It suggests that although accidents happen, they are not usually very serious.</h4>"
   ]
  },
  {
   "cell_type": "markdown",
   "id": "a283d5db-9daf-400b-a1cf-917e41e0c33e",
   "metadata": {},
   "source": [
    "<h3>29.) Do fatal accidents in Greenwich tend to occur in specific road types or locations?</h3>"
   ]
  },
  {
   "cell_type": "code",
   "execution_count": 59,
   "id": "5d1bb29d-cff7-491c-a96a-6351b664df9f",
   "metadata": {},
   "outputs": [],
   "source": [
    "greenwich_df = accident[accident['District Area']== 'Greenwich']"
   ]
  },
  {
   "cell_type": "code",
   "execution_count": 61,
   "id": "1a4a1dfa-00bd-4b6c-bee8-6ee283ad46b5",
   "metadata": {},
   "outputs": [
    {
     "data": {
      "text/html": [
       "<div style=\"width:100%;\"><div style=\"position:relative;width:100%;height:0;padding-bottom:60%;\"><span style=\"color:#565656\">Make this Notebook Trusted to load map: File -> Trust Notebook</span><iframe srcdoc=\"&lt;!DOCTYPE html&gt;\n",
       "&lt;html&gt;\n",
       "&lt;head&gt;\n",
       "    \n",
       "    &lt;meta http-equiv=&quot;content-type&quot; content=&quot;text/html; charset=UTF-8&quot; /&gt;\n",
       "    &lt;script src=&quot;https://cdn.jsdelivr.net/npm/leaflet@1.9.3/dist/leaflet.js&quot;&gt;&lt;/script&gt;\n",
       "    &lt;script src=&quot;https://code.jquery.com/jquery-3.7.1.min.js&quot;&gt;&lt;/script&gt;\n",
       "    &lt;script src=&quot;https://cdn.jsdelivr.net/npm/bootstrap@5.2.2/dist/js/bootstrap.bundle.min.js&quot;&gt;&lt;/script&gt;\n",
       "    &lt;script src=&quot;https://cdnjs.cloudflare.com/ajax/libs/Leaflet.awesome-markers/2.0.2/leaflet.awesome-markers.js&quot;&gt;&lt;/script&gt;\n",
       "    &lt;link rel=&quot;stylesheet&quot; href=&quot;https://cdn.jsdelivr.net/npm/leaflet@1.9.3/dist/leaflet.css&quot;/&gt;\n",
       "    &lt;link rel=&quot;stylesheet&quot; href=&quot;https://cdn.jsdelivr.net/npm/bootstrap@5.2.2/dist/css/bootstrap.min.css&quot;/&gt;\n",
       "    &lt;link rel=&quot;stylesheet&quot; href=&quot;https://netdna.bootstrapcdn.com/bootstrap/3.0.0/css/bootstrap-glyphicons.css&quot;/&gt;\n",
       "    &lt;link rel=&quot;stylesheet&quot; href=&quot;https://cdn.jsdelivr.net/npm/@fortawesome/fontawesome-free@6.2.0/css/all.min.css&quot;/&gt;\n",
       "    &lt;link rel=&quot;stylesheet&quot; href=&quot;https://cdnjs.cloudflare.com/ajax/libs/Leaflet.awesome-markers/2.0.2/leaflet.awesome-markers.css&quot;/&gt;\n",
       "    &lt;link rel=&quot;stylesheet&quot; href=&quot;https://cdn.jsdelivr.net/gh/python-visualization/folium/folium/templates/leaflet.awesome.rotate.min.css&quot;/&gt;\n",
       "    \n",
       "            &lt;meta name=&quot;viewport&quot; content=&quot;width=device-width,\n",
       "                initial-scale=1.0, maximum-scale=1.0, user-scalable=no&quot; /&gt;\n",
       "            &lt;style&gt;\n",
       "                #map_fb7e379fef0e732fd37c8f6e886f0d5a {\n",
       "                    position: relative;\n",
       "                    width: 100.0%;\n",
       "                    height: 100.0%;\n",
       "                    left: 0.0%;\n",
       "                    top: 0.0%;\n",
       "                }\n",
       "                .leaflet-container { font-size: 1rem; }\n",
       "            &lt;/style&gt;\n",
       "\n",
       "            &lt;style&gt;html, body {\n",
       "                width: 100%;\n",
       "                height: 100%;\n",
       "                margin: 0;\n",
       "                padding: 0;\n",
       "            }\n",
       "            &lt;/style&gt;\n",
       "\n",
       "            &lt;style&gt;#map {\n",
       "                position:absolute;\n",
       "                top:0;\n",
       "                bottom:0;\n",
       "                right:0;\n",
       "                left:0;\n",
       "                }\n",
       "            &lt;/style&gt;\n",
       "\n",
       "            &lt;script&gt;\n",
       "                L_NO_TOUCH = false;\n",
       "                L_DISABLE_3D = false;\n",
       "            &lt;/script&gt;\n",
       "\n",
       "        \n",
       "    &lt;script src=&quot;https://cdn.jsdelivr.net/gh/python-visualization/folium@main/folium/templates/leaflet_heat.min.js&quot;&gt;&lt;/script&gt;\n",
       "&lt;/head&gt;\n",
       "&lt;body&gt;\n",
       "    \n",
       "    \n",
       "            &lt;div class=&quot;folium-map&quot; id=&quot;map_fb7e379fef0e732fd37c8f6e886f0d5a&quot; &gt;&lt;/div&gt;\n",
       "        \n",
       "&lt;/body&gt;\n",
       "&lt;script&gt;\n",
       "    \n",
       "    \n",
       "            var map_fb7e379fef0e732fd37c8f6e886f0d5a = L.map(\n",
       "                &quot;map_fb7e379fef0e732fd37c8f6e886f0d5a&quot;,\n",
       "                {\n",
       "                    center: [51.470918870967736, 0.047272935483870966],\n",
       "                    crs: L.CRS.EPSG3857,\n",
       "                    ...{\n",
       "  &quot;zoom&quot;: 13,\n",
       "  &quot;zoomControl&quot;: true,\n",
       "  &quot;preferCanvas&quot;: false,\n",
       "}\n",
       "\n",
       "                }\n",
       "            );\n",
       "\n",
       "            \n",
       "\n",
       "        \n",
       "    \n",
       "            var tile_layer_dafb72bd561817213143e6bea0359039 = L.tileLayer(\n",
       "                &quot;https://tile.openstreetmap.org/{z}/{x}/{y}.png&quot;,\n",
       "                {\n",
       "  &quot;minZoom&quot;: 0,\n",
       "  &quot;maxZoom&quot;: 19,\n",
       "  &quot;maxNativeZoom&quot;: 19,\n",
       "  &quot;noWrap&quot;: false,\n",
       "  &quot;attribution&quot;: &quot;\\u0026copy; \\u003ca href=\\&quot;https://www.openstreetmap.org/copyright\\&quot;\\u003eOpenStreetMap\\u003c/a\\u003e contributors&quot;,\n",
       "  &quot;subdomains&quot;: &quot;abc&quot;,\n",
       "  &quot;detectRetina&quot;: false,\n",
       "  &quot;tms&quot;: false,\n",
       "  &quot;opacity&quot;: 1,\n",
       "}\n",
       "\n",
       "            );\n",
       "        \n",
       "    \n",
       "            tile_layer_dafb72bd561817213143e6bea0359039.addTo(map_fb7e379fef0e732fd37c8f6e886f0d5a);\n",
       "        \n",
       "    \n",
       "            var heat_map_d6beb8e82c321a76db0e0853328a9457 = L.heatLayer(\n",
       "                [[51.493574, 0.116149], [51.463795, 0.035587], [51.434799, 0.063505], [51.476562, -0.000855], [51.487181, 0.024961], [51.496016, 0.002733], [51.455125, 0.01692], [51.441956, 0.024398], [51.471614, 0.051342], [51.482672, 0.046365], [51.449911, 0.058141], [51.452602, 0.027604], [51.473827, -0.01451], [51.501933, 0.116392], [51.477049, 0.023216], [51.487896, 0.061292], [51.467171, 0.078931], [51.487638, 0.091098], [51.462101, 0.050196], [51.451642, 0.067143], [51.493123, 0.121171], [51.486681, 0.017448], [51.495792, 0.087725], [51.452113, 0.035067], [51.48586, 0.007617], [51.481245, 0.101608], [51.44598, 0.030908], [51.480788, -0.021985], [51.477203, 0.019478], [51.443268, 0.052374], [51.441368, 0.073442]],\n",
       "                {\n",
       "  &quot;minOpacity&quot;: 0.5,\n",
       "  &quot;maxZoom&quot;: 18,\n",
       "  &quot;radius&quot;: 25,\n",
       "  &quot;blur&quot;: 15,\n",
       "}\n",
       "            );\n",
       "        \n",
       "    \n",
       "            heat_map_d6beb8e82c321a76db0e0853328a9457.addTo(map_fb7e379fef0e732fd37c8f6e886f0d5a);\n",
       "        \n",
       "    \n",
       "            tile_layer_dafb72bd561817213143e6bea0359039.addTo(map_fb7e379fef0e732fd37c8f6e886f0d5a);\n",
       "        \n",
       "    \n",
       "            heat_map_d6beb8e82c321a76db0e0853328a9457.addTo(map_fb7e379fef0e732fd37c8f6e886f0d5a);\n",
       "        \n",
       "&lt;/script&gt;\n",
       "&lt;/html&gt;\" style=\"position:absolute;width:100%;height:100%;left:0;top:0;border:none !important;\" allowfullscreen webkitallowfullscreen mozallowfullscreen></iframe></div></div>"
      ],
      "text/plain": [
       "<folium.folium.Map at 0x1a0c9291950>"
      ]
     },
     "execution_count": 61,
     "metadata": {},
     "output_type": "execute_result"
    }
   ],
   "source": [
    "greenwich_fatal_df = greenwich_df[greenwich_df['Accident_Severity'] == 'Fatal']\n",
    "\n",
    "locations = list(zip(greenwich_fatal_df['Latitude'], greenwich_fatal_df['Longitude']))\n",
    "Greenwich_Map = folium.Map(location = [greenwich_fatal_df['Latitude'].mean(), greenwich_fatal_df['Longitude'].mean()], zoom_start=13)\n",
    "HeatMap(locations).add_to(Greenwich_Map)\n",
    "Greenwich_Map.save('Greenwich_heatmap.html')\n",
    "Greenwich_Map"
   ]
  },
  {
   "cell_type": "markdown",
   "id": "3e78eaae-7dcc-4696-8172-8a2016402aca",
   "metadata": {},
   "source": [
    "<h4>Insights: The Greenwich heatmap shows accident clusters mostly along <b>major highways</b>, where vehicle speed tends to be higher, increasing the severity of crashes. Most accidents in Greenwich occur in <b>daylight</b> conditions. This may be due to heavy commuting patterns and road activity during the day. It reflects how traffic flow greatly influences accident numbers.</h4>"
   ]
  },
  {
   "cell_type": "markdown",
   "id": "35b4cc1a-6edb-4c8f-b869-f01ec167c7e0",
   "metadata": {},
   "source": [
    "<h3>30.) What patterns can be observed in the fatal accidents recorded in Westminster?</h3>"
   ]
  },
  {
   "cell_type": "code",
   "execution_count": 63,
   "id": "4e8f45e7-43f5-4cf5-ab8f-2c0839a6bb3a",
   "metadata": {},
   "outputs": [],
   "source": [
    "westminster_df = accident[accident['District Area']== 'Westminster']"
   ]
  },
  {
   "cell_type": "code",
   "execution_count": 64,
   "id": "a1e19a45-7cf7-4868-b97a-596bb5b4dfd3",
   "metadata": {},
   "outputs": [
    {
     "data": {
      "text/html": [
       "<div style=\"width:100%;\"><div style=\"position:relative;width:100%;height:0;padding-bottom:60%;\"><span style=\"color:#565656\">Make this Notebook Trusted to load map: File -> Trust Notebook</span><iframe srcdoc=\"&lt;!DOCTYPE html&gt;\n",
       "&lt;html&gt;\n",
       "&lt;head&gt;\n",
       "    \n",
       "    &lt;meta http-equiv=&quot;content-type&quot; content=&quot;text/html; charset=UTF-8&quot; /&gt;\n",
       "    &lt;script src=&quot;https://cdn.jsdelivr.net/npm/leaflet@1.9.3/dist/leaflet.js&quot;&gt;&lt;/script&gt;\n",
       "    &lt;script src=&quot;https://code.jquery.com/jquery-3.7.1.min.js&quot;&gt;&lt;/script&gt;\n",
       "    &lt;script src=&quot;https://cdn.jsdelivr.net/npm/bootstrap@5.2.2/dist/js/bootstrap.bundle.min.js&quot;&gt;&lt;/script&gt;\n",
       "    &lt;script src=&quot;https://cdnjs.cloudflare.com/ajax/libs/Leaflet.awesome-markers/2.0.2/leaflet.awesome-markers.js&quot;&gt;&lt;/script&gt;\n",
       "    &lt;link rel=&quot;stylesheet&quot; href=&quot;https://cdn.jsdelivr.net/npm/leaflet@1.9.3/dist/leaflet.css&quot;/&gt;\n",
       "    &lt;link rel=&quot;stylesheet&quot; href=&quot;https://cdn.jsdelivr.net/npm/bootstrap@5.2.2/dist/css/bootstrap.min.css&quot;/&gt;\n",
       "    &lt;link rel=&quot;stylesheet&quot; href=&quot;https://netdna.bootstrapcdn.com/bootstrap/3.0.0/css/bootstrap-glyphicons.css&quot;/&gt;\n",
       "    &lt;link rel=&quot;stylesheet&quot; href=&quot;https://cdn.jsdelivr.net/npm/@fortawesome/fontawesome-free@6.2.0/css/all.min.css&quot;/&gt;\n",
       "    &lt;link rel=&quot;stylesheet&quot; href=&quot;https://cdnjs.cloudflare.com/ajax/libs/Leaflet.awesome-markers/2.0.2/leaflet.awesome-markers.css&quot;/&gt;\n",
       "    &lt;link rel=&quot;stylesheet&quot; href=&quot;https://cdn.jsdelivr.net/gh/python-visualization/folium/folium/templates/leaflet.awesome.rotate.min.css&quot;/&gt;\n",
       "    \n",
       "            &lt;meta name=&quot;viewport&quot; content=&quot;width=device-width,\n",
       "                initial-scale=1.0, maximum-scale=1.0, user-scalable=no&quot; /&gt;\n",
       "            &lt;style&gt;\n",
       "                #map_7477a2668ab7f9b0538b094f75c7aa12 {\n",
       "                    position: relative;\n",
       "                    width: 100.0%;\n",
       "                    height: 100.0%;\n",
       "                    left: 0.0%;\n",
       "                    top: 0.0%;\n",
       "                }\n",
       "                .leaflet-container { font-size: 1rem; }\n",
       "            &lt;/style&gt;\n",
       "\n",
       "            &lt;style&gt;html, body {\n",
       "                width: 100%;\n",
       "                height: 100%;\n",
       "                margin: 0;\n",
       "                padding: 0;\n",
       "            }\n",
       "            &lt;/style&gt;\n",
       "\n",
       "            &lt;style&gt;#map {\n",
       "                position:absolute;\n",
       "                top:0;\n",
       "                bottom:0;\n",
       "                right:0;\n",
       "                left:0;\n",
       "                }\n",
       "            &lt;/style&gt;\n",
       "\n",
       "            &lt;script&gt;\n",
       "                L_NO_TOUCH = false;\n",
       "                L_DISABLE_3D = false;\n",
       "            &lt;/script&gt;\n",
       "\n",
       "        \n",
       "    &lt;script src=&quot;https://cdn.jsdelivr.net/gh/python-visualization/folium@main/folium/templates/leaflet_heat.min.js&quot;&gt;&lt;/script&gt;\n",
       "&lt;/head&gt;\n",
       "&lt;body&gt;\n",
       "    \n",
       "    \n",
       "            &lt;div class=&quot;folium-map&quot; id=&quot;map_7477a2668ab7f9b0538b094f75c7aa12&quot; &gt;&lt;/div&gt;\n",
       "        \n",
       "&lt;/body&gt;\n",
       "&lt;script&gt;\n",
       "    \n",
       "    \n",
       "            var map_7477a2668ab7f9b0538b094f75c7aa12 = L.map(\n",
       "                &quot;map_7477a2668ab7f9b0538b094f75c7aa12&quot;,\n",
       "                {\n",
       "                    center: [51.51003588636363, -0.15390645454545454],\n",
       "                    crs: L.CRS.EPSG3857,\n",
       "                    ...{\n",
       "  &quot;zoom&quot;: 13,\n",
       "  &quot;zoomControl&quot;: true,\n",
       "  &quot;preferCanvas&quot;: false,\n",
       "}\n",
       "\n",
       "                }\n",
       "            );\n",
       "\n",
       "            \n",
       "\n",
       "        \n",
       "    \n",
       "            var tile_layer_6c3504d02bf8c0b0fcccaee6b10b9885 = L.tileLayer(\n",
       "                &quot;https://tile.openstreetmap.org/{z}/{x}/{y}.png&quot;,\n",
       "                {\n",
       "  &quot;minZoom&quot;: 0,\n",
       "  &quot;maxZoom&quot;: 19,\n",
       "  &quot;maxNativeZoom&quot;: 19,\n",
       "  &quot;noWrap&quot;: false,\n",
       "  &quot;attribution&quot;: &quot;\\u0026copy; \\u003ca href=\\&quot;https://www.openstreetmap.org/copyright\\&quot;\\u003eOpenStreetMap\\u003c/a\\u003e contributors&quot;,\n",
       "  &quot;subdomains&quot;: &quot;abc&quot;,\n",
       "  &quot;detectRetina&quot;: false,\n",
       "  &quot;tms&quot;: false,\n",
       "  &quot;opacity&quot;: 1,\n",
       "}\n",
       "\n",
       "            );\n",
       "        \n",
       "    \n",
       "            tile_layer_6c3504d02bf8c0b0fcccaee6b10b9885.addTo(map_7477a2668ab7f9b0538b094f75c7aa12);\n",
       "        \n",
       "    \n",
       "            var heat_map_65bffd47592fee1059a38ee37b50480d = L.heatLayer(\n",
       "                [[51.488756, -0.129388], [51.490156, -0.132644], [51.518039, -0.155719], [51.498031, -0.147162], [51.519838, -0.172943], [51.501769, -0.167614], [51.513223, -0.158219], [51.515823, -0.174978], [51.512453, -0.149315], [51.503803, -0.148224], [51.505983, -0.126953], [51.521554, -0.161919], [51.49267, -0.138015], [51.532254, -0.190757], [51.510315, -0.185141], [51.514176, -0.16164], [51.502418, -0.145975], [51.51482, -0.145471], [51.502874, -0.123766], [51.526027, -0.195185], [51.517694, -0.168128], [51.512082, -0.131603], [51.496912, -0.138995], [51.515622, -0.179454], [51.537364, -0.183921], [51.51391, -0.156174], [51.520624, -0.165704], [51.488847, -0.135146], [51.502367, -0.148427], [51.514573, -0.146923], [51.521524, -0.200552], [51.521306, -0.19811], [51.514132, -0.141752], [51.502076, -0.158524], [51.515205, -0.193162], [51.514576, -0.147067], [51.509541, -0.118881], [51.502709, -0.153024], [51.507783, -0.127023], [51.510887, -0.141308], [51.507785, -0.127167], [51.516228, -0.132154], [51.489327, -0.131381], [51.503523, -0.136276]],\n",
       "                {\n",
       "  &quot;minOpacity&quot;: 0.5,\n",
       "  &quot;maxZoom&quot;: 18,\n",
       "  &quot;radius&quot;: 25,\n",
       "  &quot;blur&quot;: 15,\n",
       "}\n",
       "            );\n",
       "        \n",
       "    \n",
       "            heat_map_65bffd47592fee1059a38ee37b50480d.addTo(map_7477a2668ab7f9b0538b094f75c7aa12);\n",
       "        \n",
       "    \n",
       "            tile_layer_6c3504d02bf8c0b0fcccaee6b10b9885.addTo(map_7477a2668ab7f9b0538b094f75c7aa12);\n",
       "        \n",
       "    \n",
       "            heat_map_65bffd47592fee1059a38ee37b50480d.addTo(map_7477a2668ab7f9b0538b094f75c7aa12);\n",
       "        \n",
       "&lt;/script&gt;\n",
       "&lt;/html&gt;\" style=\"position:absolute;width:100%;height:100%;left:0;top:0;border:none !important;\" allowfullscreen webkitallowfullscreen mozallowfullscreen></iframe></div></div>"
      ],
      "text/plain": [
       "<folium.folium.Map at 0x1a0c9292150>"
      ]
     },
     "execution_count": 64,
     "metadata": {},
     "output_type": "execute_result"
    }
   ],
   "source": [
    "westminster_fatal_df = westminster_df[westminster_df['Accident_Severity'] == 'Fatal']\n",
    "\n",
    "locations = list(zip(westminster_fatal_df['Latitude'], westminster_fatal_df['Longitude']))\n",
    "Westminster_Map = folium.Map(location = [westminster_fatal_df['Latitude'].mean(), westminster_fatal_df['Longitude'].mean()], zoom_start=13)\n",
    "HeatMap(locations).add_to(Westminster_Map)\n",
    "Westminster_Map.save('Westminster_heatmap.html')\n",
    "Westminster_Map"
   ]
  },
  {
   "cell_type": "markdown",
   "id": "86c75f7b-6941-40da-b2b4-bfcabc93888c",
   "metadata": {},
   "source": [
    "<h4>Insight: In Westminster, clusters of fatal accidents appear close to <b>city centers and tourist areas</b>, showing that high pedestrian and vehicle interaction may contribute to risks.</h4>"
   ]
  },
  {
   "cell_type": "markdown",
   "id": "2628d4a3-c9d6-4eb5-ba42-544b8d8e5d60",
   "metadata": {},
   "source": [
    "<h3>31.) How concentrated are fatal accidents within Southwark, and where are the main hotspots?</h3>"
   ]
  },
  {
   "cell_type": "code",
   "execution_count": 65,
   "id": "35dadcb0-33c3-435a-9d7e-87fc76873e1f",
   "metadata": {},
   "outputs": [],
   "source": [
    "southwark_df = accident[accident['District Area']== 'Southwark']"
   ]
  },
  {
   "cell_type": "code",
   "execution_count": 68,
   "id": "35398531-64b5-4466-8289-94616ad826c8",
   "metadata": {},
   "outputs": [
    {
     "data": {
      "text/html": [
       "<div style=\"width:100%;\"><div style=\"position:relative;width:100%;height:0;padding-bottom:60%;\"><span style=\"color:#565656\">Make this Notebook Trusted to load map: File -> Trust Notebook</span><iframe srcdoc=\"&lt;!DOCTYPE html&gt;\n",
       "&lt;html&gt;\n",
       "&lt;head&gt;\n",
       "    \n",
       "    &lt;meta http-equiv=&quot;content-type&quot; content=&quot;text/html; charset=UTF-8&quot; /&gt;\n",
       "    &lt;script src=&quot;https://cdn.jsdelivr.net/npm/leaflet@1.9.3/dist/leaflet.js&quot;&gt;&lt;/script&gt;\n",
       "    &lt;script src=&quot;https://code.jquery.com/jquery-3.7.1.min.js&quot;&gt;&lt;/script&gt;\n",
       "    &lt;script src=&quot;https://cdn.jsdelivr.net/npm/bootstrap@5.2.2/dist/js/bootstrap.bundle.min.js&quot;&gt;&lt;/script&gt;\n",
       "    &lt;script src=&quot;https://cdnjs.cloudflare.com/ajax/libs/Leaflet.awesome-markers/2.0.2/leaflet.awesome-markers.js&quot;&gt;&lt;/script&gt;\n",
       "    &lt;link rel=&quot;stylesheet&quot; href=&quot;https://cdn.jsdelivr.net/npm/leaflet@1.9.3/dist/leaflet.css&quot;/&gt;\n",
       "    &lt;link rel=&quot;stylesheet&quot; href=&quot;https://cdn.jsdelivr.net/npm/bootstrap@5.2.2/dist/css/bootstrap.min.css&quot;/&gt;\n",
       "    &lt;link rel=&quot;stylesheet&quot; href=&quot;https://netdna.bootstrapcdn.com/bootstrap/3.0.0/css/bootstrap-glyphicons.css&quot;/&gt;\n",
       "    &lt;link rel=&quot;stylesheet&quot; href=&quot;https://cdn.jsdelivr.net/npm/@fortawesome/fontawesome-free@6.2.0/css/all.min.css&quot;/&gt;\n",
       "    &lt;link rel=&quot;stylesheet&quot; href=&quot;https://cdnjs.cloudflare.com/ajax/libs/Leaflet.awesome-markers/2.0.2/leaflet.awesome-markers.css&quot;/&gt;\n",
       "    &lt;link rel=&quot;stylesheet&quot; href=&quot;https://cdn.jsdelivr.net/gh/python-visualization/folium/folium/templates/leaflet.awesome.rotate.min.css&quot;/&gt;\n",
       "    \n",
       "            &lt;meta name=&quot;viewport&quot; content=&quot;width=device-width,\n",
       "                initial-scale=1.0, maximum-scale=1.0, user-scalable=no&quot; /&gt;\n",
       "            &lt;style&gt;\n",
       "                #map_9c2df4b87af03e5610bfd8c163e8e91e {\n",
       "                    position: relative;\n",
       "                    width: 100.0%;\n",
       "                    height: 100.0%;\n",
       "                    left: 0.0%;\n",
       "                    top: 0.0%;\n",
       "                }\n",
       "                .leaflet-container { font-size: 1rem; }\n",
       "            &lt;/style&gt;\n",
       "\n",
       "            &lt;style&gt;html, body {\n",
       "                width: 100%;\n",
       "                height: 100%;\n",
       "                margin: 0;\n",
       "                padding: 0;\n",
       "            }\n",
       "            &lt;/style&gt;\n",
       "\n",
       "            &lt;style&gt;#map {\n",
       "                position:absolute;\n",
       "                top:0;\n",
       "                bottom:0;\n",
       "                right:0;\n",
       "                left:0;\n",
       "                }\n",
       "            &lt;/style&gt;\n",
       "\n",
       "            &lt;script&gt;\n",
       "                L_NO_TOUCH = false;\n",
       "                L_DISABLE_3D = false;\n",
       "            &lt;/script&gt;\n",
       "\n",
       "        \n",
       "    &lt;script src=&quot;https://cdn.jsdelivr.net/gh/python-visualization/folium@main/folium/templates/leaflet_heat.min.js&quot;&gt;&lt;/script&gt;\n",
       "&lt;/head&gt;\n",
       "&lt;body&gt;\n",
       "    \n",
       "    \n",
       "            &lt;div class=&quot;folium-map&quot; id=&quot;map_9c2df4b87af03e5610bfd8c163e8e91e&quot; &gt;&lt;/div&gt;\n",
       "        \n",
       "&lt;/body&gt;\n",
       "&lt;script&gt;\n",
       "    \n",
       "    \n",
       "            var map_9c2df4b87af03e5610bfd8c163e8e91e = L.map(\n",
       "                &quot;map_9c2df4b87af03e5610bfd8c163e8e91e&quot;,\n",
       "                {\n",
       "                    center: [51.481367, -0.08459144444444446],\n",
       "                    crs: L.CRS.EPSG3857,\n",
       "                    ...{\n",
       "  &quot;zoom&quot;: 13,\n",
       "  &quot;zoomControl&quot;: true,\n",
       "  &quot;preferCanvas&quot;: false,\n",
       "}\n",
       "\n",
       "                }\n",
       "            );\n",
       "\n",
       "            \n",
       "\n",
       "        \n",
       "    \n",
       "            var tile_layer_5d60c516ec034f4bccc68626001059ee = L.tileLayer(\n",
       "                &quot;https://tile.openstreetmap.org/{z}/{x}/{y}.png&quot;,\n",
       "                {\n",
       "  &quot;minZoom&quot;: 0,\n",
       "  &quot;maxZoom&quot;: 19,\n",
       "  &quot;maxNativeZoom&quot;: 19,\n",
       "  &quot;noWrap&quot;: false,\n",
       "  &quot;attribution&quot;: &quot;\\u0026copy; \\u003ca href=\\&quot;https://www.openstreetmap.org/copyright\\&quot;\\u003eOpenStreetMap\\u003c/a\\u003e contributors&quot;,\n",
       "  &quot;subdomains&quot;: &quot;abc&quot;,\n",
       "  &quot;detectRetina&quot;: false,\n",
       "  &quot;tms&quot;: false,\n",
       "  &quot;opacity&quot;: 1,\n",
       "}\n",
       "\n",
       "            );\n",
       "        \n",
       "    \n",
       "            tile_layer_5d60c516ec034f4bccc68626001059ee.addTo(map_9c2df4b87af03e5610bfd8c163e8e91e);\n",
       "        \n",
       "    \n",
       "            var heat_map_2b4efeaa4be36d5beb96ac05536566d6 = L.heatLayer(\n",
       "                [[51.469171, -0.0641], [51.478924, -0.094074], [51.432172, -0.072714], [51.473706, -0.082916], [51.462904, -0.082217], [51.504626, -0.093002], [51.488044, -0.057971], [51.497228, -0.10815], [51.499808, -0.078795], [51.497226, -0.080344], [51.484233, -0.066775], [51.491758, -0.098005], [51.478028, -0.094256], [51.495574, -0.100439], [51.437668, -0.078814], [51.49294, -0.09882], [51.461324, -0.079116], [51.49727, -0.099648], [51.482259, -0.094511], [51.472356, -0.099388], [51.473444, -0.072415], [51.481532, -0.08302], [51.494162, -0.09099], [51.462204, -0.066986], [51.485119, -0.082437], [51.501149, -0.078306], [51.50208, -0.08576]],\n",
       "                {\n",
       "  &quot;minOpacity&quot;: 0.5,\n",
       "  &quot;maxZoom&quot;: 18,\n",
       "  &quot;radius&quot;: 25,\n",
       "  &quot;blur&quot;: 15,\n",
       "}\n",
       "            );\n",
       "        \n",
       "    \n",
       "            heat_map_2b4efeaa4be36d5beb96ac05536566d6.addTo(map_9c2df4b87af03e5610bfd8c163e8e91e);\n",
       "        \n",
       "    \n",
       "            tile_layer_5d60c516ec034f4bccc68626001059ee.addTo(map_9c2df4b87af03e5610bfd8c163e8e91e);\n",
       "        \n",
       "    \n",
       "            heat_map_2b4efeaa4be36d5beb96ac05536566d6.addTo(map_9c2df4b87af03e5610bfd8c163e8e91e);\n",
       "        \n",
       "&lt;/script&gt;\n",
       "&lt;/html&gt;\" style=\"position:absolute;width:100%;height:100%;left:0;top:0;border:none !important;\" allowfullscreen webkitallowfullscreen mozallowfullscreen></iframe></div></div>"
      ],
      "text/plain": [
       "<folium.folium.Map at 0x1a0c9292350>"
      ]
     },
     "execution_count": 68,
     "metadata": {},
     "output_type": "execute_result"
    }
   ],
   "source": [
    "southwark_fatal_df = southwark_df[southwark_df['Accident_Severity'] == 'Fatal']\n",
    "\n",
    "locations = list(zip(southwark_fatal_df['Latitude'], southwark_fatal_df['Longitude']))\n",
    "Southwark_Map = folium.Map(location = [southwark_fatal_df['Latitude'].mean(), southwark_fatal_df['Longitude'].mean()], zoom_start=13)\n",
    "HeatMap(locations).add_to(Southwark_Map)\n",
    "Southwark_Map.save('Southwark_heatmap.html')\n",
    "Southwark_Map"
   ]
  },
  {
   "cell_type": "markdown",
   "id": "dc749fdb-4602-4cbf-aad1-21ceac9ccf27",
   "metadata": {},
   "source": [
    "<h4>Insight: Southwark’s fatal accidents are <b>highly concentrated near main transport routes</b>, reflecting the heavy flow of traffic in urban corridors.</h4>"
   ]
  },
  {
   "cell_type": "code",
   "execution_count": null,
   "id": "7fd03524-bcf7-402d-bc2f-85824bba8716",
   "metadata": {},
   "outputs": [],
   "source": []
  }
 ],
 "metadata": {
  "kernelspec": {
   "display_name": "Python 3 (ipykernel)",
   "language": "python",
   "name": "python3"
  },
  "language_info": {
   "codemirror_mode": {
    "name": "ipython",
    "version": 3
   },
   "file_extension": ".py",
   "mimetype": "text/x-python",
   "name": "python",
   "nbconvert_exporter": "python",
   "pygments_lexer": "ipython3",
   "version": "3.13.7"
  }
 },
 "nbformat": 4,
 "nbformat_minor": 5
}
