{
 "cells": [
  {
   "cell_type": "markdown",
   "id": "795bb284-ab5a-46f1-94f6-c87df0b6fbd4",
   "metadata": {},
   "source": [
    "<h1>UK ACCIDENT ANALYTICS</h1>\n",
    "<h3>Analyst : JUNELLE C. DINGLASAN</h3>"
   ]
  },
  {
   "cell_type": "code",
   "execution_count": 98,
   "id": "b9de6d90-b7e0-498c-b229-8ea2e1fc5225",
   "metadata": {},
   "outputs": [],
   "source": [
    "#import libraries\n",
    "import numpy as np\n",
    "import pandas as pd\n",
    "from scipy.stats import f_oneway\n",
    "import seaborn as sns\n",
    "import folium\n",
    "from folium.plugins import HeatMap\n",
    "import warnings\n",
    "warnings.filterwarnings('ignore')\n",
    "import matplotlib.pyplot as plt"
   ]
  },
  {
   "cell_type": "code",
   "execution_count": 57,
   "id": "20e8fcfe-da5f-4e62-9cef-d982e43294d9",
   "metadata": {},
   "outputs": [],
   "source": [
    "accident = pd.read_csv('datasets\\\\uk_road_accident.csv')"
   ]
  },
  {
   "cell_type": "code",
   "execution_count": 58,
   "id": "045ce5f0-303f-4433-b050-d58dee5c819f",
   "metadata": {},
   "outputs": [
    {
     "data": {
      "text/html": [
       "<div>\n",
       "<style scoped>\n",
       "    .dataframe tbody tr th:only-of-type {\n",
       "        vertical-align: middle;\n",
       "    }\n",
       "\n",
       "    .dataframe tbody tr th {\n",
       "        vertical-align: top;\n",
       "    }\n",
       "\n",
       "    .dataframe thead th {\n",
       "        text-align: right;\n",
       "    }\n",
       "</style>\n",
       "<table border=\"1\" class=\"dataframe\">\n",
       "  <thead>\n",
       "    <tr style=\"text-align: right;\">\n",
       "      <th></th>\n",
       "      <th>Index</th>\n",
       "      <th>Accident_Severity</th>\n",
       "      <th>Accident Date</th>\n",
       "      <th>Latitude</th>\n",
       "      <th>Light_Conditions</th>\n",
       "      <th>District Area</th>\n",
       "      <th>Longitude</th>\n",
       "      <th>Number_of_Casualties</th>\n",
       "      <th>Number_of_Vehicles</th>\n",
       "      <th>Road_Surface_Conditions</th>\n",
       "      <th>Road_Type</th>\n",
       "      <th>Urban_or_Rural_Area</th>\n",
       "      <th>Weather_Conditions</th>\n",
       "      <th>Vehicle_Type</th>\n",
       "    </tr>\n",
       "  </thead>\n",
       "  <tbody>\n",
       "    <tr>\n",
       "      <th>0</th>\n",
       "      <td>200701BS64157</td>\n",
       "      <td>Serious</td>\n",
       "      <td>5/6/2019</td>\n",
       "      <td>51.506187</td>\n",
       "      <td>Darkness - lights lit</td>\n",
       "      <td>Kensington and Chelsea</td>\n",
       "      <td>-0.209082</td>\n",
       "      <td>1</td>\n",
       "      <td>2</td>\n",
       "      <td>Dry</td>\n",
       "      <td>Single carriageway</td>\n",
       "      <td>Urban</td>\n",
       "      <td>Fine no high winds</td>\n",
       "      <td>Car</td>\n",
       "    </tr>\n",
       "    <tr>\n",
       "      <th>1</th>\n",
       "      <td>200701BS65737</td>\n",
       "      <td>Serious</td>\n",
       "      <td>2/7/2019</td>\n",
       "      <td>51.495029</td>\n",
       "      <td>Daylight</td>\n",
       "      <td>Kensington and Chelsea</td>\n",
       "      <td>-0.173647</td>\n",
       "      <td>1</td>\n",
       "      <td>2</td>\n",
       "      <td>Wet or damp</td>\n",
       "      <td>Single carriageway</td>\n",
       "      <td>Urban</td>\n",
       "      <td>Raining no high winds</td>\n",
       "      <td>Car</td>\n",
       "    </tr>\n",
       "    <tr>\n",
       "      <th>2</th>\n",
       "      <td>200701BS66127</td>\n",
       "      <td>Serious</td>\n",
       "      <td>26-08-2019</td>\n",
       "      <td>51.517715</td>\n",
       "      <td>Darkness - lighting unknown</td>\n",
       "      <td>Kensington and Chelsea</td>\n",
       "      <td>-0.210215</td>\n",
       "      <td>1</td>\n",
       "      <td>3</td>\n",
       "      <td>Dry</td>\n",
       "      <td>NaN</td>\n",
       "      <td>Urban</td>\n",
       "      <td>NaN</td>\n",
       "      <td>Taxi/Private hire car</td>\n",
       "    </tr>\n",
       "    <tr>\n",
       "      <th>3</th>\n",
       "      <td>200701BS66128</td>\n",
       "      <td>Serious</td>\n",
       "      <td>16-08-2019</td>\n",
       "      <td>51.495478</td>\n",
       "      <td>Daylight</td>\n",
       "      <td>Kensington and Chelsea</td>\n",
       "      <td>-0.202731</td>\n",
       "      <td>1</td>\n",
       "      <td>4</td>\n",
       "      <td>Dry</td>\n",
       "      <td>Single carriageway</td>\n",
       "      <td>Urban</td>\n",
       "      <td>Fine no high winds</td>\n",
       "      <td>Bus or coach (17 or more pass seats)</td>\n",
       "    </tr>\n",
       "    <tr>\n",
       "      <th>4</th>\n",
       "      <td>200701BS66837</td>\n",
       "      <td>Slight</td>\n",
       "      <td>3/9/2019</td>\n",
       "      <td>51.488576</td>\n",
       "      <td>Darkness - lights lit</td>\n",
       "      <td>Kensington and Chelsea</td>\n",
       "      <td>-0.192487</td>\n",
       "      <td>1</td>\n",
       "      <td>2</td>\n",
       "      <td>Dry</td>\n",
       "      <td>NaN</td>\n",
       "      <td>Urban</td>\n",
       "      <td>NaN</td>\n",
       "      <td>Other vehicle</td>\n",
       "    </tr>\n",
       "    <tr>\n",
       "      <th>...</th>\n",
       "      <td>...</td>\n",
       "      <td>...</td>\n",
       "      <td>...</td>\n",
       "      <td>...</td>\n",
       "      <td>...</td>\n",
       "      <td>...</td>\n",
       "      <td>...</td>\n",
       "      <td>...</td>\n",
       "      <td>...</td>\n",
       "      <td>...</td>\n",
       "      <td>...</td>\n",
       "      <td>...</td>\n",
       "      <td>...</td>\n",
       "      <td>...</td>\n",
       "    </tr>\n",
       "    <tr>\n",
       "      <th>660674</th>\n",
       "      <td>201091NM01760</td>\n",
       "      <td>Slight</td>\n",
       "      <td>18-02-2022</td>\n",
       "      <td>57.374005</td>\n",
       "      <td>Daylight</td>\n",
       "      <td>Highland</td>\n",
       "      <td>-3.467828</td>\n",
       "      <td>2</td>\n",
       "      <td>1</td>\n",
       "      <td>Dry</td>\n",
       "      <td>Single carriageway</td>\n",
       "      <td>Rural</td>\n",
       "      <td>Fine no high winds</td>\n",
       "      <td>Car</td>\n",
       "    </tr>\n",
       "    <tr>\n",
       "      <th>660675</th>\n",
       "      <td>201091NM01881</td>\n",
       "      <td>Slight</td>\n",
       "      <td>21-02-2022</td>\n",
       "      <td>57.232273</td>\n",
       "      <td>Darkness - no lighting</td>\n",
       "      <td>Highland</td>\n",
       "      <td>-3.809281</td>\n",
       "      <td>1</td>\n",
       "      <td>1</td>\n",
       "      <td>Frost or ice</td>\n",
       "      <td>Single carriageway</td>\n",
       "      <td>Rural</td>\n",
       "      <td>Fine no high winds</td>\n",
       "      <td>Car</td>\n",
       "    </tr>\n",
       "    <tr>\n",
       "      <th>660676</th>\n",
       "      <td>201091NM01935</td>\n",
       "      <td>Slight</td>\n",
       "      <td>23-02-2022</td>\n",
       "      <td>57.585044</td>\n",
       "      <td>Daylight</td>\n",
       "      <td>Highland</td>\n",
       "      <td>-3.862727</td>\n",
       "      <td>1</td>\n",
       "      <td>3</td>\n",
       "      <td>Frost or ice</td>\n",
       "      <td>Single carriageway</td>\n",
       "      <td>Rural</td>\n",
       "      <td>Fine no high winds</td>\n",
       "      <td>Car</td>\n",
       "    </tr>\n",
       "    <tr>\n",
       "      <th>660677</th>\n",
       "      <td>201091NM01964</td>\n",
       "      <td>Serious</td>\n",
       "      <td>23-02-2022</td>\n",
       "      <td>57.214898</td>\n",
       "      <td>Darkness - no lighting</td>\n",
       "      <td>Highland</td>\n",
       "      <td>-3.823997</td>\n",
       "      <td>1</td>\n",
       "      <td>2</td>\n",
       "      <td>Wet or damp</td>\n",
       "      <td>Single carriageway</td>\n",
       "      <td>Rural</td>\n",
       "      <td>Fine no high winds</td>\n",
       "      <td>Motorcycle over 500cc</td>\n",
       "    </tr>\n",
       "    <tr>\n",
       "      <th>660678</th>\n",
       "      <td>201091NM02142</td>\n",
       "      <td>Serious</td>\n",
       "      <td>28-02-2022</td>\n",
       "      <td>57.575210</td>\n",
       "      <td>Daylight</td>\n",
       "      <td>Highland</td>\n",
       "      <td>-3.895673</td>\n",
       "      <td>1</td>\n",
       "      <td>1</td>\n",
       "      <td>Wet or damp</td>\n",
       "      <td>Dual carriageway</td>\n",
       "      <td>Rural</td>\n",
       "      <td>Snowing no high winds</td>\n",
       "      <td>Car</td>\n",
       "    </tr>\n",
       "  </tbody>\n",
       "</table>\n",
       "<p>660679 rows × 14 columns</p>\n",
       "</div>"
      ],
      "text/plain": [
       "                Index Accident_Severity Accident Date   Latitude  \\\n",
       "0       200701BS64157           Serious      5/6/2019  51.506187   \n",
       "1       200701BS65737           Serious      2/7/2019  51.495029   \n",
       "2       200701BS66127           Serious    26-08-2019  51.517715   \n",
       "3       200701BS66128           Serious    16-08-2019  51.495478   \n",
       "4       200701BS66837            Slight      3/9/2019  51.488576   \n",
       "...               ...               ...           ...        ...   \n",
       "660674  201091NM01760            Slight    18-02-2022  57.374005   \n",
       "660675  201091NM01881            Slight    21-02-2022  57.232273   \n",
       "660676  201091NM01935            Slight    23-02-2022  57.585044   \n",
       "660677  201091NM01964           Serious    23-02-2022  57.214898   \n",
       "660678  201091NM02142           Serious    28-02-2022  57.575210   \n",
       "\n",
       "                   Light_Conditions           District Area  Longitude  \\\n",
       "0             Darkness - lights lit  Kensington and Chelsea  -0.209082   \n",
       "1                          Daylight  Kensington and Chelsea  -0.173647   \n",
       "2       Darkness - lighting unknown  Kensington and Chelsea  -0.210215   \n",
       "3                          Daylight  Kensington and Chelsea  -0.202731   \n",
       "4             Darkness - lights lit  Kensington and Chelsea  -0.192487   \n",
       "...                             ...                     ...        ...   \n",
       "660674                     Daylight                Highland  -3.467828   \n",
       "660675       Darkness - no lighting                Highland  -3.809281   \n",
       "660676                     Daylight                Highland  -3.862727   \n",
       "660677       Darkness - no lighting                Highland  -3.823997   \n",
       "660678                     Daylight                Highland  -3.895673   \n",
       "\n",
       "        Number_of_Casualties  Number_of_Vehicles Road_Surface_Conditions  \\\n",
       "0                          1                   2                     Dry   \n",
       "1                          1                   2             Wet or damp   \n",
       "2                          1                   3                     Dry   \n",
       "3                          1                   4                     Dry   \n",
       "4                          1                   2                     Dry   \n",
       "...                      ...                 ...                     ...   \n",
       "660674                     2                   1                     Dry   \n",
       "660675                     1                   1            Frost or ice   \n",
       "660676                     1                   3            Frost or ice   \n",
       "660677                     1                   2             Wet or damp   \n",
       "660678                     1                   1             Wet or damp   \n",
       "\n",
       "                 Road_Type Urban_or_Rural_Area     Weather_Conditions  \\\n",
       "0       Single carriageway               Urban     Fine no high winds   \n",
       "1       Single carriageway               Urban  Raining no high winds   \n",
       "2                      NaN               Urban                    NaN   \n",
       "3       Single carriageway               Urban     Fine no high winds   \n",
       "4                      NaN               Urban                    NaN   \n",
       "...                    ...                 ...                    ...   \n",
       "660674  Single carriageway               Rural     Fine no high winds   \n",
       "660675  Single carriageway               Rural     Fine no high winds   \n",
       "660676  Single carriageway               Rural     Fine no high winds   \n",
       "660677  Single carriageway               Rural     Fine no high winds   \n",
       "660678    Dual carriageway               Rural  Snowing no high winds   \n",
       "\n",
       "                                Vehicle_Type  \n",
       "0                                        Car  \n",
       "1                                        Car  \n",
       "2                      Taxi/Private hire car  \n",
       "3       Bus or coach (17 or more pass seats)  \n",
       "4                              Other vehicle  \n",
       "...                                      ...  \n",
       "660674                                   Car  \n",
       "660675                                   Car  \n",
       "660676                                   Car  \n",
       "660677                 Motorcycle over 500cc  \n",
       "660678                                   Car  \n",
       "\n",
       "[660679 rows x 14 columns]"
      ]
     },
     "execution_count": 58,
     "metadata": {},
     "output_type": "execute_result"
    }
   ],
   "source": [
    "accident"
   ]
  },
  {
   "cell_type": "code",
   "execution_count": 75,
   "id": "ea85e7ef-7669-4878-b46b-fc667f1a3b40",
   "metadata": {},
   "outputs": [
    {
     "data": {
      "text/html": [
       "<div>\n",
       "<style scoped>\n",
       "    .dataframe tbody tr th:only-of-type {\n",
       "        vertical-align: middle;\n",
       "    }\n",
       "\n",
       "    .dataframe tbody tr th {\n",
       "        vertical-align: top;\n",
       "    }\n",
       "\n",
       "    .dataframe thead th {\n",
       "        text-align: right;\n",
       "    }\n",
       "</style>\n",
       "<table border=\"1\" class=\"dataframe\">\n",
       "  <thead>\n",
       "    <tr style=\"text-align: right;\">\n",
       "      <th></th>\n",
       "      <th>Accident Date</th>\n",
       "      <th>Latitude</th>\n",
       "      <th>Longitude</th>\n",
       "      <th>Number_of_Casualties</th>\n",
       "      <th>Number_of_Vehicles</th>\n",
       "    </tr>\n",
       "  </thead>\n",
       "  <tbody>\n",
       "    <tr>\n",
       "      <th>count</th>\n",
       "      <td>265007</td>\n",
       "      <td>660679.000000</td>\n",
       "      <td>660679.000000</td>\n",
       "      <td>660679.000000</td>\n",
       "      <td>660679.000000</td>\n",
       "    </tr>\n",
       "    <tr>\n",
       "      <th>mean</th>\n",
       "      <td>2020-11-18 04:53:34.375468544</td>\n",
       "      <td>52.553866</td>\n",
       "      <td>-1.431210</td>\n",
       "      <td>1.357040</td>\n",
       "      <td>1.831255</td>\n",
       "    </tr>\n",
       "    <tr>\n",
       "      <th>min</th>\n",
       "      <td>2019-01-01 00:00:00</td>\n",
       "      <td>49.914430</td>\n",
       "      <td>-7.516225</td>\n",
       "      <td>1.000000</td>\n",
       "      <td>1.000000</td>\n",
       "    </tr>\n",
       "    <tr>\n",
       "      <th>25%</th>\n",
       "      <td>2019-12-02 00:00:00</td>\n",
       "      <td>51.490696</td>\n",
       "      <td>-2.332191</td>\n",
       "      <td>1.000000</td>\n",
       "      <td>1.000000</td>\n",
       "    </tr>\n",
       "    <tr>\n",
       "      <th>50%</th>\n",
       "      <td>2020-11-05 00:00:00</td>\n",
       "      <td>52.315755</td>\n",
       "      <td>-1.411761</td>\n",
       "      <td>1.000000</td>\n",
       "      <td>2.000000</td>\n",
       "    </tr>\n",
       "    <tr>\n",
       "      <th>75%</th>\n",
       "      <td>2021-11-05 00:00:00</td>\n",
       "      <td>53.453444</td>\n",
       "      <td>-0.232901</td>\n",
       "      <td>1.000000</td>\n",
       "      <td>2.000000</td>\n",
       "    </tr>\n",
       "    <tr>\n",
       "      <th>max</th>\n",
       "      <td>2022-12-12 00:00:00</td>\n",
       "      <td>60.757544</td>\n",
       "      <td>1.762010</td>\n",
       "      <td>68.000000</td>\n",
       "      <td>32.000000</td>\n",
       "    </tr>\n",
       "    <tr>\n",
       "      <th>std</th>\n",
       "      <td>NaN</td>\n",
       "      <td>1.406896</td>\n",
       "      <td>1.383302</td>\n",
       "      <td>0.824847</td>\n",
       "      <td>0.715269</td>\n",
       "    </tr>\n",
       "  </tbody>\n",
       "</table>\n",
       "</div>"
      ],
      "text/plain": [
       "                       Accident Date       Latitude      Longitude  \\\n",
       "count                         265007  660679.000000  660679.000000   \n",
       "mean   2020-11-18 04:53:34.375468544      52.553866      -1.431210   \n",
       "min              2019-01-01 00:00:00      49.914430      -7.516225   \n",
       "25%              2019-12-02 00:00:00      51.490696      -2.332191   \n",
       "50%              2020-11-05 00:00:00      52.315755      -1.411761   \n",
       "75%              2021-11-05 00:00:00      53.453444      -0.232901   \n",
       "max              2022-12-12 00:00:00      60.757544       1.762010   \n",
       "std                              NaN       1.406896       1.383302   \n",
       "\n",
       "       Number_of_Casualties  Number_of_Vehicles  \n",
       "count         660679.000000       660679.000000  \n",
       "mean               1.357040            1.831255  \n",
       "min                1.000000            1.000000  \n",
       "25%                1.000000            1.000000  \n",
       "50%                1.000000            2.000000  \n",
       "75%                1.000000            2.000000  \n",
       "max               68.000000           32.000000  \n",
       "std                0.824847            0.715269  "
      ]
     },
     "execution_count": 75,
     "metadata": {},
     "output_type": "execute_result"
    }
   ],
   "source": [
    "accident.describe()"
   ]
  },
  {
   "cell_type": "code",
   "execution_count": 76,
   "id": "82fbd2b9-bee1-4b02-a631-9ac5e9d8a256",
   "metadata": {},
   "outputs": [
    {
     "data": {
      "text/html": [
       "<div>\n",
       "<style scoped>\n",
       "    .dataframe tbody tr th:only-of-type {\n",
       "        vertical-align: middle;\n",
       "    }\n",
       "\n",
       "    .dataframe tbody tr th {\n",
       "        vertical-align: top;\n",
       "    }\n",
       "\n",
       "    .dataframe thead th {\n",
       "        text-align: right;\n",
       "    }\n",
       "</style>\n",
       "<table border=\"1\" class=\"dataframe\">\n",
       "  <thead>\n",
       "    <tr style=\"text-align: right;\">\n",
       "      <th></th>\n",
       "      <th>count</th>\n",
       "      <th>mean</th>\n",
       "      <th>min</th>\n",
       "      <th>25%</th>\n",
       "      <th>50%</th>\n",
       "      <th>75%</th>\n",
       "      <th>max</th>\n",
       "      <th>std</th>\n",
       "    </tr>\n",
       "  </thead>\n",
       "  <tbody>\n",
       "    <tr>\n",
       "      <th>Accident Date</th>\n",
       "      <td>265007</td>\n",
       "      <td>2020-11-18 04:53:34.375468544</td>\n",
       "      <td>2019-01-01 00:00:00</td>\n",
       "      <td>2019-12-02 00:00:00</td>\n",
       "      <td>2020-11-05 00:00:00</td>\n",
       "      <td>2021-11-05 00:00:00</td>\n",
       "      <td>2022-12-12 00:00:00</td>\n",
       "      <td>NaN</td>\n",
       "    </tr>\n",
       "    <tr>\n",
       "      <th>Latitude</th>\n",
       "      <td>660679.0</td>\n",
       "      <td>52.553866</td>\n",
       "      <td>49.91443</td>\n",
       "      <td>51.490696</td>\n",
       "      <td>52.315755</td>\n",
       "      <td>53.453444</td>\n",
       "      <td>60.757544</td>\n",
       "      <td>1.406896</td>\n",
       "    </tr>\n",
       "    <tr>\n",
       "      <th>Longitude</th>\n",
       "      <td>660679.0</td>\n",
       "      <td>-1.43121</td>\n",
       "      <td>-7.516225</td>\n",
       "      <td>-2.332191</td>\n",
       "      <td>-1.411761</td>\n",
       "      <td>-0.232901</td>\n",
       "      <td>1.76201</td>\n",
       "      <td>1.383302</td>\n",
       "    </tr>\n",
       "    <tr>\n",
       "      <th>Number_of_Casualties</th>\n",
       "      <td>660679.0</td>\n",
       "      <td>1.35704</td>\n",
       "      <td>1.0</td>\n",
       "      <td>1.0</td>\n",
       "      <td>1.0</td>\n",
       "      <td>1.0</td>\n",
       "      <td>68.0</td>\n",
       "      <td>0.824847</td>\n",
       "    </tr>\n",
       "    <tr>\n",
       "      <th>Number_of_Vehicles</th>\n",
       "      <td>660679.0</td>\n",
       "      <td>1.831255</td>\n",
       "      <td>1.0</td>\n",
       "      <td>1.0</td>\n",
       "      <td>2.0</td>\n",
       "      <td>2.0</td>\n",
       "      <td>32.0</td>\n",
       "      <td>0.715269</td>\n",
       "    </tr>\n",
       "  </tbody>\n",
       "</table>\n",
       "</div>"
      ],
      "text/plain": [
       "                         count                           mean  \\\n",
       "Accident Date           265007  2020-11-18 04:53:34.375468544   \n",
       "Latitude              660679.0                      52.553866   \n",
       "Longitude             660679.0                       -1.43121   \n",
       "Number_of_Casualties  660679.0                        1.35704   \n",
       "Number_of_Vehicles    660679.0                       1.831255   \n",
       "\n",
       "                                      min                  25%  \\\n",
       "Accident Date         2019-01-01 00:00:00  2019-12-02 00:00:00   \n",
       "Latitude                         49.91443            51.490696   \n",
       "Longitude                       -7.516225            -2.332191   \n",
       "Number_of_Casualties                  1.0                  1.0   \n",
       "Number_of_Vehicles                    1.0                  1.0   \n",
       "\n",
       "                                      50%                  75%  \\\n",
       "Accident Date         2020-11-05 00:00:00  2021-11-05 00:00:00   \n",
       "Latitude                        52.315755            53.453444   \n",
       "Longitude                       -1.411761            -0.232901   \n",
       "Number_of_Casualties                  1.0                  1.0   \n",
       "Number_of_Vehicles                    2.0                  2.0   \n",
       "\n",
       "                                      max       std  \n",
       "Accident Date         2022-12-12 00:00:00       NaN  \n",
       "Latitude                        60.757544  1.406896  \n",
       "Longitude                         1.76201  1.383302  \n",
       "Number_of_Casualties                 68.0  0.824847  \n",
       "Number_of_Vehicles                   32.0  0.715269  "
      ]
     },
     "execution_count": 76,
     "metadata": {},
     "output_type": "execute_result"
    }
   ],
   "source": [
    "accident.describe().T"
   ]
  },
  {
   "cell_type": "code",
   "execution_count": 77,
   "id": "8e21c6b1-c57c-4615-98d5-2068cfe62513",
   "metadata": {},
   "outputs": [
    {
     "data": {
      "text/plain": [
       "Index                           0\n",
       "Accident_Severity               0\n",
       "Accident Date              395672\n",
       "Latitude                        0\n",
       "Light_Conditions                0\n",
       "District Area                   0\n",
       "Longitude                       0\n",
       "Number_of_Casualties            0\n",
       "Number_of_Vehicles              0\n",
       "Road_Surface_Conditions         0\n",
       "Road_Type                       0\n",
       "Urban_or_Rural_Area             0\n",
       "Weather_Conditions              0\n",
       "Vehicle_Type                    0\n",
       "dtype: int64"
      ]
     },
     "execution_count": 77,
     "metadata": {},
     "output_type": "execute_result"
    }
   ],
   "source": [
    "accident.isnull().sum()"
   ]
  },
  {
   "cell_type": "code",
   "execution_count": 87,
   "id": "f9efe0fe-1fc2-43a0-bd75-8ca64ae3740c",
   "metadata": {},
   "outputs": [],
   "source": [
    "accident['Latitude'] = accident['Latitude'].fillna(accident['Latitude'].mean())\n",
    "accident['Longitude'] = accident['Longitude'].fillna(accident['Longitude'].mean())\n",
    "accident['Accident Date'] = accident['Accident Date'].fillna(accident['Accident Date'].mean())\n",
    "accident['Road_Surface_Conditions'] = accident['Road_Surface_Conditions'].fillna(accident['Road_Surface_Conditions'].mode()[0])\n",
    "accident['Road_Type'] = accident['Road_Type'].fillna(accident['Road_Type'].mode()[0])\n",
    "accident['Weather_Conditions'] = accident['Weather_Conditions'].fillna(accident['Weather_Conditions'].mode()[0])\n",
    "accident['Urban_or_Rural_Area'] = accident['Urban_or_Rural_Area'].fillna(accident['Urban_or_Rural_Area'].mode()[0])"
   ]
  },
  {
   "cell_type": "code",
   "execution_count": 88,
   "id": "f08bce8a-5e35-468f-9feb-b55ddb007514",
   "metadata": {},
   "outputs": [
    {
     "data": {
      "text/plain": [
       "Index                      0\n",
       "Accident_Severity          0\n",
       "Accident Date              0\n",
       "Latitude                   0\n",
       "Light_Conditions           0\n",
       "District Area              0\n",
       "Longitude                  0\n",
       "Number_of_Casualties       0\n",
       "Number_of_Vehicles         0\n",
       "Road_Surface_Conditions    0\n",
       "Road_Type                  0\n",
       "Urban_or_Rural_Area        0\n",
       "Weather_Conditions         0\n",
       "Vehicle_Type               0\n",
       "dtype: int64"
      ]
     },
     "execution_count": 88,
     "metadata": {},
     "output_type": "execute_result"
    }
   ],
   "source": [
    "accident.isnull().sum()"
   ]
  },
  {
   "cell_type": "code",
   "execution_count": 89,
   "id": "d0aa1fc8-3b15-4235-8fd6-e2b1a44b7881",
   "metadata": {},
   "outputs": [],
   "source": [
    "accident['Accident_Severity'] = accident['Accident_Severity'].astype('category')\n",
    "accident['Light_Conditions'] = accident['Light_Conditions'].astype('category')\n",
    "accident['Road_Surface_Conditions'] = accident['Road_Surface_Conditions'].astype('category')\n",
    "accident['Road_Type'] = accident['Road_Type'].astype('category')\n",
    "accident['Urban_or_Rural_Area'] = accident['Urban_or_Rural_Area'].astype('category')\n",
    "accident['Weather_Conditions'] = accident['Weather_Conditions'].astype('category')\n",
    "accident['Vehicle_Type'] = accident['Vehicle_Type'].astype('category')"
   ]
  },
  {
   "cell_type": "code",
   "execution_count": 90,
   "id": "a1a4231d-48cd-49fc-a5f6-5b6d6138f0b8",
   "metadata": {},
   "outputs": [
    {
     "name": "stdout",
     "output_type": "stream",
     "text": [
      "<class 'pandas.core.frame.DataFrame'>\n",
      "RangeIndex: 660679 entries, 0 to 660678\n",
      "Data columns (total 14 columns):\n",
      " #   Column                   Non-Null Count   Dtype         \n",
      "---  ------                   --------------   -----         \n",
      " 0   Index                    660679 non-null  category      \n",
      " 1   Accident_Severity        660679 non-null  category      \n",
      " 2   Accident Date            660679 non-null  datetime64[ns]\n",
      " 3   Latitude                 660679 non-null  float64       \n",
      " 4   Light_Conditions         660679 non-null  category      \n",
      " 5   District Area            660679 non-null  category      \n",
      " 6   Longitude                660679 non-null  float64       \n",
      " 7   Number_of_Casualties     660679 non-null  int64         \n",
      " 8   Number_of_Vehicles       660679 non-null  int64         \n",
      " 9   Road_Surface_Conditions  660679 non-null  category      \n",
      " 10  Road_Type                660679 non-null  category      \n",
      " 11  Urban_or_Rural_Area      660679 non-null  category      \n",
      " 12  Weather_Conditions       660679 non-null  category      \n",
      " 13  Vehicle_Type             660679 non-null  category      \n",
      "dtypes: category(9), datetime64[ns](1), float64(2), int64(2)\n",
      "memory usage: 52.8 MB\n"
     ]
    }
   ],
   "source": [
    "accident.info()"
   ]
  },
  {
   "cell_type": "code",
   "execution_count": 92,
   "id": "5f0d4bd6-da21-408b-ac08-1b47bc3b6728",
   "metadata": {},
   "outputs": [],
   "source": [
    "accident['Year'] = accident['Accident Date'].dt.year\n",
    "accident['Month'] = accident['Accident Date'].dt.month\n",
    "accident['Day'] = accident['Accident Date'].dt.day\n",
    "accident['DayOfWeek'] = accident['Accident Date'].dt.dayofweek # Monday = 0, Sunday = 6 "
   ]
  },
  {
   "cell_type": "code",
   "execution_count": 93,
   "id": "09c23a1b-b089-4659-a893-d55ead0e521a",
   "metadata": {},
   "outputs": [
    {
     "data": {
      "text/plain": [
       "Index                      0\n",
       "Accident_Severity          0\n",
       "Accident Date              0\n",
       "Latitude                   0\n",
       "Light_Conditions           0\n",
       "District Area              0\n",
       "Longitude                  0\n",
       "Number_of_Casualties       0\n",
       "Number_of_Vehicles         0\n",
       "Road_Surface_Conditions    0\n",
       "Road_Type                  0\n",
       "Urban_or_Rural_Area        0\n",
       "Weather_Conditions         0\n",
       "Vehicle_Type               0\n",
       "Year                       0\n",
       "Month                      0\n",
       "Day                        0\n",
       "DayOfWeek                  0\n",
       "dtype: int64"
      ]
     },
     "execution_count": 93,
     "metadata": {},
     "output_type": "execute_result"
    }
   ],
   "source": [
    "accident.isnull().sum()"
   ]
  },
  {
   "cell_type": "code",
   "execution_count": 94,
   "id": "307cd6a7-1398-4f9d-9908-d12fb06116ec",
   "metadata": {},
   "outputs": [
    {
     "data": {
      "text/plain": [
       "Index                            category\n",
       "Accident_Severity                category\n",
       "Accident Date              datetime64[ns]\n",
       "Latitude                          float64\n",
       "Light_Conditions                 category\n",
       "District Area                    category\n",
       "Longitude                         float64\n",
       "Number_of_Casualties                int64\n",
       "Number_of_Vehicles                  int64\n",
       "Road_Surface_Conditions          category\n",
       "Road_Type                        category\n",
       "Urban_or_Rural_Area              category\n",
       "Weather_Conditions               category\n",
       "Vehicle_Type                     category\n",
       "Year                                int32\n",
       "Month                               int32\n",
       "Day                                 int32\n",
       "DayOfWeek                           int32\n",
       "dtype: object"
      ]
     },
     "execution_count": 94,
     "metadata": {},
     "output_type": "execute_result"
    }
   ],
   "source": [
    "accident.dtypes"
   ]
  },
  {
   "cell_type": "markdown",
   "id": "46850fb8-6ed4-46dc-bb57-cec2b309a03c",
   "metadata": {},
   "source": [
    "<h1>QUESTIONS</h1>"
   ]
  },
  {
   "cell_type": "markdown",
   "id": "6912344a-8518-46ce-98fe-bd48402a363e",
   "metadata": {},
   "source": [
    "<h3>1.) What is the minimum and maximum latitude and longitude?</h3>"
   ]
  },
  {
   "cell_type": "code",
   "execution_count": 72,
   "id": "c4b07976-1d30-4c52-bf62-3b6efffb5c3b",
   "metadata": {},
   "outputs": [
    {
     "data": {
      "text/plain": [
       "(np.float64(49.91443),\n",
       " np.float64(60.757544),\n",
       " np.float64(-7.516225),\n",
       " np.float64(1.76201))"
      ]
     },
     "execution_count": 72,
     "metadata": {},
     "output_type": "execute_result"
    }
   ],
   "source": [
    "min_lat = accident['Latitude'].min()\n",
    "max_lat = accident['Latitude'].max()\n",
    "min_long = accident['Longitude'].min()\n",
    "max_long = accident['Longitude'].max()\n",
    "min_lat, max_lat, min_long, max_long"
   ]
  },
  {
   "cell_type": "markdown",
   "id": "97b6d30a-d0f9-4a3d-aecc-f30708a36b8c",
   "metadata": {},
   "source": [
    "<h4>INSIGHTS : This tells the farthest locations where accidents happened. It sets the boundary of the dataset.</h4>"
   ]
  },
  {
   "cell_type": "markdown",
   "id": "48b73b04-4691-4112-a4ef-5680198bb7f5",
   "metadata": {},
   "source": [
    "<h3>2.) What is the earliest accident date in the datasets</h3>"
   ]
  },
  {
   "cell_type": "code",
   "execution_count": 73,
   "id": "5f492842-7647-4e74-a8a3-fa105961ffc3",
   "metadata": {},
   "outputs": [
    {
     "data": {
      "text/plain": [
       "Timestamp('2019-01-01 00:00:00')"
      ]
     },
     "execution_count": 73,
     "metadata": {},
     "output_type": "execute_result"
    }
   ],
   "source": [
    "accident['Accident Date'] = pd.to_datetime(accident['Accident Date'], errors='coerce')\n",
    "earliest = accident['Accident Date'].min()\n",
    "earliest"
   ]
  },
  {
   "cell_type": "markdown",
   "id": "c7e0455f-d40b-42d3-a2f7-bee671b23177",
   "metadata": {},
   "source": [
    "<h4>INSIGHTS : Tells the starting point of recorded accident data.</h4>"
   ]
  },
  {
   "cell_type": "markdown",
   "id": "78c61f13-4b4b-4df1-9e8f-13078386148b",
   "metadata": {},
   "source": [
    "<h3>3.) What is the average number of vehicles involved in accidents for each severity level?</h3>"
   ]
  },
  {
   "cell_type": "code",
   "execution_count": 16,
   "id": "9e34b48d-96bc-4dfa-bccb-9230ce206bfe",
   "metadata": {},
   "outputs": [
    {
     "data": {
      "text/html": [
       "<div>\n",
       "<style scoped>\n",
       "    .dataframe tbody tr th:only-of-type {\n",
       "        vertical-align: middle;\n",
       "    }\n",
       "\n",
       "    .dataframe tbody tr th {\n",
       "        vertical-align: top;\n",
       "    }\n",
       "\n",
       "    .dataframe thead th {\n",
       "        text-align: right;\n",
       "    }\n",
       "</style>\n",
       "<table border=\"1\" class=\"dataframe\">\n",
       "  <thead>\n",
       "    <tr style=\"text-align: right;\">\n",
       "      <th></th>\n",
       "      <th>Accident_Severity</th>\n",
       "      <th>Avg_Vehicles</th>\n",
       "    </tr>\n",
       "  </thead>\n",
       "  <tbody>\n",
       "    <tr>\n",
       "      <th>0</th>\n",
       "      <td>Fatal</td>\n",
       "      <td>1.786976</td>\n",
       "    </tr>\n",
       "    <tr>\n",
       "      <th>1</th>\n",
       "      <td>Serious</td>\n",
       "      <td>1.678327</td>\n",
       "    </tr>\n",
       "    <tr>\n",
       "      <th>2</th>\n",
       "      <td>Slight</td>\n",
       "      <td>1.855864</td>\n",
       "    </tr>\n",
       "  </tbody>\n",
       "</table>\n",
       "</div>"
      ],
      "text/plain": [
       "  Accident_Severity  Avg_Vehicles\n",
       "0             Fatal      1.786976\n",
       "1           Serious      1.678327\n",
       "2            Slight      1.855864"
      ]
     },
     "execution_count": 16,
     "metadata": {},
     "output_type": "execute_result"
    }
   ],
   "source": [
    "avg_vehicles = accident.groupby('Accident_Severity')['Number_of_Vehicles'].mean().reset_index(name='Avg_Vehicles')\n",
    "avg_vehicles"
   ]
  },
  {
   "cell_type": "markdown",
   "id": "657e01af-3f2c-41cd-81b4-5a6f0938a5ec",
   "metadata": {},
   "source": [
    "<h4>INSIGHTS : Reveals if more vehicles tent to be involved in serious or slight accidents.</h4>"
   ]
  },
  {
   "cell_type": "markdown",
   "id": "dcd9a055-b102-437b-8c2a-5b5c7d0ed63d",
   "metadata": {},
   "source": [
    "<h3>4.) How many accidents occurred each year?</h3>"
   ]
  },
  {
   "cell_type": "code",
   "execution_count": 17,
   "id": "bb2a3e9c-7d5c-42e1-a0dc-491c1d9bf5e2",
   "metadata": {},
   "outputs": [
    {
     "data": {
      "text/html": [
       "<div>\n",
       "<style scoped>\n",
       "    .dataframe tbody tr th:only-of-type {\n",
       "        vertical-align: middle;\n",
       "    }\n",
       "\n",
       "    .dataframe tbody tr th {\n",
       "        vertical-align: top;\n",
       "    }\n",
       "\n",
       "    .dataframe thead th {\n",
       "        text-align: right;\n",
       "    }\n",
       "</style>\n",
       "<table border=\"1\" class=\"dataframe\">\n",
       "  <thead>\n",
       "    <tr style=\"text-align: right;\">\n",
       "      <th></th>\n",
       "      <th>Year</th>\n",
       "      <th>Accident_Count</th>\n",
       "    </tr>\n",
       "  </thead>\n",
       "  <tbody>\n",
       "    <tr>\n",
       "      <th>0</th>\n",
       "      <td>2019.0</td>\n",
       "      <td>71867</td>\n",
       "    </tr>\n",
       "    <tr>\n",
       "      <th>1</th>\n",
       "      <td>2020.0</td>\n",
       "      <td>70163</td>\n",
       "    </tr>\n",
       "    <tr>\n",
       "      <th>2</th>\n",
       "      <td>2021.0</td>\n",
       "      <td>66172</td>\n",
       "    </tr>\n",
       "    <tr>\n",
       "      <th>3</th>\n",
       "      <td>2022.0</td>\n",
       "      <td>56805</td>\n",
       "    </tr>\n",
       "  </tbody>\n",
       "</table>\n",
       "</div>"
      ],
      "text/plain": [
       "     Year  Accident_Count\n",
       "0  2019.0           71867\n",
       "1  2020.0           70163\n",
       "2  2021.0           66172\n",
       "3  2022.0           56805"
      ]
     },
     "execution_count": 17,
     "metadata": {},
     "output_type": "execute_result"
    }
   ],
   "source": [
    "accident['Year'] = accident['Accident Date'].dt.year\n",
    "yearly = accident.groupby('Year').size().reset_index(name='Accident_Count')\n",
    "yearly"
   ]
  },
  {
   "cell_type": "markdown",
   "id": "671ba1ae-c7f5-4768-a3fb-136ccf91cabd",
   "metadata": {},
   "source": [
    "<h4>INSIGHTS : Helps track accident trends over time.</h4>"
   ]
  },
  {
   "cell_type": "markdown",
   "id": "0e96e2c8-e9ff-4141-9711-7e0c6fdc5b52",
   "metadata": {},
   "source": [
    "<h3>5.) What is the total number of vehicles involved per road type?</h3>"
   ]
  },
  {
   "cell_type": "code",
   "execution_count": 18,
   "id": "23e75908-7319-4373-a565-47d19c6d2c62",
   "metadata": {},
   "outputs": [
    {
     "data": {
      "text/plain": [
       "Road_Type\n",
       "Dual carriageway      199819\n",
       "One way street         21497\n",
       "Roundabout             83643\n",
       "Single carriageway    891412\n",
       "Slip road              13501\n",
       "Name: Number_of_Vehicles, dtype: int64"
      ]
     },
     "execution_count": 18,
     "metadata": {},
     "output_type": "execute_result"
    }
   ],
   "source": [
    "accident.groupby('Road_Type')['Number_of_Vehicles'].sum()"
   ]
  },
  {
   "cell_type": "markdown",
   "id": "c9dc3229-3fcd-40ce-a9a6-f707cd87d38e",
   "metadata": {},
   "source": [
    "<h4>INSIGHTS : This shows which road types see the biggest pileups.</h4>"
   ]
  },
  {
   "cell_type": "markdown",
   "id": "8723f44e-6a30-495d-a990-1048d5a42a0f",
   "metadata": {},
   "source": [
    "<h3>6.) Do accidents with 1 vehicle differ from those with 2 vehicles in terms of casualties?</h3>"
   ]
  },
  {
   "cell_type": "code",
   "execution_count": 19,
   "id": "5801e233-c56a-4cfb-a305-49defc7641d0",
   "metadata": {},
   "outputs": [
    {
     "data": {
      "text/plain": [
       "(np.float64(10199.156920414918), np.float64(0.0))"
      ]
     },
     "execution_count": 19,
     "metadata": {},
     "output_type": "execute_result"
    }
   ],
   "source": [
    "one_vehicle = accident[accident['Number_of_Vehicles'] == 1]['Number_of_Casualties']\n",
    "two_vehicle = accident[accident['Number_of_Vehicles'] == 2]['Number_of_Casualties']\n",
    "\n",
    "stats, p_value = f_oneway(one_vehicle.dropna(), two_vehicle.dropna())\n",
    "stats, p_value"
   ]
  },
  {
   "cell_type": "markdown",
   "id": "c5e81847-8b14-4fc5-9e3f-3e5aa0a84baf",
   "metadata": {},
   "source": [
    "<h4>INSIGHTS : This test asks whether single-vehicle accidents cause more or fewer casualties compared to two-vehicle accidents.</h4>"
   ]
  },
  {
   "cell_type": "markdown",
   "id": "a0fba046-8f62-481a-9d14-e77fec0a2732",
   "metadata": {},
   "source": [
    "<h3>7.) Do weather conditions affect the average number of casualties></h3>"
   ]
  },
  {
   "cell_type": "code",
   "execution_count": 20,
   "id": "00cc3487-261c-456b-9dab-5691c115cfeb",
   "metadata": {},
   "outputs": [
    {
     "data": {
      "text/plain": [
       "(np.float64(nan), np.float64(nan))"
      ]
     },
     "execution_count": 20,
     "metadata": {},
     "output_type": "execute_result"
    }
   ],
   "source": [
    "clear = accident[accident['Weather_Conditions'] == 'Fine no high winds']['Number_of_Casualties']\n",
    "rain = accident[accident['Weather_Conditions'] == 'Raining without high winds']['Number_of_Casualties']\n",
    "snow = accident[accident['Weather_Conditions'] == 'Snowing without high winds']['Number_of_Casualties']\n",
    "\n",
    "stats, p_value = f_oneway(clear.dropna(), rain.dropna(), snow.dropna())\n",
    "stats, p_value"
   ]
  },
  {
   "cell_type": "markdown",
   "id": "884a929b-14d7-4b03-b869-1d8be2e32739",
   "metadata": {},
   "source": [
    "<h4>INSIGHTS : This ANOVA tests if accidents in different weather conditions lead to different casualty numbers.</h4>"
   ]
  },
  {
   "cell_type": "markdown",
   "id": "d43f6180-5b61-4561-9068-39276c85c4c1",
   "metadata": {},
   "source": [
    "<h3>8.) What is the average number of vehicles per district?</h3>"
   ]
  },
  {
   "cell_type": "code",
   "execution_count": 21,
   "id": "9329d09e-6dc1-406a-925e-9436b541ba59",
   "metadata": {},
   "outputs": [
    {
     "data": {
      "text/html": [
       "<div>\n",
       "<style scoped>\n",
       "    .dataframe tbody tr th:only-of-type {\n",
       "        vertical-align: middle;\n",
       "    }\n",
       "\n",
       "    .dataframe tbody tr th {\n",
       "        vertical-align: top;\n",
       "    }\n",
       "\n",
       "    .dataframe thead th {\n",
       "        text-align: right;\n",
       "    }\n",
       "</style>\n",
       "<table border=\"1\" class=\"dataframe\">\n",
       "  <thead>\n",
       "    <tr style=\"text-align: right;\">\n",
       "      <th></th>\n",
       "      <th>District Area</th>\n",
       "      <th>Avg_Vehicles</th>\n",
       "    </tr>\n",
       "  </thead>\n",
       "  <tbody>\n",
       "    <tr>\n",
       "      <th>0</th>\n",
       "      <td>Aberdeen City</td>\n",
       "      <td>1.637188</td>\n",
       "    </tr>\n",
       "    <tr>\n",
       "      <th>1</th>\n",
       "      <td>Aberdeenshire</td>\n",
       "      <td>1.553368</td>\n",
       "    </tr>\n",
       "    <tr>\n",
       "      <th>2</th>\n",
       "      <td>Adur</td>\n",
       "      <td>1.969305</td>\n",
       "    </tr>\n",
       "    <tr>\n",
       "      <th>3</th>\n",
       "      <td>Allerdale</td>\n",
       "      <td>1.782801</td>\n",
       "    </tr>\n",
       "    <tr>\n",
       "      <th>4</th>\n",
       "      <td>Alnwick</td>\n",
       "      <td>1.646552</td>\n",
       "    </tr>\n",
       "    <tr>\n",
       "      <th>...</th>\n",
       "      <td>...</td>\n",
       "      <td>...</td>\n",
       "    </tr>\n",
       "    <tr>\n",
       "      <th>417</th>\n",
       "      <td>Wychavon</td>\n",
       "      <td>1.828068</td>\n",
       "    </tr>\n",
       "    <tr>\n",
       "      <th>418</th>\n",
       "      <td>Wycombe</td>\n",
       "      <td>1.866397</td>\n",
       "    </tr>\n",
       "    <tr>\n",
       "      <th>419</th>\n",
       "      <td>Wyre</td>\n",
       "      <td>1.860258</td>\n",
       "    </tr>\n",
       "    <tr>\n",
       "      <th>420</th>\n",
       "      <td>Wyre Forest</td>\n",
       "      <td>1.789474</td>\n",
       "    </tr>\n",
       "    <tr>\n",
       "      <th>421</th>\n",
       "      <td>York</td>\n",
       "      <td>1.856089</td>\n",
       "    </tr>\n",
       "  </tbody>\n",
       "</table>\n",
       "<p>422 rows × 2 columns</p>\n",
       "</div>"
      ],
      "text/plain": [
       "     District Area  Avg_Vehicles\n",
       "0    Aberdeen City      1.637188\n",
       "1    Aberdeenshire      1.553368\n",
       "2             Adur      1.969305\n",
       "3        Allerdale      1.782801\n",
       "4          Alnwick      1.646552\n",
       "..             ...           ...\n",
       "417       Wychavon      1.828068\n",
       "418        Wycombe      1.866397\n",
       "419           Wyre      1.860258\n",
       "420    Wyre Forest      1.789474\n",
       "421           York      1.856089\n",
       "\n",
       "[422 rows x 2 columns]"
      ]
     },
     "execution_count": 21,
     "metadata": {},
     "output_type": "execute_result"
    }
   ],
   "source": [
    "accident.groupby('District Area')['Number_of_Vehicles'].mean().reset_index(name='Avg_Vehicles')"
   ]
  },
  {
   "cell_type": "markdown",
   "id": "93f04951-35b1-4275-bff6-be2948aea7ee",
   "metadata": {},
   "source": [
    "<h4>INSIGHTS :  Districts with higher averages may have more multi-vehicle collisions.</h4>"
   ]
  },
  {
   "cell_type": "markdown",
   "id": "f442ea17-ea10-4c88-a445-ab299e6ee422",
   "metadata": {},
   "source": [
    "<h3>9.) How many accidents include more than one vehicle?</h3>"
   ]
  },
  {
   "cell_type": "code",
   "execution_count": 22,
   "id": "171d8eaa-42a2-4e56-91c3-9c03b09a5805",
   "metadata": {},
   "outputs": [
    {
     "data": {
      "text/plain": [
       "459892"
      ]
     },
     "execution_count": 22,
     "metadata": {},
     "output_type": "execute_result"
    }
   ],
   "source": [
    "accident[accident['Number_of_Vehicles'] > 1].shape[0]"
   ]
  },
  {
   "cell_type": "markdown",
   "id": "5cc2d6ba-f32a-46a4-b2f1-50d95a9a0402",
   "metadata": {},
   "source": [
    "<h4>INSIGHTS : Shows proportion of multi-vehicle collisions versus single-vehicle incidents.</h4>"
   ]
  },
  {
   "cell_type": "markdown",
   "id": "9a353ed0-f510-46d3-9a21-95ce12d3235f",
   "metadata": {},
   "source": [
    "<h3>10.) Are there differences in casualties between daylight, darkness with lights, and darkness without lights?</h3>"
   ]
  },
  {
   "cell_type": "code",
   "execution_count": 23,
   "id": "1b571a97-d3db-45ce-b511-9f0f05d12d10",
   "metadata": {},
   "outputs": [
    {
     "data": {
      "text/plain": [
       "(np.float64(1051.9027966748497), np.float64(0.0))"
      ]
     },
     "execution_count": 23,
     "metadata": {},
     "output_type": "execute_result"
    }
   ],
   "source": [
    "day = accident[accident['Light_Conditions'] == 'Daylight']['Number_of_Casualties']\n",
    "lit = accident[accident['Light_Conditions'] == 'Darkness - lights lit']['Number_of_Casualties']\n",
    "unlit = accident[accident['Light_Conditions'] == 'Darkness - no lighting']['Number_of_Casualties']\n",
    "\n",
    "stats, p_value = f_oneway(day.dropna(), lit.dropna(), unlit.dropna())\n",
    "stats, p_value"
   ]
  },
  {
   "cell_type": "markdown",
   "id": "9ca09f1e-1801-423e-80e6-3224d069183e",
   "metadata": {},
   "source": [
    "<h4>INSIGHTS : This shows wheather light conditions impact how severe the accidents are in terms of casualties.</h4>"
   ]
  },
  {
   "cell_type": "markdown",
   "id": "19a94d0d-4a41-4e8d-a140-c38112615e7a",
   "metadata": {},
   "source": [
    "<h3>11.) Which vehicle type is most often involved in fatal accidents?</h3>"
   ]
  },
  {
   "cell_type": "code",
   "execution_count": 24,
   "id": "e9a8492f-a8c9-445a-8a34-1f5be1f232a7",
   "metadata": {},
   "outputs": [
    {
     "data": {
      "text/plain": [
       "Vehicle_Type\n",
       "Car    6577\n",
       "Name: count, dtype: int64"
      ]
     },
     "execution_count": 24,
     "metadata": {},
     "output_type": "execute_result"
    }
   ],
   "source": [
    "accident[accident['Accident_Severity'] == 'Fatal']['Vehicle_Type'].value_counts().head(1)"
   ]
  },
  {
   "cell_type": "markdown",
   "id": "0fc2331b-58e0-41c3-9d2d-6e9dfd2b334c",
   "metadata": {},
   "source": [
    "<h4>INSIGHTS : This identifies the vehicle most frequently linked with deadly crashes.</h4>"
   ]
  },
  {
   "cell_type": "markdown",
   "id": "27e4f62c-4c44-4c24-a074-0834203e9908",
   "metadata": {},
   "source": [
    "<h3>12.) What is the most common road type where accidents occur?</h3>"
   ]
  },
  {
   "cell_type": "code",
   "execution_count": 25,
   "id": "1450cee6-4f85-48a2-abb5-03bda23fe176",
   "metadata": {},
   "outputs": [
    {
     "data": {
      "text/plain": [
       "'Single carriageway'"
      ]
     },
     "execution_count": 25,
     "metadata": {},
     "output_type": "execute_result"
    }
   ],
   "source": [
    "accident['Road_Type'].mode()[0]"
   ]
  },
  {
   "cell_type": "markdown",
   "id": "e7ce6bf8-3abe-4cb3-9769-4f951c6c0c5b",
   "metadata": {},
   "source": [
    "<h4>INSIGHTS : This shows the road type most prone to accident, which helps authorities focus safety improvements.</h4>"
   ]
  },
  {
   "cell_type": "markdown",
   "id": "7c441096-7749-4b42-a754-4e61e7e90c45",
   "metadata": {},
   "source": [
    "<h3>13.) What is the correlation between number of vehicles and number of casualties?</h3>"
   ]
  },
  {
   "cell_type": "code",
   "execution_count": 26,
   "id": "263ec26a-c552-47f7-af10-fcce42a3648b",
   "metadata": {},
   "outputs": [
    {
     "data": {
      "text/html": [
       "<div>\n",
       "<style scoped>\n",
       "    .dataframe tbody tr th:only-of-type {\n",
       "        vertical-align: middle;\n",
       "    }\n",
       "\n",
       "    .dataframe tbody tr th {\n",
       "        vertical-align: top;\n",
       "    }\n",
       "\n",
       "    .dataframe thead th {\n",
       "        text-align: right;\n",
       "    }\n",
       "</style>\n",
       "<table border=\"1\" class=\"dataframe\">\n",
       "  <thead>\n",
       "    <tr style=\"text-align: right;\">\n",
       "      <th></th>\n",
       "      <th>Number_of_Vehicles</th>\n",
       "      <th>Number_of_Casualties</th>\n",
       "    </tr>\n",
       "  </thead>\n",
       "  <tbody>\n",
       "    <tr>\n",
       "      <th>Number_of_Vehicles</th>\n",
       "      <td>1.000000</td>\n",
       "      <td>0.228889</td>\n",
       "    </tr>\n",
       "    <tr>\n",
       "      <th>Number_of_Casualties</th>\n",
       "      <td>0.228889</td>\n",
       "      <td>1.000000</td>\n",
       "    </tr>\n",
       "  </tbody>\n",
       "</table>\n",
       "</div>"
      ],
      "text/plain": [
       "                      Number_of_Vehicles  Number_of_Casualties\n",
       "Number_of_Vehicles              1.000000              0.228889\n",
       "Number_of_Casualties            0.228889              1.000000"
      ]
     },
     "execution_count": 26,
     "metadata": {},
     "output_type": "execute_result"
    }
   ],
   "source": [
    "accident[['Number_of_Vehicles', 'Number_of_Casualties']].corr()"
   ]
  },
  {
   "cell_type": "markdown",
   "id": "3c129bee-02ad-4778-b286-1bfaa019c762",
   "metadata": {},
   "source": [
    "<h4>INSIGHTS : This correlation shows if more vehicles usually lead to more casualties.</h4>"
   ]
  },
  {
   "cell_type": "markdown",
   "id": "6bda4ca6-990f-4756-8284-27a43e8e9414",
   "metadata": {},
   "source": [
    "<h3>14.) Perform a t-test comparing the number of vehicles and number of casualties.</h3>"
   ]
  },
  {
   "cell_type": "code",
   "execution_count": 27,
   "id": "f6adafcd-1d52-4db3-8c32-8be6f7c4aba4",
   "metadata": {},
   "outputs": [
    {
     "data": {
      "text/plain": [
       "(np.float64(124644.05667145054), np.float64(0.0))"
      ]
     },
     "execution_count": 27,
     "metadata": {},
     "output_type": "execute_result"
    }
   ],
   "source": [
    "stats, p_value = f_oneway(accident['Number_of_Vehicles'].dropna(),accident['Number_of_Casualties'].dropna())\n",
    "stats, p_value"
   ]
  },
  {
   "cell_type": "markdown",
   "id": "943724a0-2d41-4111-b42c-07d84c71633f",
   "metadata": {},
   "source": [
    "<h4>INSIGHTS : This test checks if there is a significant statistical difference between vehicles and casualties data.</h4> "
   ]
  },
  {
   "cell_type": "markdown",
   "id": "6030e6a2-a14f-41dd-9402-c2f6c0076b0b",
   "metadata": {},
   "source": [
    "<h3>15.) What is the variance in the number of casualties?</h3>"
   ]
  },
  {
   "cell_type": "code",
   "execution_count": 28,
   "id": "f11edcc4-4754-4c2d-931c-8eb41c41656b",
   "metadata": {},
   "outputs": [
    {
     "data": {
      "text/plain": [
       "np.float64(0.6803724822080995)"
      ]
     },
     "execution_count": 28,
     "metadata": {},
     "output_type": "execute_result"
    }
   ],
   "source": [
    "casualty_variance = accident ['Number_of_Casualties'].var()\n",
    "casualty_variance"
   ]
  },
  {
   "cell_type": "markdown",
   "id": "0cd581b4-935e-47d3-be5c-533ef102a2d3",
   "metadata": {},
   "source": [
    "<h4>INSIGHTS : This explains how spread out casualty numbers are across all accidents.</h4>"
   ]
  },
  {
   "cell_type": "markdown",
   "id": "f1718be2-a6ef-4f8c-b95d-846646beb32f",
   "metadata": {},
   "source": [
    "<h3>16.) Check if there is a correlation between number of vehicles and number of casualties.</h3>"
   ]
  },
  {
   "cell_type": "code",
   "execution_count": 29,
   "id": "da56d181-afd9-4405-800c-b5e87c8b3abb",
   "metadata": {},
   "outputs": [
    {
     "data": {
      "text/plain": [
       "np.float64(0.2288888612692759)"
      ]
     },
     "execution_count": 29,
     "metadata": {},
     "output_type": "execute_result"
    }
   ],
   "source": [
    "correlation = accident ['Number_of_Vehicles'].corr(accident['Number_of_Casualties'])\n",
    "correlation"
   ]
  },
  {
   "cell_type": "markdown",
   "id": "9eaa11ae-a206-4713-ab1e-812e5fcf8afd",
   "metadata": {},
   "source": [
    "<h4>INSIGHTS : A possitive correlation means more vehicles tend to cause more casualties.</h4>"
   ]
  },
  {
   "cell_type": "markdown",
   "id": "a90fe1a0-a0fd-4ef4-a7b7-8e7288c518f5",
   "metadata": {},
   "source": [
    "<h3>17.) How many accidents occurred in 2019?</h3>"
   ]
  },
  {
   "cell_type": "code",
   "execution_count": 30,
   "id": "4fa548d4-724b-4013-a701-78b5796bc16f",
   "metadata": {},
   "outputs": [
    {
     "data": {
      "text/plain": [
       "71867"
      ]
     },
     "execution_count": 30,
     "metadata": {},
     "output_type": "execute_result"
    }
   ],
   "source": [
    "accident_2019 = accident[accident['Accident Date'].dt.year == 2019].shape[0]\n",
    "accident_2019"
   ]
  },
  {
   "cell_type": "markdown",
   "id": "c4d05539-519b-447f-a6e7-4b61aec454b4",
   "metadata": {},
   "source": [
    "<h4>INSIGHTS : This filters accidents by year to see how frequent they were in 2019.</h4>"
   ]
  },
  {
   "cell_type": "markdown",
   "id": "830cb2f1-cb05-4c51-9b6d-3b2ad531dec5",
   "metadata": {},
   "source": [
    "<h3>18.) How many accidents happened on weekend vs weekdays?</h3>"
   ]
  },
  {
   "cell_type": "code",
   "execution_count": 31,
   "id": "9c076b22-5b63-40e7-b429-b05021eb9d8c",
   "metadata": {},
   "outputs": [
    {
     "data": {
      "text/plain": [
       "(75523, 189484)"
      ]
     },
     "execution_count": 31,
     "metadata": {},
     "output_type": "execute_result"
    }
   ],
   "source": [
    "accident['Weekday'] = accident['Accident Date'].dt.dayofweek\n",
    "weekend = accident[accident['Weekday'] >= 5].shape[0]\n",
    "weekday = accident[accident['Weekday'] < 5].shape[0]\n",
    "weekend, weekday"
   ]
  },
  {
   "cell_type": "markdown",
   "id": "7c9b0243-f476-4c8d-bb47-41988f9486a6",
   "metadata": {},
   "source": [
    "<h4>INSIGHTS : Compares weekend vs weekday driving risks.</h4>"
   ]
  },
  {
   "cell_type": "markdown",
   "id": "7a662f91-f813-46d1-8096-51163066e8e8",
   "metadata": {},
   "source": [
    "<h3>19.) How many accidents happened in December 2020?</h3>"
   ]
  },
  {
   "cell_type": "code",
   "execution_count": 32,
   "id": "edae32ba-e077-44c0-9dee-181574e2e9a9",
   "metadata": {},
   "outputs": [
    {
     "data": {
      "text/plain": [
       "5960"
      ]
     },
     "execution_count": 32,
     "metadata": {},
     "output_type": "execute_result"
    }
   ],
   "source": [
    "dec2020 = accident[(accident['Accident Date'].dt.year == 2020) & (accident['Accident Date'].dt.month == 12)].shape[0]\n",
    "dec2020"
   ]
  },
  {
   "cell_type": "markdown",
   "id": "3a7b4871-6641-4f35-b4b5-71de8e525245",
   "metadata": {},
   "source": [
    "<h4>INSIGHTS : Narrows down to a sigle month in a single year for detailed analysis.</h4>"
   ]
  },
  {
   "cell_type": "markdown",
   "id": "2a490aca-5a41-4380-816b-59e6af954756",
   "metadata": {},
   "source": [
    "<h3>20.) Which road surface condition is most common in accidents?</h3>"
   ]
  },
  {
   "cell_type": "code",
   "execution_count": 33,
   "id": "e201453d-e814-461d-9312-cbe6aa836a40",
   "metadata": {},
   "outputs": [
    {
     "data": {
      "image/png": "[encoded data removed]",
      "text/plain": [
       "<Figure size 800x500 with 1 Axes>"
      ]
     },
     "metadata": {},
     "output_type": "display_data"
    }
   ],
   "source": [
    "road_surface_counts = accident['Road_Surface_Conditions'].value_counts()\n",
    "road_surface_counts.plot(\n",
    "    kind = 'bar',\n",
    "    color = ['red','blue','green','yellow','black'],\n",
    "    figsize = (8,5),\n",
    "    title = 'Accident by Road Surface Condition'\n",
    ")\n",
    "\n",
    "plt.xlabel(\"Road Surface Condition\")\n",
    "plt.ylabel(\"Number of Accident\")\n",
    "plt.grid(axis='y', alpha=0.5)\n",
    "plt.show()"
   ]
  },
  {
   "cell_type": "markdown",
   "id": "5d2b1238-d2e9-4a08-b29f-4e5812617b58",
   "metadata": {},
   "source": [
    "<h4>INSIGHT: Most accidents happen on Dry roads, showing that weather alone isn't the biggest factor. High traffic volume and driver behavior often matter more than slippery surfaces.</h4>"
   ]
  },
  {
   "cell_type": "markdown",
   "id": "8c1c5e15-1137-462d-9b4b-ba354eb873cb",
   "metadata": {},
   "source": [
    "<h3>21.) Do most accidents happen in urban or rural areas?</h3>"
   ]
  },
  {
   "cell_type": "code",
   "execution_count": 34,
   "id": "906af11d-a916-4e00-b68d-4dd84affaa18",
   "metadata": {},
   "outputs": [
    {
     "data": {
      "image/png": "[encoded data removed]",
      "text/plain": [
       "<Figure size 600x600 with 1 Axes>"
      ]
     },
     "metadata": {},
     "output_type": "display_data"
    }
   ],
   "source": [
    "urban_rural_counts = accident['Urban_or_Rural_Area'].value_counts()\n",
    "urban_rural_counts.plot(\n",
    "    kind = 'pie',\n",
    "    colors = ['blue','red'],\n",
    "    figsize = (6,6),\n",
    "    title = 'Urban vs Rural Accidents'\n",
    ")\n",
    "\n",
    "plt.ylabel(\"\")\n",
    "plt.show()"
   ]
  },
  {
   "cell_type": "markdown",
   "id": "bc224ee8-f404-4baa-96c3-a74bb64424fa",
   "metadata": {},
   "source": [
    "<h4>INSIGHT: Accident are more frequent in urban areas because of traffic congestion,intersections and pedestrian crossings. This highlights the need for stricter traffic management in cities.</h4>"
   ]
  },
  {
   "cell_type": "markdown",
   "id": "4e44adb8-a38f-4e11-89ac-fbe52a3f9c8f",
   "metadata": {},
   "source": [
    "<h3>22.) What does this chart imply about the risks of different vehicles?</h3>"
   ]
  },
  {
   "cell_type": "code",
   "execution_count": 35,
   "id": "d98d0362-4374-4a8d-8809-984559aebba2",
   "metadata": {},
   "outputs": [
    {
     "data": {
      "image/png": "[encoded data removed]",
      "text/plain": [
       "<Figure size 800x500 with 1 Axes>"
      ]
     },
     "metadata": {},
     "output_type": "display_data"
    }
   ],
   "source": [
    "vehicle_counts = accident['Vehicle_Type'].value_counts()\n",
    "vehicle_counts.plot(\n",
    "    kind = 'barh',\n",
    "    color = ['lightcoral'],\n",
    "    figsize = (8,5),\n",
    "    title = 'Top Vehicles Types Involved in Accidents'\n",
    ")\n",
    "\n",
    "plt.xlabel(\"Number of Accidents\")\n",
    "plt.ylabel(\"Vehicle Type\")\n",
    "plt.grid(axis='x', alpha=0.5)\n",
    "plt.show()"
   ]
  },
  {
   "cell_type": "markdown",
   "id": "6587cc25-213f-4e40-9205-2badf6b423a1",
   "metadata": {},
   "source": [
    "<h4>INSIGHT: The bar chart usually shows cars leading accident counts because they are the most common vehicles on the road. However, motorcycles, despite lower numbers, may still face higher risk per vehicle due to their vulnerability.</h4>"
   ]
  },
  {
   "cell_type": "markdown",
   "id": "c5e09ae8-cdbe-467f-8954-3469650aec76",
   "metadata": {},
   "source": [
    "<h3>23.) Do more accidents occur during daylight or darkness?</h3>"
   ]
  },
  {
   "cell_type": "code",
   "execution_count": 36,
   "id": "fba6420c-429c-4846-ac89-cc63f5e85833",
   "metadata": {},
   "outputs": [
    {
     "data": {
      "image/png": "[encoded data removed]",
      "text/plain": [
       "<Figure size 800x500 with 1 Axes>"
      ]
     },
     "metadata": {},
     "output_type": "display_data"
    }
   ],
   "source": [
    "light_counts = accident['Light_Conditions'].value_counts()\n",
    "\n",
    "light_counts.plot(\n",
    "    kind='bar',\n",
    "    color=['red','green','blue'],\n",
    "    figsize=(8,5),\n",
    "    title='Accidents by Light Conditions'\n",
    ")\n",
    "\n",
    "plt.xlabel(\"Light Condition\")\n",
    "plt.ylabel(\"Number of Accidents\")\n",
    "plt.grid(axis='y', alpha=0.5)\n",
    "plt.show()"
   ]
  },
  {
   "cell_type": "markdown",
   "id": "bd1813d4-03b6-4c2d-b29d-fd5d32f7ebd3",
   "metadata": {},
   "source": [
    "<h4>INSIGHT: Most accidents occur in daylight because traffic is heavier. However, night-time accidents, although fewer, are often more severe due to visibility issues.</h4>"
   ]
  },
  {
   "cell_type": "markdown",
   "id": "ad8fe72b-3298-4d83-bc56-c13331127cd0",
   "metadata": {},
   "source": [
    "<h3>24.) What types of roads record more accidents?</h3>"
   ]
  },
  {
   "cell_type": "code",
   "execution_count": 37,
   "id": "272c2800-12fe-473e-8ce6-3135d10c614c",
   "metadata": {},
   "outputs": [
    {
     "data": {
      "image/png": "[encoded data removed]",
      "text/plain": [
       "<Figure size 640x480 with 1 Axes>"
      ]
     },
     "metadata": {},
     "output_type": "display_data"
    }
   ],
   "source": [
    "accident['Road_Type'].value_counts().plot(kind='bar')\n",
    "plt.title(\"Accidents by Road Type\")\n",
    "plt.xlabel(\"Road Type\")\n",
    "plt.ylabel(\"Number of Accidents\")\n",
    "plt.show()"
   ]
  },
  {
   "cell_type": "markdown",
   "id": "0ea9d972-8233-4bfa-87fd-55462c34d309",
   "metadata": {},
   "source": [
    "<h4>INSIGHT: The visualization makes it easier to compare which road categories, like single carriageways or dual carriageways, are riskier.</h4>"
   ]
  },
  {
   "cell_type": "markdown",
   "id": "b20f80b4-4f45-4028-8f64-c962cfd5f576",
   "metadata": {},
   "source": [
    "<h3>25.) What is the percentage of accidents by road surface conditions?</h3>"
   ]
  },
  {
   "cell_type": "code",
   "execution_count": 38,
   "id": "e4efea9f-dc98-48a2-bad7-3f234e25b9f0",
   "metadata": {},
   "outputs": [
    {
     "data": {
      "image/png": "[encoded data removed]",
      "text/plain": [
       "<Figure size 640x480 with 1 Axes>"
      ]
     },
     "metadata": {},
     "output_type": "display_data"
    }
   ],
   "source": [
    "accident['Road_Surface_Conditions'].value_counts().plot(kind='pie', autopct='%1.1f%%')\n",
    "plt.title(\"Percentage of Accidents by Road Surface Conditions\")\n",
    "plt.ylabel(\"\")\n",
    "plt.show()"
   ]
  },
  {
   "cell_type": "markdown",
   "id": "32eec548-28a7-4b4e-9d26-01945c698df9",
   "metadata": {},
   "source": [
    "<h4>INSIGHT: The pie chart shows how often accidents happen on dry, wet, or icy roads, helping in planning for seasonal hazards.</h4>"
   ]
  },
  {
   "cell_type": "code",
   "execution_count": 74,
   "id": "508ba50b-6760-4d5a-8610-b77bef9e4f1f",
   "metadata": {
    "scrolled": true
   },
   "outputs": [
    {
     "data": {
      "text/plain": [
       "Index                            category\n",
       "Accident_Severity                category\n",
       "Accident Date              datetime64[ns]\n",
       "Latitude                          float64\n",
       "Light_Conditions                 category\n",
       "District Area                    category\n",
       "Longitude                         float64\n",
       "Number_of_Casualties                int64\n",
       "Number_of_Vehicles                  int64\n",
       "Road_Surface_Conditions          category\n",
       "Road_Type                        category\n",
       "Urban_or_Rural_Area              category\n",
       "Weather_Conditions               category\n",
       "Vehicle_Type                     category\n",
       "dtype: object"
      ]
     },
     "execution_count": 74,
     "metadata": {},
     "output_type": "execute_result"
    }
   ],
   "source": [
    "accident.dtypes("
   ]
  },
  {
   "cell_type": "code",
   "execution_count": 115,
   "id": "95c68b68-68df-4d3e-8d45-545cac898d9e",
   "metadata": {},
   "outputs": [
    {
     "name": "stdout",
     "output_type": "stream",
     "text": [
      "Kensington and Chelsea\n",
      "Westminster\n",
      "Richmond upon Thames\n",
      "Hammersmith and Fulham\n",
      "Hounslow\n",
      "Tower Hamlets\n",
      "City of London\n",
      "Southwark\n",
      "Camden\n",
      "Hackney\n",
      "Islington\n",
      "Barnet\n",
      "Brent\n",
      "Haringey\n",
      "Merton\n",
      "Ealing\n",
      "Enfield\n",
      "Greenwich\n",
      "Newham\n",
      "London Airport (Heathrow)\n",
      "Hillingdon\n",
      "Waltham Forest\n",
      "Redbridge\n",
      "Barking and Dagenham\n",
      "Bromley\n",
      "Havering\n",
      "Croydon\n",
      "Lambeth\n",
      "Wandsworth\n",
      "Sutton\n",
      "Bexley\n",
      "Lewisham\n",
      "Harrow\n",
      "Kingston upon Thames\n",
      "Barrow-in-Furness\n",
      "South Lakeland\n",
      "Carlisle\n",
      "Eden\n",
      "Allerdale\n",
      "Copeland\n",
      "Fylde\n",
      "Blackpool\n",
      "Wyre\n",
      "Lancaster\n",
      "Chorley\n",
      "West Lancashire\n",
      "South Ribble\n",
      "Preston\n",
      "Blackburn with Darwen\n",
      "Hyndburn\n",
      "Ribble Valley\n",
      "Burnley\n",
      "Pendle\n",
      "Rossendale\n",
      "Wirral\n",
      "Liverpool\n",
      "Sefton\n",
      "Knowsley\n",
      "St. Helens\n",
      "Manchester\n",
      "Salford\n",
      "Tameside\n",
      "Stockport\n",
      "Bolton\n",
      "Wigan\n",
      "Trafford\n",
      "Bury\n",
      "Rochdale\n",
      "Oldham\n",
      "Chester\n",
      "Vale Royal\n",
      "Halton\n",
      "Warrington\n",
      "Crewe and ntwich\n",
      "Ellesmere Port and Neston\n",
      "Congleton\n",
      "Macclesfield\n",
      "Crewe and Nantwich\n",
      "Blyth Valley\n",
      "Sunderland\n",
      "Gateshead\n",
      "North Tyneside\n",
      "Tynedale\n",
      "Berwick-upon-Tweed\n",
      "Newcastle upon Tyne\n",
      "Castle Morpeth\n",
      "South Tyneside\n",
      "Wansbeck\n",
      "Alnwick\n",
      "Wear Valley\n",
      "Sedgefield\n",
      "Durham\n",
      "Easington\n",
      "Chester-le-Street\n",
      "Derwentside\n",
      "Teesdale\n",
      "Darlington\n",
      "Craven\n",
      "Hambleton\n",
      "Richmondshire\n",
      "York\n",
      "Harrogate\n",
      "Selby\n",
      "Scarborough\n",
      "Ryedale\n",
      "Kirklees\n",
      "Leeds\n",
      "Wakefield\n",
      "Bradford\n",
      "Calderdale\n",
      "Doncaster\n",
      "Barnsley\n",
      "Sheffield\n",
      "Rotherham\n",
      "North East Lincolnshire\n",
      "North Lincolnshire\n",
      "East Riding of Yorkshire\n",
      "Kingston upon Hull, City of\n",
      "Redcar and Cleveland\n",
      "Hartlepool\n",
      "Middlesbrough\n",
      "Stockton-on-Tees\n",
      "Birmingham\n",
      "Wolverhampton\n",
      "Walsall\n",
      "Dudley\n",
      "Sandwell\n",
      "Solihull\n",
      "Coventry\n",
      "Newcastle-under-Lyme\n",
      "Stafford\n",
      "East Staffordshire\n",
      "South Staffordshire\n",
      "Lichfield\n",
      "Stoke-on-Trent\n",
      "Cannock Chase\n",
      "Tamworth\n",
      "Staffordshire Moorlands\n",
      "Malvern Hills\n",
      "Worcester\n",
      "Wychavon\n",
      "Wyre Forest\n",
      "Redditch\n",
      "Bromsgrove\n",
      "Herefordshire, County of\n",
      "Telford and Wrekin\n",
      "South Shropshire\n",
      "Bridgnorth\n",
      "Shrewsbury and Atcham\n",
      "North Shropshire\n",
      "Oswestry\n",
      "Warwick\n",
      "Stratford-upon-Avon\n",
      "Rugby\n",
      "North Warwickshire\n",
      "Nuneaton and Bedworth\n",
      "Amber Valley\n",
      "Erewash\n",
      "Bolsover\n",
      "High Peak\n",
      "Derbyshire Dales\n",
      "North East Derbyshire\n",
      "Chesterfield\n",
      "Derby\n",
      "South Derbyshire\n",
      "Ashfield\n",
      "Mansfield\n",
      "Newark and Sherwood\n",
      "Bassetlaw\n",
      "Gedling\n",
      "Rushcliffe\n",
      "Nottingham\n",
      "Broxtowe\n",
      "South Holland\n",
      "South Kesteven\n",
      "North Kesteven\n",
      "East Lindsey\n",
      "Boston\n",
      "West Lindsey\n",
      "Lincoln\n",
      "Hinckley and Bosworth\n",
      "Harborough\n",
      "Leicester\n",
      "Rutland\n",
      "Charnwood\n",
      "Melton\n",
      "North West Leicestershire\n",
      "Blaby\n",
      "Oadby and Wigston\n",
      "South Northamptonshire\n",
      "Northampton\n",
      "Kettering\n",
      "Corby\n",
      "Daventry\n",
      "East Northamptonshire\n",
      "Wellingborough\n",
      "South Cambridgeshire\n",
      "Fenland\n",
      "Huntingdonshire\n",
      "Peterborough\n",
      "East Cambridgeshire\n",
      "Cambridge\n",
      "King's Lynn and West Norfolk\n",
      "Norwich\n",
      "Breckland\n",
      "South Norfolk\n",
      "Broadland\n",
      "Great Yarmouth\n",
      "North Norfolk\n",
      "St. Edmundsbury\n",
      "Babergh\n",
      "Mid Suffolk\n",
      "Forest Heath\n",
      "Suffolk Coastal\n",
      "Ipswich\n",
      "Waveney\n",
      "Luton\n",
      "Mid Bedfordshire\n",
      "Bedford\n",
      "South Bedfordshire\n",
      "East Hertfordshire\n",
      "North Hertfordshire\n",
      "Welwyn Hatfield\n",
      "St. Albans\n",
      "Hertsmere\n",
      "Three Rivers\n",
      "Watford\n",
      "Dacorum\n",
      "Broxbourne\n",
      "Stevege\n",
      "Stevenage\n",
      "Epping Forest\n",
      "Brentwood\n",
      "Castle Point\n",
      "Uttlesford\n",
      "Chelmsford\n",
      "Basildon\n",
      "Tendring\n",
      "Colchester\n",
      "Thurrock\n",
      "Braintree\n",
      "Rochford\n",
      "Maldon\n",
      "Southend-on-Sea\n",
      "Harlow\n",
      "Aylesbury Vale\n",
      "Wycombe\n",
      "South Bucks\n",
      "Chiltern\n",
      "Slough\n",
      "Windsor and Maidenhead\n",
      "South Oxfordshire\n",
      "Milton Keynes\n",
      "Cherwell\n",
      "Vale of White Horse\n",
      "West Oxfordshire\n",
      "Oxford\n",
      "Reading\n",
      "West Berkshire\n",
      "Wokingham\n",
      "Bracknell Forest\n",
      "Eastleigh\n",
      "Test Valley\n",
      "Portsmouth\n",
      "Winchester\n",
      "Basingstoke and Deane\n",
      "Southampton\n",
      "Fareham\n",
      "Hart\n",
      "Gosport\n",
      "Havant\n",
      "Isle of Wight\n",
      "East Hampshire\n",
      "Rushmoor\n",
      "New Forest\n",
      "Elmbridge\n",
      "Mole Valley\n",
      "Guildford\n",
      "Spelthorne\n",
      "Epsom and Ewell\n",
      "Runnymede\n",
      "Woking\n",
      "Reigate and Banstead\n",
      "Surrey Heath\n",
      "Waverley\n",
      "Tandridge\n",
      "Medway\n",
      "Thanet\n",
      "Shepway\n",
      "Ashford\n",
      "Maidstone\n",
      "Dover\n",
      "Tunbridge Wells\n",
      "Canterbury\n",
      "Tonbridge and Malling\n",
      "Swale\n",
      "Dartford\n",
      "Sevenoaks\n",
      "Gravesham\n",
      "Brighton and Hove\n",
      "Chichester\n",
      "Rother\n",
      "Lewes\n",
      "Wealden\n",
      "Eastbourne\n",
      "Hastings\n",
      "Crawley\n",
      "Horsham\n",
      "Mid Sussex\n",
      "Arun\n",
      "Adur\n",
      "Worthing\n",
      "Kerrier\n",
      "Restormel\n",
      "Carrick\n",
      "Penwith\n",
      "North Cornwall\n",
      "West Devon\n",
      "Torridge\n",
      "Caradon\n",
      "North Devon\n",
      "Mid Devon\n",
      "Exeter\n",
      "East Devon\n",
      "Teignbridge\n",
      "Plymouth\n",
      "South Hams\n",
      "Torbay\n",
      "Bristol, City of\n",
      "South Somerset\n",
      "Sedgemoor\n",
      "Mendip\n",
      "Taunton Deane\n",
      "South Gloucestershire\n",
      "North Somerset\n",
      "Bath and North East Somerset\n",
      "West Somerset\n",
      "Stroud\n",
      "Tewkesbury\n",
      "Gloucester\n",
      "Cotswold\n",
      "Cheltenham\n",
      "Forest of Dean\n",
      "Salisbury\n",
      "Kennet\n",
      "West Wiltshire\n",
      "North Wiltshire\n",
      "Swindon\n",
      "Bournemouth\n",
      "Poole\n",
      "East Dorset\n",
      "West Dorset\n",
      "Weymouth and Portland\n",
      "Christchurch\n",
      "Purbeck\n",
      "North Dorset\n",
      "Isle of Anglesey\n",
      "Conwy\n",
      "Denbighshire\n",
      "Flintshire\n",
      "Wrexham\n",
      "Gwynedd\n",
      "Monmouthshire\n",
      "Newport\n",
      "Caerphilly\n",
      "Torfaen\n",
      "Blaeu Gwent\n",
      "Blaenau Gwent\n",
      "Merthyr Tydfil\n",
      "The Vale of Glamorgan\n",
      "Cardiff\n",
      "Rhondda, Cynon, Taff\n",
      "Swansea\n",
      "Bridgend\n",
      "Neath Port Talbot\n",
      "Carmarthenshire\n",
      "Ceredigion\n",
      "Pembrokeshire\n",
      "Powys\n",
      "Highland\n",
      "Western Isles\n",
      "Orkney Islands\n",
      "Shetland Islands\n",
      "Aberdeenshire\n",
      "Moray\n",
      "Aberdeen City\n",
      "Dundee City\n",
      "Angus\n",
      "Perth and Kinross\n",
      "Fife\n",
      "East Lothian\n",
      "Midlothian\n",
      "Scottish Borders\n",
      "Edinburgh, City of\n",
      "West Lothian\n",
      "Falkirk\n",
      "Clackmannanshire\n",
      "Stirling\n",
      "Clackmannshire\n",
      "Glasgow City\n",
      "East Dunbartonshire\n",
      "North Larkshire\n",
      "North Lanarkshire\n",
      "Renfrewshire\n",
      "East Renfrewshire\n",
      "East Ayrshire\n",
      "South Larkshire\n",
      "Inverclyde\n",
      "West Dunbartonshire\n",
      "Argyll and Bute\n",
      "South Lanarkshire\n",
      "North Ayrshire\n",
      "South Ayrshire\n",
      "Dumfries and Galloway\n",
      "Cheshire East\n",
      "Cheshire West and Chester\n",
      "Northumberland\n",
      "County Durham\n",
      "Shropshire\n",
      "Central Bedfordshire\n",
      "Cornwall\n",
      "Wiltshire\n"
     ]
    }
   ],
   "source": [
    "for i in accident['District Area'].unique():\n",
    "    print(i)"
   ]
  },
  {
   "cell_type": "markdown",
   "id": "114a340e-8191-43d1-b91b-bb60bb04dbe4",
   "metadata": {},
   "source": [
    "<h3>26.) Show the monthly road accidents in Kensington and Chelsea from 2019–2022. Which month shows the highest accident activity in this district?</h3>"
   ]
  },
  {
   "cell_type": "code",
   "execution_count": 99,
   "id": "81da7558-e9f7-476e-baf3-d900070d66a8",
   "metadata": {},
   "outputs": [
    {
     "data": {
      "image/png": "[encoded data removed]",
      "text/plain": [
       "<Figure size 640x480 with 1 Axes>"
      ]
     },
     "metadata": {},
     "output_type": "display_data"
    }
   ],
   "source": [
    "monthly_districtdata = accident[accident['District Area'] == 'Kensington and Chelsea'].groupby(['Year','Month']).size().reset_index(name='Accidents')\n",
    "\n",
    "sns.lineplot(data=monthly_districtdata, x='Month', y='Accidents', hue='Year', marker='o')\n",
    "\n",
    "plt.title('Monthly Road Accidents in Kensington and Chelsea (2019-2022)')\n",
    "plt.legend(title='Year', bbox_to_anchor=(1.05, 1), loc='upper left')\n",
    "plt.grid(alpha=0.3)\n",
    "# plt.tight_layout()\n",
    "plt.xticks(range(1, 13), ['Jan','Feb','Mar','Apr','May','Jun','Jul','Aug','Sep','Oct','Nov','Dec'])\n",
    "plt.show()"
   ]
  },
  {
   "cell_type": "markdown",
   "id": "a423f853-4998-47d3-95da-22362596d9d5",
   "metadata": {},
   "source": [
    "<h4>Insight: Accident cases in Kensington and Chelsea are generally low and stable, but there is a sharp increase in November. In 2022, there were almost 1,700 reported accidents.  From a safety perspective, this illustrates the need to <b>closely investigate November incidents</b> to ascertain whether they are caused by actual traffic risks (holiday shopping rush, poor lighting, weather conditions) or potential data reporting issues. This unusual surge may be linked to <b>specific events, reporting anomalies, or seasonal factors</b> such as darker evenings and heavier winter traffic.  If sincere, local authorities should improve <b>lighting and pedestrian safety measures</b>, prioritize <b>preventive campaigns and traffic control in late autumn</b>, and lower risk during this high-incident period.</h4>"
   ]
  },
  {
   "cell_type": "markdown",
   "id": "6c4694ee-3194-4850-a887-7ff37c0c4bf3",
   "metadata": {},
   "source": [
    "<h3>27.) Which year recorded the highest total accidents in Halton?</h3>"
   ]
  },
  {
   "cell_type": "code",
   "execution_count": 111,
   "id": "406b5ca3-6835-4544-8904-b5e2937962eb",
   "metadata": {},
   "outputs": [
    {
     "data": {
      "image/png": "[encoded data removed]",
      "text/plain": [
       "<Figure size 1000x600 with 1 Axes>"
      ]
     },
     "metadata": {},
     "output_type": "display_data"
    }
   ],
   "source": [
    "halton_data = accident[accident['District Area'] == 'Halton']\n",
    "yearly_totals = halton_data.groupby('Year').size().reset_index(name='Accidents')\n",
    "\n",
    "plt.figure(figsize=(10,6))\n",
    "sns.barplot(data=yearly_totals, x='Year', y='Accidents', palette='Blues')\n",
    "plt.title('Yearly Accident Totals in Halton')\n",
    "plt.show()"
   ]
  },
  {
   "cell_type": "markdown",
   "id": "33f67e57-7649-4086-8b89-cd3c0182130d",
   "metadata": {},
   "source": [
    "<h4>Insight: In <b>Halton</b>, the accident trends from 2019 to 2022 reveal a <b>dramatic fluctuation</b>. The year <b>2020 stands out with an unusually high number of accidents, reaching more than 850 cases</b>, which is far higher than the other years. In comparison, <b>2019 recorded fewer than 150 accidents</b>, while <b>2021 and 2022 both dropped sharply to just around 100 cases each</b>.<br><br>This pattern suggests that <b>2020 was an exceptional year for road accidents in Halton</b>. One possible explanation could be disruptions in travel patterns during the early stages of the pandemic, where sudden changes in traffic volume and behavior led to <b>a spike in collisions</b>.<br><br>By 2021 and 2022, accident numbers <b>stabilized to much lower levels</b>, indicating that <b>road safety measures or reduced travel activity</b> may have contributed to the decline.\n",
    "</h4>"
   ]
  },
  {
   "cell_type": "markdown",
   "id": "17adb553-4ecf-47c4-aa90-99eca283665e",
   "metadata": {},
   "source": [
    "<h3>28.) How do accident frequencies in Sunderland vary by month?</h3>"
   ]
  },
  {
   "cell_type": "code",
   "execution_count": 112,
   "id": "88ec3e78-174c-4fd8-a0de-a367251628f1",
   "metadata": {},
   "outputs": [
    {
     "data": {
      "image/png": "[encoded data removed]",
      "text/plain": [
       "<Figure size 640x480 with 1 Axes>"
      ]
     },
     "metadata": {},
     "output_type": "display_data"
    }
   ],
   "source": [
    "district_data = accident[accident['District Area'] == 'Sunderland']\n",
    "\n",
    "sns.countplot(data=district_data, x='Month', palette='coolwarm')\n",
    "plt.title('Monthly Accident Frequency in Sunderland')\n",
    "plt.xticks(range(12), ['Jan','Feb','Mar','Apr','May','Jun','Jul','Aug','Sep','Oct','Nov','Dec'])\n",
    "plt.show()"
   ]
  },
  {
   "cell_type": "markdown",
   "id": "266e707e-b141-43c3-80bd-d4c59679cd76",
   "metadata": {},
   "source": [
    "<h4>Insight: When you look at Sunderland's monthly accident records, one thing stands out right away: <b>November is by far the worst month</b>. November suddenly jumps to <b>almost 1,800 cases</b>, which is <b>much higher than any other month</b>. The other months stay at <b>low and steady levels</b>.<br><br> This huge spike makes <b>November seem like a very special month</b>, almost as if all the quiet patterns of the year build up and then explode into road accidents. It could have something to do with the <b>time of year, like shorter days, colder weather, or even busier roads as the holidays get closer</b>.<br><br> On the other hand, months like <b>May through September stay very low, which shows that Sunderland roads are much safer in the late spring and summer</b>.</h4>"
   ]
  },
  {
   "cell_type": "markdown",
   "id": "c42fc6cc-68d1-46bc-b08c-ee61639a7044",
   "metadata": {},
   "source": [
    "<h3>29.) Which of the six districts (Sunderland, Halton, Warrington, Gateshead, Vale Royal, and Macclesfield) recorded the highest share of fatal accidents?</h3>"
   ]
  },
  {
   "cell_type": "code",
   "execution_count": 114,
   "id": "bea77103-88bc-4944-843d-e2a4d6cb75af",
   "metadata": {},
   "outputs": [
    {
     "data": {
      "image/png": "[encoded data removed]",
      "text/plain": [
       "<Figure size 800x800 with 1 Axes>"
      ]
     },
     "metadata": {},
     "output_type": "display_data"
    }
   ],
   "source": [
    "fatal_accidents = accident[accident['Accident_Severity'] == 'Fatal']\n",
    "\n",
    "fatal_counts = fatal_accidents.groupby(\"District Area\").size().loc[\n",
    "    [\"Sunderland\", \"Halton\", \"Warrington\", \"Gateshead\", \"Vale Royal\", \"Macclesfield\"]\n",
    "]\n",
    "\n",
    "plt.figure(figsize=(8,8))\n",
    "plt.pie(fatal_counts, labels=fatal_counts.index, autopct='%1.1f%%', startangle=90,\n",
    "        colors=plt.cm.Paired.colors)\n",
    "plt.title(\"Share of Fatal Accidents in Six Districts\")\n",
    "plt.show()"
   ]
  },
  {
   "cell_type": "markdown",
   "id": "be7b5af6-9898-4534-8eb8-888055de472c",
   "metadata": {},
   "source": [
    "<h4>Insight: The chart shows that <b>Warrington has the most fatal accidents (21.1%)</b>, which makes it the most dangerous of the six districts. <b>Halton</b>, on the other hand, <b>has the lowest number of deadly crashes (8.9%)</b>, which means there are fewer of them there. <b>Sunderland and Gateshead (18.7% each)</b> have almost the same level of risk, while <b>Macclesfield (17.1%)</b> and <b>Vale Royal (15.4%)</b> are in the middle.</h4>"
   ]
  },
  {
   "cell_type": "markdown",
   "id": "ad885a74-da0a-432b-b877-bdf55b1135c7",
   "metadata": {},
   "source": [
    "<h3>30.) What are  the critical hotspot of fatal accidents located in Camden?</h3>"
   ]
  },
  {
   "cell_type": "code",
   "execution_count": 41,
   "id": "9d5fc3cd-c0b7-4da2-b78e-3bb5937aa90c",
   "metadata": {},
   "outputs": [],
   "source": [
    "camden_df = accident[accident['District Area']== 'Camden']"
   ]
  },
  {
   "cell_type": "code",
   "execution_count": 42,
   "id": "cbec1b2e-ca15-4316-9920-3d8fc2ca3468",
   "metadata": {},
   "outputs": [
    {
     "data": {
      "text/html": [
       "<div style=\"width:100%;\"><div style=\"position:relative;width:100%;height:0;padding-bottom:60%;\"><span style=\"color:#565656\">Make this Notebook Trusted to load map: File -> Trust Notebook</span><iframe srcdoc=\"&lt;!DOCTYPE html&gt;\n",
       "&lt;html&gt;\n",
       "&lt;head&gt;\n",
       "    \n",
       "    &lt;meta http-equiv=&quot;content-type&quot; content=&quot;text/html; charset=UTF-8&quot; /&gt;\n",
       "    &lt;script src=&quot;https://cdn.jsdelivr.net/npm/leaflet@1.9.3/dist/leaflet.js&quot;&gt;&lt;/script&gt;\n",
       "    &lt;script src=&quot;https://code.jquery.com/jquery-3.7.1.min.js&quot;&gt;&lt;/script&gt;\n",
       "    &lt;script src=&quot;https://cdn.jsdelivr.net/npm/bootstrap@5.2.2/dist/js/bootstrap.bundle.min.js&quot;&gt;&lt;/script&gt;\n",
       "    &lt;script src=&quot;https://cdnjs.cloudflare.com/ajax/libs/Leaflet.awesome-markers/2.0.2/leaflet.awesome-markers.js&quot;&gt;&lt;/script&gt;\n",
       "    &lt;link rel=&quot;stylesheet&quot; href=&quot;https://cdn.jsdelivr.net/npm/leaflet@1.9.3/dist/leaflet.css&quot;/&gt;\n",
       "    &lt;link rel=&quot;stylesheet&quot; href=&quot;https://cdn.jsdelivr.net/npm/bootstrap@5.2.2/dist/css/bootstrap.min.css&quot;/&gt;\n",
       "    &lt;link rel=&quot;stylesheet&quot; href=&quot;https://netdna.bootstrapcdn.com/bootstrap/3.0.0/css/bootstrap-glyphicons.css&quot;/&gt;\n",
       "    &lt;link rel=&quot;stylesheet&quot; href=&quot;https://cdn.jsdelivr.net/npm/@fortawesome/fontawesome-free@6.2.0/css/all.min.css&quot;/&gt;\n",
       "    &lt;link rel=&quot;stylesheet&quot; href=&quot;https://cdnjs.cloudflare.com/ajax/libs/Leaflet.awesome-markers/2.0.2/leaflet.awesome-markers.css&quot;/&gt;\n",
       "    &lt;link rel=&quot;stylesheet&quot; href=&quot;https://cdn.jsdelivr.net/gh/python-visualization/folium/folium/templates/leaflet.awesome.rotate.min.css&quot;/&gt;\n",
       "    \n",
       "            &lt;meta name=&quot;viewport&quot; content=&quot;width=device-width,\n",
       "                initial-scale=1.0, maximum-scale=1.0, user-scalable=no&quot; /&gt;\n",
       "            &lt;style&gt;\n",
       "                #map_61ed846aad94eef7aa25707698f284dd {\n",
       "                    position: relative;\n",
       "                    width: 100.0%;\n",
       "                    height: 100.0%;\n",
       "                    left: 0.0%;\n",
       "                    top: 0.0%;\n",
       "                }\n",
       "                .leaflet-container { font-size: 1rem; }\n",
       "            &lt;/style&gt;\n",
       "\n",
       "            &lt;style&gt;html, body {\n",
       "                width: 100%;\n",
       "                height: 100%;\n",
       "                margin: 0;\n",
       "                padding: 0;\n",
       "            }\n",
       "            &lt;/style&gt;\n",
       "\n",
       "            &lt;style&gt;#map {\n",
       "                position:absolute;\n",
       "                top:0;\n",
       "                bottom:0;\n",
       "                right:0;\n",
       "                left:0;\n",
       "                }\n",
       "            &lt;/style&gt;\n",
       "\n",
       "            &lt;script&gt;\n",
       "                L_NO_TOUCH = false;\n",
       "                L_DISABLE_3D = false;\n",
       "            &lt;/script&gt;\n",
       "\n",
       "        \n",
       "    &lt;script src=&quot;https://cdn.jsdelivr.net/gh/python-visualization/folium@main/folium/templates/leaflet_heat.min.js&quot;&gt;&lt;/script&gt;\n",
       "&lt;/head&gt;\n",
       "&lt;body&gt;\n",
       "    \n",
       "    \n",
       "            &lt;div class=&quot;folium-map&quot; id=&quot;map_61ed846aad94eef7aa25707698f284dd&quot; &gt;&lt;/div&gt;\n",
       "        \n",
       "&lt;/body&gt;\n",
       "&lt;script&gt;\n",
       "    \n",
       "    \n",
       "            var map_61ed846aad94eef7aa25707698f284dd = L.map(\n",
       "                &quot;map_61ed846aad94eef7aa25707698f284dd&quot;,\n",
       "                {\n",
       "                    center: [51.53754890909092, -0.14937827272727275],\n",
       "                    crs: L.CRS.EPSG3857,\n",
       "                    ...{\n",
       "  &quot;zoom&quot;: 13,\n",
       "  &quot;zoomControl&quot;: true,\n",
       "  &quot;preferCanvas&quot;: false,\n",
       "}\n",
       "\n",
       "                }\n",
       "            );\n",
       "\n",
       "            \n",
       "\n",
       "        \n",
       "    \n",
       "            var tile_layer_a23b8a3042fe4e3b112128ac7acdc173 = L.tileLayer(\n",
       "                &quot;https://tile.openstreetmap.org/{z}/{x}/{y}.png&quot;,\n",
       "                {\n",
       "  &quot;minZoom&quot;: 0,\n",
       "  &quot;maxZoom&quot;: 19,\n",
       "  &quot;maxNativeZoom&quot;: 19,\n",
       "  &quot;noWrap&quot;: false,\n",
       "  &quot;attribution&quot;: &quot;\\u0026copy; \\u003ca href=\\&quot;https://www.openstreetmap.org/copyright\\&quot;\\u003eOpenStreetMap\\u003c/a\\u003e contributors&quot;,\n",
       "  &quot;subdomains&quot;: &quot;abc&quot;,\n",
       "  &quot;detectRetina&quot;: false,\n",
       "  &quot;tms&quot;: false,\n",
       "  &quot;opacity&quot;: 1,\n",
       "}\n",
       "\n",
       "            );\n",
       "        \n",
       "    \n",
       "            tile_layer_a23b8a3042fe4e3b112128ac7acdc173.addTo(map_61ed846aad94eef7aa25707698f284dd);\n",
       "        \n",
       "    \n",
       "            var heat_map_99265446e262537fd4a44ab0c500307d = L.heatLayer(\n",
       "                [[51.523684, -0.137327], [51.516285, -0.130134], [51.567477, -0.183154], [51.52168, -0.124435], [51.542714, -0.1752], [51.530038, -0.124092], [51.536714, -0.142418], [51.52424, -0.115824], [51.518931, -0.121233], [51.525565, -0.125573], [51.52419, -0.14091], [51.549438, -0.156612], [51.54504, -0.134435], [51.519016, -0.120941], [51.554941, -0.192454], [51.542551, -0.141892], [51.545937, -0.157042], [51.532943, -0.137093], [51.554015, -0.196529], [51.545844, -0.179834], [51.554069, -0.165225], [51.550764, -0.183965]],\n",
       "                {\n",
       "  &quot;minOpacity&quot;: 0.5,\n",
       "  &quot;maxZoom&quot;: 18,\n",
       "  &quot;radius&quot;: 25,\n",
       "  &quot;blur&quot;: 15,\n",
       "}\n",
       "            );\n",
       "        \n",
       "    \n",
       "            heat_map_99265446e262537fd4a44ab0c500307d.addTo(map_61ed846aad94eef7aa25707698f284dd);\n",
       "        \n",
       "    \n",
       "            tile_layer_a23b8a3042fe4e3b112128ac7acdc173.addTo(map_61ed846aad94eef7aa25707698f284dd);\n",
       "        \n",
       "    \n",
       "            heat_map_99265446e262537fd4a44ab0c500307d.addTo(map_61ed846aad94eef7aa25707698f284dd);\n",
       "        \n",
       "&lt;/script&gt;\n",
       "&lt;/html&gt;\" style=\"position:absolute;width:100%;height:100%;left:0;top:0;border:none !important;\" allowfullscreen webkitallowfullscreen mozallowfullscreen></iframe></div></div>"
      ],
      "text/plain": [
       "<folium.folium.Map at 0x2864f262cf0>"
      ]
     },
     "execution_count": 42,
     "metadata": {},
     "output_type": "execute_result"
    }
   ],
   "source": [
    "camden_fatal_df = camden_df[camden_df['Accident_Severity'] == 'Fatal']\n",
    "\n",
    "locations = list(zip(camden_fatal_df['Latitude'], camden_fatal_df['Longitude']))\n",
    "Camden_Map = folium.Map(location = [camden_fatal_df['Latitude'].mean(), camden_fatal_df['Longitude'].mean()], zoom_start=13)\n",
    "HeatMap(locations).add_to(Camden_Map)\n",
    "Camden_Map.save('Camden_heatmap.html')\n",
    "Camden_Map"
   ]
  },
  {
   "cell_type": "markdown",
   "id": "6cd43acd-72af-4fdd-949b-b28fb6ef921f",
   "metadata": {},
   "source": [
    "<h4>Insight: In Camdenn, the fatal accident heatmap highlights clusters around main intersections. These suggest that <b>congested road crossings</b> are the most vulnerable areas. Most accidents in Camden are classified as <b>slight</b>, which means most crashes here don’t lead to very severe injuries. The area has busy roads, so bumps and minor collisions are expected. It shows that while road risks are present, most are not life-threatening.</h4>"
   ]
  },
  {
   "cell_type": "markdown",
   "id": "d5709e20-02f0-430d-a263-53ce363298dc",
   "metadata": {},
   "source": [
    "<h3>31.) How are fatal road accidents distributed across Hackney?</h3>"
   ]
  },
  {
   "cell_type": "code",
   "execution_count": 43,
   "id": "b6681d9d-1215-401e-8a04-ce3015560353",
   "metadata": {},
   "outputs": [],
   "source": [
    "hackney_df = accident[accident['District Area']== 'Hackney']"
   ]
  },
  {
   "cell_type": "code",
   "execution_count": 44,
   "id": "2530f428-8884-4be1-a89f-a1f2d11122f5",
   "metadata": {},
   "outputs": [
    {
     "data": {
      "text/html": [
       "<div style=\"width:100%;\"><div style=\"position:relative;width:100%;height:0;padding-bottom:60%;\"><span style=\"color:#565656\">Make this Notebook Trusted to load map: File -> Trust Notebook</span><iframe srcdoc=\"&lt;!DOCTYPE html&gt;\n",
       "&lt;html&gt;\n",
       "&lt;head&gt;\n",
       "    \n",
       "    &lt;meta http-equiv=&quot;content-type&quot; content=&quot;text/html; charset=UTF-8&quot; /&gt;\n",
       "    &lt;script src=&quot;https://cdn.jsdelivr.net/npm/leaflet@1.9.3/dist/leaflet.js&quot;&gt;&lt;/script&gt;\n",
       "    &lt;script src=&quot;https://code.jquery.com/jquery-3.7.1.min.js&quot;&gt;&lt;/script&gt;\n",
       "    &lt;script src=&quot;https://cdn.jsdelivr.net/npm/bootstrap@5.2.2/dist/js/bootstrap.bundle.min.js&quot;&gt;&lt;/script&gt;\n",
       "    &lt;script src=&quot;https://cdnjs.cloudflare.com/ajax/libs/Leaflet.awesome-markers/2.0.2/leaflet.awesome-markers.js&quot;&gt;&lt;/script&gt;\n",
       "    &lt;link rel=&quot;stylesheet&quot; href=&quot;https://cdn.jsdelivr.net/npm/leaflet@1.9.3/dist/leaflet.css&quot;/&gt;\n",
       "    &lt;link rel=&quot;stylesheet&quot; href=&quot;https://cdn.jsdelivr.net/npm/bootstrap@5.2.2/dist/css/bootstrap.min.css&quot;/&gt;\n",
       "    &lt;link rel=&quot;stylesheet&quot; href=&quot;https://netdna.bootstrapcdn.com/bootstrap/3.0.0/css/bootstrap-glyphicons.css&quot;/&gt;\n",
       "    &lt;link rel=&quot;stylesheet&quot; href=&quot;https://cdn.jsdelivr.net/npm/@fortawesome/fontawesome-free@6.2.0/css/all.min.css&quot;/&gt;\n",
       "    &lt;link rel=&quot;stylesheet&quot; href=&quot;https://cdnjs.cloudflare.com/ajax/libs/Leaflet.awesome-markers/2.0.2/leaflet.awesome-markers.css&quot;/&gt;\n",
       "    &lt;link rel=&quot;stylesheet&quot; href=&quot;https://cdn.jsdelivr.net/gh/python-visualization/folium/folium/templates/leaflet.awesome.rotate.min.css&quot;/&gt;\n",
       "    \n",
       "            &lt;meta name=&quot;viewport&quot; content=&quot;width=device-width,\n",
       "                initial-scale=1.0, maximum-scale=1.0, user-scalable=no&quot; /&gt;\n",
       "            &lt;style&gt;\n",
       "                #map_cbd8fddfa8d08e51d360b7e8a8a8b30c {\n",
       "                    position: relative;\n",
       "                    width: 100.0%;\n",
       "                    height: 100.0%;\n",
       "                    left: 0.0%;\n",
       "                    top: 0.0%;\n",
       "                }\n",
       "                .leaflet-container { font-size: 1rem; }\n",
       "            &lt;/style&gt;\n",
       "\n",
       "            &lt;style&gt;html, body {\n",
       "                width: 100%;\n",
       "                height: 100%;\n",
       "                margin: 0;\n",
       "                padding: 0;\n",
       "            }\n",
       "            &lt;/style&gt;\n",
       "\n",
       "            &lt;style&gt;#map {\n",
       "                position:absolute;\n",
       "                top:0;\n",
       "                bottom:0;\n",
       "                right:0;\n",
       "                left:0;\n",
       "                }\n",
       "            &lt;/style&gt;\n",
       "\n",
       "            &lt;script&gt;\n",
       "                L_NO_TOUCH = false;\n",
       "                L_DISABLE_3D = false;\n",
       "            &lt;/script&gt;\n",
       "\n",
       "        \n",
       "    &lt;script src=&quot;https://cdn.jsdelivr.net/gh/python-visualization/folium@main/folium/templates/leaflet_heat.min.js&quot;&gt;&lt;/script&gt;\n",
       "&lt;/head&gt;\n",
       "&lt;body&gt;\n",
       "    \n",
       "    \n",
       "            &lt;div class=&quot;folium-map&quot; id=&quot;map_cbd8fddfa8d08e51d360b7e8a8a8b30c&quot; &gt;&lt;/div&gt;\n",
       "        \n",
       "&lt;/body&gt;\n",
       "&lt;script&gt;\n",
       "    \n",
       "    \n",
       "            var map_cbd8fddfa8d08e51d360b7e8a8a8b30c = L.map(\n",
       "                &quot;map_cbd8fddfa8d08e51d360b7e8a8a8b30c&quot;,\n",
       "                {\n",
       "                    center: [51.541371235294115, -0.06635382352941177],\n",
       "                    crs: L.CRS.EPSG3857,\n",
       "                    ...{\n",
       "  &quot;zoom&quot;: 13,\n",
       "  &quot;zoomControl&quot;: true,\n",
       "  &quot;preferCanvas&quot;: false,\n",
       "}\n",
       "\n",
       "                }\n",
       "            );\n",
       "\n",
       "            \n",
       "\n",
       "        \n",
       "    \n",
       "            var tile_layer_6d94d1c22838027fd2d2b91780ebeffc = L.tileLayer(\n",
       "                &quot;https://tile.openstreetmap.org/{z}/{x}/{y}.png&quot;,\n",
       "                {\n",
       "  &quot;minZoom&quot;: 0,\n",
       "  &quot;maxZoom&quot;: 19,\n",
       "  &quot;maxNativeZoom&quot;: 19,\n",
       "  &quot;noWrap&quot;: false,\n",
       "  &quot;attribution&quot;: &quot;\\u0026copy; \\u003ca href=\\&quot;https://www.openstreetmap.org/copyright\\&quot;\\u003eOpenStreetMap\\u003c/a\\u003e contributors&quot;,\n",
       "  &quot;subdomains&quot;: &quot;abc&quot;,\n",
       "  &quot;detectRetina&quot;: false,\n",
       "  &quot;tms&quot;: false,\n",
       "  &quot;opacity&quot;: 1,\n",
       "}\n",
       "\n",
       "            );\n",
       "        \n",
       "    \n",
       "            tile_layer_6d94d1c22838027fd2d2b91780ebeffc.addTo(map_cbd8fddfa8d08e51d360b7e8a8a8b30c);\n",
       "        \n",
       "    \n",
       "            var heat_map_7b27173a8c5942bc5eb1d2c629dd353e = L.heatLayer(\n",
       "                [[51.536489, -0.061821], [51.534402, -0.07705], [51.563779, -0.058929], [51.540865, -0.076345], [51.56545, -0.072999], [51.545423, -0.031298], [51.54607, -0.075693], [51.534574, -0.07661], [51.548045, -0.075465], [51.549131, -0.037917], [51.52717, -0.080238], [51.526089, -0.085618], [51.548463, -0.040975], [51.545852, -0.062433], [51.52485, -0.081345], [51.528827, -0.088098], [51.537832, -0.045181]],\n",
       "                {\n",
       "  &quot;minOpacity&quot;: 0.5,\n",
       "  &quot;maxZoom&quot;: 18,\n",
       "  &quot;radius&quot;: 25,\n",
       "  &quot;blur&quot;: 15,\n",
       "}\n",
       "            );\n",
       "        \n",
       "    \n",
       "            heat_map_7b27173a8c5942bc5eb1d2c629dd353e.addTo(map_cbd8fddfa8d08e51d360b7e8a8a8b30c);\n",
       "        \n",
       "    \n",
       "            tile_layer_6d94d1c22838027fd2d2b91780ebeffc.addTo(map_cbd8fddfa8d08e51d360b7e8a8a8b30c);\n",
       "        \n",
       "    \n",
       "            heat_map_7b27173a8c5942bc5eb1d2c629dd353e.addTo(map_cbd8fddfa8d08e51d360b7e8a8a8b30c);\n",
       "        \n",
       "&lt;/script&gt;\n",
       "&lt;/html&gt;\" style=\"position:absolute;width:100%;height:100%;left:0;top:0;border:none !important;\" allowfullscreen webkitallowfullscreen mozallowfullscreen></iframe></div></div>"
      ],
      "text/plain": [
       "<folium.folium.Map at 0x286493e0910>"
      ]
     },
     "execution_count": 44,
     "metadata": {},
     "output_type": "execute_result"
    }
   ],
   "source": [
    "hackney_fatal_df = hackney_df[hackney_df['Accident_Severity'] == 'Fatal']\n",
    "\n",
    "locations = list(zip(hackney_fatal_df['Latitude'], hackney_fatal_df['Longitude']))\n",
    "Hackney_Map = folium.Map(location = [hackney_fatal_df['Latitude'].mean(), hackney_fatal_df['Longitude'].mean()], zoom_start=13)\n",
    "HeatMap(locations).add_to(Hackney_Map)\n",
    "Hackney_Map.save('Hackney_heatmap.html')\n",
    "Hackney_Map"
   ]
  },
  {
   "cell_type": "markdown",
   "id": "9ad47ad7-f83a-480a-92f4-30ae50c0930e",
   "metadata": {},
   "source": [
    "<h4>Insight: Hackney’s accidents are not evenly spread but <b>concentrated along a few roads</b>, pointing to the presence of high-risk corridors where interventions may be needed. Accidents usually happen during <b>daylight hours</b>. This connects to the busy traffic and active streets where pedestrians and vehicles often mix. It highlights how congestion plays a big role in road incidents\n",
    "</h4>"
   ]
  },
  {
   "cell_type": "code",
   "execution_count": null,
   "id": "3ebd217e-c4ba-40a9-961a-44887ceb0c1f",
   "metadata": {},
   "outputs": [],
   "source": []
  },
  {
   "cell_type": "code",
   "execution_count": null,
   "id": "4fa06513-91b2-4183-aa30-e317d6cb0fcc",
   "metadata": {},
   "outputs": [],
   "source": []
  },
  {
   "cell_type": "code",
   "execution_count": null,
   "id": "f6b24192-1e5f-4b0c-b151-eb51d3575bd4",
   "metadata": {},
   "outputs": [],
   "source": []
  },
  {
   "cell_type": "code",
   "execution_count": null,
   "id": "a03e7d64-44de-49fc-9e74-cc840450172b",
   "metadata": {},
   "outputs": [],
   "source": []
  },
  {
   "cell_type": "code",
   "execution_count": null,
   "id": "591b87a1-311a-4cb6-871a-5b40a447d122",
   "metadata": {},
   "outputs": [],
   "source": []
  }
 ],
 "metadata": {
  "kernelspec": {
   "display_name": "Python 3 (ipykernel)",
   "language": "python",
   "name": "python3"
  },
  "language_info": {
   "codemirror_mode": {
    "name": "ipython",
    "version": 3
   },
   "file_extension": ".py",
   "mimetype": "text/x-python",
   "name": "python",
   "nbconvert_exporter": "python",
   "pygments_lexer": "ipython3",
   "version": "3.13.7"
  }
 },
 "nbformat": 4,
 "nbformat_minor": 5
}
