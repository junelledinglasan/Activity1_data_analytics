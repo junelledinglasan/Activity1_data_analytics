{
 "cells": [
  {
   "cell_type": "markdown",
   "id": "795bb284-ab5a-46f1-94f6-c87df0b6fbd4",
   "metadata": {},
   "source": [
    "<h1>Analyst : JUNELLE C. DINGLASAN</h1>"
   ]
  },
  {
   "cell_type": "code",
   "execution_count": 3,
   "id": "b9de6d90-b7e0-498c-b229-8ea2e1fc5225",
   "metadata": {},
   "outputs": [],
   "source": [
    "#import libraries\n",
    "import numpy as np\n",
    "import pandas as pd\n",
    "from scipy.stats import f_oneway\n",
    "import warnings\n",
    "warnings.filterwarnings('ignore')"
   ]
  },
  {
   "cell_type": "code",
   "execution_count": 4,
   "id": "20e8fcfe-da5f-4e62-9cef-d982e43294d9",
   "metadata": {},
   "outputs": [],
   "source": [
    "accident = pd.read_csv('datasets\\\\uk_road_accident.csv')"
   ]
  },
  {
   "cell_type": "code",
   "execution_count": 5,
   "id": "045ce5f0-303f-4433-b050-d58dee5c819f",
   "metadata": {},
   "outputs": [
    {
     "data": {
      "text/html": [
       "<div>\n",
       "<style scoped>\n",
       "    .dataframe tbody tr th:only-of-type {\n",
       "        vertical-align: middle;\n",
       "    }\n",
       "\n",
       "    .dataframe tbody tr th {\n",
       "        vertical-align: top;\n",
       "    }\n",
       "\n",
       "    .dataframe thead th {\n",
       "        text-align: right;\n",
       "    }\n",
       "</style>\n",
       "<table border=\"1\" class=\"dataframe\">\n",
       "  <thead>\n",
       "    <tr style=\"text-align: right;\">\n",
       "      <th></th>\n",
       "      <th>Index</th>\n",
       "      <th>Accident_Severity</th>\n",
       "      <th>Accident Date</th>\n",
       "      <th>Latitude</th>\n",
       "      <th>Light_Conditions</th>\n",
       "      <th>District Area</th>\n",
       "      <th>Longitude</th>\n",
       "      <th>Number_of_Casualties</th>\n",
       "      <th>Number_of_Vehicles</th>\n",
       "      <th>Road_Surface_Conditions</th>\n",
       "      <th>Road_Type</th>\n",
       "      <th>Urban_or_Rural_Area</th>\n",
       "      <th>Weather_Conditions</th>\n",
       "      <th>Vehicle_Type</th>\n",
       "    </tr>\n",
       "  </thead>\n",
       "  <tbody>\n",
       "    <tr>\n",
       "      <th>0</th>\n",
       "      <td>200701BS64157</td>\n",
       "      <td>Serious</td>\n",
       "      <td>5/6/2019</td>\n",
       "      <td>51.506187</td>\n",
       "      <td>Darkness - lights lit</td>\n",
       "      <td>Kensington and Chelsea</td>\n",
       "      <td>-0.209082</td>\n",
       "      <td>1</td>\n",
       "      <td>2</td>\n",
       "      <td>Dry</td>\n",
       "      <td>Single carriageway</td>\n",
       "      <td>Urban</td>\n",
       "      <td>Fine no high winds</td>\n",
       "      <td>Car</td>\n",
       "    </tr>\n",
       "    <tr>\n",
       "      <th>1</th>\n",
       "      <td>200701BS65737</td>\n",
       "      <td>Serious</td>\n",
       "      <td>2/7/2019</td>\n",
       "      <td>51.495029</td>\n",
       "      <td>Daylight</td>\n",
       "      <td>Kensington and Chelsea</td>\n",
       "      <td>-0.173647</td>\n",
       "      <td>1</td>\n",
       "      <td>2</td>\n",
       "      <td>Wet or damp</td>\n",
       "      <td>Single carriageway</td>\n",
       "      <td>Urban</td>\n",
       "      <td>Raining no high winds</td>\n",
       "      <td>Car</td>\n",
       "    </tr>\n",
       "    <tr>\n",
       "      <th>2</th>\n",
       "      <td>200701BS66127</td>\n",
       "      <td>Serious</td>\n",
       "      <td>26-08-2019</td>\n",
       "      <td>51.517715</td>\n",
       "      <td>Darkness - lighting unknown</td>\n",
       "      <td>Kensington and Chelsea</td>\n",
       "      <td>-0.210215</td>\n",
       "      <td>1</td>\n",
       "      <td>3</td>\n",
       "      <td>Dry</td>\n",
       "      <td>NaN</td>\n",
       "      <td>Urban</td>\n",
       "      <td>NaN</td>\n",
       "      <td>Taxi/Private hire car</td>\n",
       "    </tr>\n",
       "    <tr>\n",
       "      <th>3</th>\n",
       "      <td>200701BS66128</td>\n",
       "      <td>Serious</td>\n",
       "      <td>16-08-2019</td>\n",
       "      <td>51.495478</td>\n",
       "      <td>Daylight</td>\n",
       "      <td>Kensington and Chelsea</td>\n",
       "      <td>-0.202731</td>\n",
       "      <td>1</td>\n",
       "      <td>4</td>\n",
       "      <td>Dry</td>\n",
       "      <td>Single carriageway</td>\n",
       "      <td>Urban</td>\n",
       "      <td>Fine no high winds</td>\n",
       "      <td>Bus or coach (17 or more pass seats)</td>\n",
       "    </tr>\n",
       "    <tr>\n",
       "      <th>4</th>\n",
       "      <td>200701BS66837</td>\n",
       "      <td>Slight</td>\n",
       "      <td>3/9/2019</td>\n",
       "      <td>51.488576</td>\n",
       "      <td>Darkness - lights lit</td>\n",
       "      <td>Kensington and Chelsea</td>\n",
       "      <td>-0.192487</td>\n",
       "      <td>1</td>\n",
       "      <td>2</td>\n",
       "      <td>Dry</td>\n",
       "      <td>NaN</td>\n",
       "      <td>Urban</td>\n",
       "      <td>NaN</td>\n",
       "      <td>Other vehicle</td>\n",
       "    </tr>\n",
       "    <tr>\n",
       "      <th>...</th>\n",
       "      <td>...</td>\n",
       "      <td>...</td>\n",
       "      <td>...</td>\n",
       "      <td>...</td>\n",
       "      <td>...</td>\n",
       "      <td>...</td>\n",
       "      <td>...</td>\n",
       "      <td>...</td>\n",
       "      <td>...</td>\n",
       "      <td>...</td>\n",
       "      <td>...</td>\n",
       "      <td>...</td>\n",
       "      <td>...</td>\n",
       "      <td>...</td>\n",
       "    </tr>\n",
       "    <tr>\n",
       "      <th>660674</th>\n",
       "      <td>201091NM01760</td>\n",
       "      <td>Slight</td>\n",
       "      <td>18-02-2022</td>\n",
       "      <td>57.374005</td>\n",
       "      <td>Daylight</td>\n",
       "      <td>Highland</td>\n",
       "      <td>-3.467828</td>\n",
       "      <td>2</td>\n",
       "      <td>1</td>\n",
       "      <td>Dry</td>\n",
       "      <td>Single carriageway</td>\n",
       "      <td>Rural</td>\n",
       "      <td>Fine no high winds</td>\n",
       "      <td>Car</td>\n",
       "    </tr>\n",
       "    <tr>\n",
       "      <th>660675</th>\n",
       "      <td>201091NM01881</td>\n",
       "      <td>Slight</td>\n",
       "      <td>21-02-2022</td>\n",
       "      <td>57.232273</td>\n",
       "      <td>Darkness - no lighting</td>\n",
       "      <td>Highland</td>\n",
       "      <td>-3.809281</td>\n",
       "      <td>1</td>\n",
       "      <td>1</td>\n",
       "      <td>Frost or ice</td>\n",
       "      <td>Single carriageway</td>\n",
       "      <td>Rural</td>\n",
       "      <td>Fine no high winds</td>\n",
       "      <td>Car</td>\n",
       "    </tr>\n",
       "    <tr>\n",
       "      <th>660676</th>\n",
       "      <td>201091NM01935</td>\n",
       "      <td>Slight</td>\n",
       "      <td>23-02-2022</td>\n",
       "      <td>57.585044</td>\n",
       "      <td>Daylight</td>\n",
       "      <td>Highland</td>\n",
       "      <td>-3.862727</td>\n",
       "      <td>1</td>\n",
       "      <td>3</td>\n",
       "      <td>Frost or ice</td>\n",
       "      <td>Single carriageway</td>\n",
       "      <td>Rural</td>\n",
       "      <td>Fine no high winds</td>\n",
       "      <td>Car</td>\n",
       "    </tr>\n",
       "    <tr>\n",
       "      <th>660677</th>\n",
       "      <td>201091NM01964</td>\n",
       "      <td>Serious</td>\n",
       "      <td>23-02-2022</td>\n",
       "      <td>57.214898</td>\n",
       "      <td>Darkness - no lighting</td>\n",
       "      <td>Highland</td>\n",
       "      <td>-3.823997</td>\n",
       "      <td>1</td>\n",
       "      <td>2</td>\n",
       "      <td>Wet or damp</td>\n",
       "      <td>Single carriageway</td>\n",
       "      <td>Rural</td>\n",
       "      <td>Fine no high winds</td>\n",
       "      <td>Motorcycle over 500cc</td>\n",
       "    </tr>\n",
       "    <tr>\n",
       "      <th>660678</th>\n",
       "      <td>201091NM02142</td>\n",
       "      <td>Serious</td>\n",
       "      <td>28-02-2022</td>\n",
       "      <td>57.575210</td>\n",
       "      <td>Daylight</td>\n",
       "      <td>Highland</td>\n",
       "      <td>-3.895673</td>\n",
       "      <td>1</td>\n",
       "      <td>1</td>\n",
       "      <td>Wet or damp</td>\n",
       "      <td>Dual carriageway</td>\n",
       "      <td>Rural</td>\n",
       "      <td>Snowing no high winds</td>\n",
       "      <td>Car</td>\n",
       "    </tr>\n",
       "  </tbody>\n",
       "</table>\n",
       "<p>660679 rows × 14 columns</p>\n",
       "</div>"
      ],
      "text/plain": [
       "                Index Accident_Severity Accident Date   Latitude  \\\n",
       "0       200701BS64157           Serious      5/6/2019  51.506187   \n",
       "1       200701BS65737           Serious      2/7/2019  51.495029   \n",
       "2       200701BS66127           Serious    26-08-2019  51.517715   \n",
       "3       200701BS66128           Serious    16-08-2019  51.495478   \n",
       "4       200701BS66837            Slight      3/9/2019  51.488576   \n",
       "...               ...               ...           ...        ...   \n",
       "660674  201091NM01760            Slight    18-02-2022  57.374005   \n",
       "660675  201091NM01881            Slight    21-02-2022  57.232273   \n",
       "660676  201091NM01935            Slight    23-02-2022  57.585044   \n",
       "660677  201091NM01964           Serious    23-02-2022  57.214898   \n",
       "660678  201091NM02142           Serious    28-02-2022  57.575210   \n",
       "\n",
       "                   Light_Conditions           District Area  Longitude  \\\n",
       "0             Darkness - lights lit  Kensington and Chelsea  -0.209082   \n",
       "1                          Daylight  Kensington and Chelsea  -0.173647   \n",
       "2       Darkness - lighting unknown  Kensington and Chelsea  -0.210215   \n",
       "3                          Daylight  Kensington and Chelsea  -0.202731   \n",
       "4             Darkness - lights lit  Kensington and Chelsea  -0.192487   \n",
       "...                             ...                     ...        ...   \n",
       "660674                     Daylight                Highland  -3.467828   \n",
       "660675       Darkness - no lighting                Highland  -3.809281   \n",
       "660676                     Daylight                Highland  -3.862727   \n",
       "660677       Darkness - no lighting                Highland  -3.823997   \n",
       "660678                     Daylight                Highland  -3.895673   \n",
       "\n",
       "        Number_of_Casualties  Number_of_Vehicles Road_Surface_Conditions  \\\n",
       "0                          1                   2                     Dry   \n",
       "1                          1                   2             Wet or damp   \n",
       "2                          1                   3                     Dry   \n",
       "3                          1                   4                     Dry   \n",
       "4                          1                   2                     Dry   \n",
       "...                      ...                 ...                     ...   \n",
       "660674                     2                   1                     Dry   \n",
       "660675                     1                   1            Frost or ice   \n",
       "660676                     1                   3            Frost or ice   \n",
       "660677                     1                   2             Wet or damp   \n",
       "660678                     1                   1             Wet or damp   \n",
       "\n",
       "                 Road_Type Urban_or_Rural_Area     Weather_Conditions  \\\n",
       "0       Single carriageway               Urban     Fine no high winds   \n",
       "1       Single carriageway               Urban  Raining no high winds   \n",
       "2                      NaN               Urban                    NaN   \n",
       "3       Single carriageway               Urban     Fine no high winds   \n",
       "4                      NaN               Urban                    NaN   \n",
       "...                    ...                 ...                    ...   \n",
       "660674  Single carriageway               Rural     Fine no high winds   \n",
       "660675  Single carriageway               Rural     Fine no high winds   \n",
       "660676  Single carriageway               Rural     Fine no high winds   \n",
       "660677  Single carriageway               Rural     Fine no high winds   \n",
       "660678    Dual carriageway               Rural  Snowing no high winds   \n",
       "\n",
       "                                Vehicle_Type  \n",
       "0                                        Car  \n",
       "1                                        Car  \n",
       "2                      Taxi/Private hire car  \n",
       "3       Bus or coach (17 or more pass seats)  \n",
       "4                              Other vehicle  \n",
       "...                                      ...  \n",
       "660674                                   Car  \n",
       "660675                                   Car  \n",
       "660676                                   Car  \n",
       "660677                 Motorcycle over 500cc  \n",
       "660678                                   Car  \n",
       "\n",
       "[660679 rows x 14 columns]"
      ]
     },
     "execution_count": 5,
     "metadata": {},
     "output_type": "execute_result"
    }
   ],
   "source": [
    "accident"
   ]
  },
  {
   "cell_type": "code",
   "execution_count": 6,
   "id": "a8ea686b-f993-4256-a111-e75ef129e74f",
   "metadata": {},
   "outputs": [
    {
     "name": "stdout",
     "output_type": "stream",
     "text": [
      "<class 'pandas.core.frame.DataFrame'>\n",
      "RangeIndex: 660679 entries, 0 to 660678\n",
      "Data columns (total 14 columns):\n",
      " #   Column                   Non-Null Count   Dtype  \n",
      "---  ------                   --------------   -----  \n",
      " 0   Index                    660679 non-null  object \n",
      " 1   Accident_Severity        660679 non-null  object \n",
      " 2   Accident Date            660679 non-null  object \n",
      " 3   Latitude                 660654 non-null  float64\n",
      " 4   Light_Conditions         660679 non-null  object \n",
      " 5   District Area            660679 non-null  object \n",
      " 6   Longitude                660653 non-null  float64\n",
      " 7   Number_of_Casualties     660679 non-null  int64  \n",
      " 8   Number_of_Vehicles       660679 non-null  int64  \n",
      " 9   Road_Surface_Conditions  659953 non-null  object \n",
      " 10  Road_Type                656159 non-null  object \n",
      " 11  Urban_or_Rural_Area      660664 non-null  object \n",
      " 12  Weather_Conditions       646551 non-null  object \n",
      " 13  Vehicle_Type             660679 non-null  object \n",
      "dtypes: float64(2), int64(2), object(10)\n",
      "memory usage: 70.6+ MB\n"
     ]
    }
   ],
   "source": [
    "accident.info()"
   ]
  },
  {
   "cell_type": "code",
   "execution_count": 13,
   "id": "1bbbbf23-8740-45d2-bfe6-6c8278e17c3d",
   "metadata": {},
   "outputs": [
    {
     "data": {
      "text/html": [
       "<div>\n",
       "<style scoped>\n",
       "    .dataframe tbody tr th:only-of-type {\n",
       "        vertical-align: middle;\n",
       "    }\n",
       "\n",
       "    .dataframe tbody tr th {\n",
       "        vertical-align: top;\n",
       "    }\n",
       "\n",
       "    .dataframe thead th {\n",
       "        text-align: right;\n",
       "    }\n",
       "</style>\n",
       "<table border=\"1\" class=\"dataframe\">\n",
       "  <thead>\n",
       "    <tr style=\"text-align: right;\">\n",
       "      <th></th>\n",
       "      <th>Accident Date</th>\n",
       "      <th>Latitude</th>\n",
       "      <th>Longitude</th>\n",
       "      <th>Number_of_Casualties</th>\n",
       "      <th>Number_of_Vehicles</th>\n",
       "    </tr>\n",
       "  </thead>\n",
       "  <tbody>\n",
       "    <tr>\n",
       "      <th>count</th>\n",
       "      <td>265007</td>\n",
       "      <td>660654.000000</td>\n",
       "      <td>660653.000000</td>\n",
       "      <td>660679.000000</td>\n",
       "      <td>660679.000000</td>\n",
       "    </tr>\n",
       "    <tr>\n",
       "      <th>mean</th>\n",
       "      <td>2020-11-18 04:53:34.375468544</td>\n",
       "      <td>52.553866</td>\n",
       "      <td>-1.431210</td>\n",
       "      <td>1.357040</td>\n",
       "      <td>1.831255</td>\n",
       "    </tr>\n",
       "    <tr>\n",
       "      <th>min</th>\n",
       "      <td>2019-01-01 00:00:00</td>\n",
       "      <td>49.914430</td>\n",
       "      <td>-7.516225</td>\n",
       "      <td>1.000000</td>\n",
       "      <td>1.000000</td>\n",
       "    </tr>\n",
       "    <tr>\n",
       "      <th>25%</th>\n",
       "      <td>2019-12-02 00:00:00</td>\n",
       "      <td>51.490690</td>\n",
       "      <td>-2.332291</td>\n",
       "      <td>1.000000</td>\n",
       "      <td>1.000000</td>\n",
       "    </tr>\n",
       "    <tr>\n",
       "      <th>50%</th>\n",
       "      <td>2020-11-05 00:00:00</td>\n",
       "      <td>52.315641</td>\n",
       "      <td>-1.411667</td>\n",
       "      <td>1.000000</td>\n",
       "      <td>2.000000</td>\n",
       "    </tr>\n",
       "    <tr>\n",
       "      <th>75%</th>\n",
       "      <td>2021-11-05 00:00:00</td>\n",
       "      <td>53.453452</td>\n",
       "      <td>-0.232869</td>\n",
       "      <td>1.000000</td>\n",
       "      <td>2.000000</td>\n",
       "    </tr>\n",
       "    <tr>\n",
       "      <th>max</th>\n",
       "      <td>2022-12-12 00:00:00</td>\n",
       "      <td>60.757544</td>\n",
       "      <td>1.762010</td>\n",
       "      <td>68.000000</td>\n",
       "      <td>32.000000</td>\n",
       "    </tr>\n",
       "    <tr>\n",
       "      <th>std</th>\n",
       "      <td>NaN</td>\n",
       "      <td>1.406922</td>\n",
       "      <td>1.383330</td>\n",
       "      <td>0.824847</td>\n",
       "      <td>0.715269</td>\n",
       "    </tr>\n",
       "  </tbody>\n",
       "</table>\n",
       "</div>"
      ],
      "text/plain": [
       "                       Accident Date       Latitude      Longitude  \\\n",
       "count                         265007  660654.000000  660653.000000   \n",
       "mean   2020-11-18 04:53:34.375468544      52.553866      -1.431210   \n",
       "min              2019-01-01 00:00:00      49.914430      -7.516225   \n",
       "25%              2019-12-02 00:00:00      51.490690      -2.332291   \n",
       "50%              2020-11-05 00:00:00      52.315641      -1.411667   \n",
       "75%              2021-11-05 00:00:00      53.453452      -0.232869   \n",
       "max              2022-12-12 00:00:00      60.757544       1.762010   \n",
       "std                              NaN       1.406922       1.383330   \n",
       "\n",
       "       Number_of_Casualties  Number_of_Vehicles  \n",
       "count         660679.000000       660679.000000  \n",
       "mean               1.357040            1.831255  \n",
       "min                1.000000            1.000000  \n",
       "25%                1.000000            1.000000  \n",
       "50%                1.000000            2.000000  \n",
       "75%                1.000000            2.000000  \n",
       "max               68.000000           32.000000  \n",
       "std                0.824847            0.715269  "
      ]
     },
     "execution_count": 13,
     "metadata": {},
     "output_type": "execute_result"
    }
   ],
   "source": [
    "accident.describe()"
   ]
  },
  {
   "cell_type": "markdown",
   "id": "46850fb8-6ed4-46dc-bb57-cec2b309a03c",
   "metadata": {},
   "source": [
    "<h1>QUESTIONS</h1>"
   ]
  },
  {
   "cell_type": "markdown",
   "id": "6912344a-8518-46ce-98fe-bd48402a363e",
   "metadata": {},
   "source": [
    "<h3>1.) What is the minimum and maximum latitude and longitude?</h3>"
   ]
  },
  {
   "cell_type": "code",
   "execution_count": 7,
   "id": "c4b07976-1d30-4c52-bf62-3b6efffb5c3b",
   "metadata": {},
   "outputs": [
    {
     "data": {
      "text/plain": [
       "(np.float64(49.91443),\n",
       " np.float64(60.757544),\n",
       " np.float64(-7.516225),\n",
       " np.float64(1.76201))"
      ]
     },
     "execution_count": 7,
     "metadata": {},
     "output_type": "execute_result"
    }
   ],
   "source": [
    "min_lat = accident['Latitude'].min()\n",
    "max_lat = accident['Latitude'].max()\n",
    "min_long = accident['Longitude'].min()\n",
    "max_long = accident['Longitude'].max()\n",
    "min_lat, max_lat, min_long, max_long"
   ]
  },
  {
   "cell_type": "markdown",
   "id": "97b6d30a-d0f9-4a3d-aecc-f30708a36b8c",
   "metadata": {},
   "source": [
    "<h4>INSIGHTS : This tells the farthest locations where accidents happened. It sets the boundary of the dataset.</h4>"
   ]
  },
  {
   "cell_type": "markdown",
   "id": "48b73b04-4691-4112-a4ef-5680198bb7f5",
   "metadata": {},
   "source": [
    "<h3>2.) What is the earliest accident date in the datasets</h3>"
   ]
  },
  {
   "cell_type": "code",
   "execution_count": 11,
   "id": "5f492842-7647-4e74-a8a3-fa105961ffc3",
   "metadata": {},
   "outputs": [
    {
     "data": {
      "text/plain": [
       "Timestamp('2019-01-01 00:00:00')"
      ]
     },
     "execution_count": 11,
     "metadata": {},
     "output_type": "execute_result"
    }
   ],
   "source": [
    "accident['Accident Date'] = pd.to_datetime(accident['Accident Date'])\n",
    "earliest = accident['Accident Date'].min()\n",
    "earliest"
   ]
  },
  {
   "cell_type": "markdown",
   "id": "c7e0455f-d40b-42d3-a2f7-bee671b23177",
   "metadata": {},
   "source": [
    "<h4>INSIGHTS : Tells the starting point of recorded accident data.</h4>"
   ]
  },
  {
   "cell_type": "markdown",
   "id": "78c61f13-4b4b-4df1-9e8f-13078386148b",
   "metadata": {},
   "source": [
    "<h3>3.) What is the average number of vehicles involved in accidents for each severity level?</h3>"
   ]
  },
  {
   "cell_type": "code",
   "execution_count": 10,
   "id": "9e34b48d-96bc-4dfa-bccb-9230ce206bfe",
   "metadata": {},
   "outputs": [
    {
     "data": {
      "text/html": [
       "<div>\n",
       "<style scoped>\n",
       "    .dataframe tbody tr th:only-of-type {\n",
       "        vertical-align: middle;\n",
       "    }\n",
       "\n",
       "    .dataframe tbody tr th {\n",
       "        vertical-align: top;\n",
       "    }\n",
       "\n",
       "    .dataframe thead th {\n",
       "        text-align: right;\n",
       "    }\n",
       "</style>\n",
       "<table border=\"1\" class=\"dataframe\">\n",
       "  <thead>\n",
       "    <tr style=\"text-align: right;\">\n",
       "      <th></th>\n",
       "      <th>Accident_Severity</th>\n",
       "      <th>Avg_Vehicles</th>\n",
       "    </tr>\n",
       "  </thead>\n",
       "  <tbody>\n",
       "    <tr>\n",
       "      <th>0</th>\n",
       "      <td>Fatal</td>\n",
       "      <td>1.786976</td>\n",
       "    </tr>\n",
       "    <tr>\n",
       "      <th>1</th>\n",
       "      <td>Serious</td>\n",
       "      <td>1.678327</td>\n",
       "    </tr>\n",
       "    <tr>\n",
       "      <th>2</th>\n",
       "      <td>Slight</td>\n",
       "      <td>1.855864</td>\n",
       "    </tr>\n",
       "  </tbody>\n",
       "</table>\n",
       "</div>"
      ],
      "text/plain": [
       "  Accident_Severity  Avg_Vehicles\n",
       "0             Fatal      1.786976\n",
       "1           Serious      1.678327\n",
       "2            Slight      1.855864"
      ]
     },
     "execution_count": 10,
     "metadata": {},
     "output_type": "execute_result"
    }
   ],
   "source": [
    "avg_vehicles = accident.groupby('Accident_Severity')['Number_of_Vehicles'].mean().reset_index(name='Avg_Vehicles')\n",
    "avg_vehicles"
   ]
  },
  {
   "cell_type": "markdown",
   "id": "657e01af-3f2c-41cd-81b4-5a6f0938a5ec",
   "metadata": {},
   "source": [
    "<h4>INSIGHTS : Reveals if more vehicles tent to be involved in serious or slight accidents.</h4>"
   ]
  },
  {
   "cell_type": "markdown",
   "id": "dcd9a055-b102-437b-8c2a-5b5c7d0ed63d",
   "metadata": {},
   "source": [
    "<h3>4.) How many accidents occurred each year?</h3>"
   ]
  },
  {
   "cell_type": "code",
   "execution_count": 39,
   "id": "bb2a3e9c-7d5c-42e1-a0dc-491c1d9bf5e2",
   "metadata": {},
   "outputs": [
    {
     "data": {
      "text/html": [
       "<div>\n",
       "<style scoped>\n",
       "    .dataframe tbody tr th:only-of-type {\n",
       "        vertical-align: middle;\n",
       "    }\n",
       "\n",
       "    .dataframe tbody tr th {\n",
       "        vertical-align: top;\n",
       "    }\n",
       "\n",
       "    .dataframe thead th {\n",
       "        text-align: right;\n",
       "    }\n",
       "</style>\n",
       "<table border=\"1\" class=\"dataframe\">\n",
       "  <thead>\n",
       "    <tr style=\"text-align: right;\">\n",
       "      <th></th>\n",
       "      <th>Year</th>\n",
       "      <th>Accident_Count</th>\n",
       "    </tr>\n",
       "  </thead>\n",
       "  <tbody>\n",
       "    <tr>\n",
       "      <th>0</th>\n",
       "      <td>2019.0</td>\n",
       "      <td>71867</td>\n",
       "    </tr>\n",
       "    <tr>\n",
       "      <th>1</th>\n",
       "      <td>2020.0</td>\n",
       "      <td>70163</td>\n",
       "    </tr>\n",
       "    <tr>\n",
       "      <th>2</th>\n",
       "      <td>2021.0</td>\n",
       "      <td>66172</td>\n",
       "    </tr>\n",
       "    <tr>\n",
       "      <th>3</th>\n",
       "      <td>2022.0</td>\n",
       "      <td>56805</td>\n",
       "    </tr>\n",
       "  </tbody>\n",
       "</table>\n",
       "</div>"
      ],
      "text/plain": [
       "     Year  Accident_Count\n",
       "0  2019.0           71867\n",
       "1  2020.0           70163\n",
       "2  2021.0           66172\n",
       "3  2022.0           56805"
      ]
     },
     "execution_count": 39,
     "metadata": {},
     "output_type": "execute_result"
    }
   ],
   "source": [
    "accident['Year'] = accident['Accident Date'].dt.year\n",
    "yearly = accident.groupby('Year').size().reset_index(name='Accident_Count')\n",
    "yearly"
   ]
  },
  {
   "cell_type": "markdown",
   "id": "671ba1ae-c7f5-4768-a3fb-136ccf91cabd",
   "metadata": {},
   "source": [
    "<h4>INSIGHTS : Helps track accident trends over time.</h4>"
   ]
  },
  {
   "cell_type": "markdown",
   "id": "0e96e2c8-e9ff-4141-9711-7e0c6fdc5b52",
   "metadata": {},
   "source": [
    "<h3>5.) How many accidents occurred under each weather condition?</h3>"
   ]
  },
  {
   "cell_type": "code",
   "execution_count": 40,
   "id": "23e75908-7319-4373-a565-47d19c6d2c62",
   "metadata": {},
   "outputs": [
    {
     "data": {
      "text/html": [
       "<div>\n",
       "<style scoped>\n",
       "    .dataframe tbody tr th:only-of-type {\n",
       "        vertical-align: middle;\n",
       "    }\n",
       "\n",
       "    .dataframe tbody tr th {\n",
       "        vertical-align: top;\n",
       "    }\n",
       "\n",
       "    .dataframe thead th {\n",
       "        text-align: right;\n",
       "    }\n",
       "</style>\n",
       "<table border=\"1\" class=\"dataframe\">\n",
       "  <thead>\n",
       "    <tr style=\"text-align: right;\">\n",
       "      <th></th>\n",
       "      <th>Weather_Conditions</th>\n",
       "      <th>Accident_Count</th>\n",
       "    </tr>\n",
       "  </thead>\n",
       "  <tbody>\n",
       "    <tr>\n",
       "      <th>0</th>\n",
       "      <td>Fine no high winds</td>\n",
       "      <td>520885</td>\n",
       "    </tr>\n",
       "    <tr>\n",
       "      <th>1</th>\n",
       "      <td>Raining no high winds</td>\n",
       "      <td>79696</td>\n",
       "    </tr>\n",
       "    <tr>\n",
       "      <th>2</th>\n",
       "      <td>Other</td>\n",
       "      <td>17150</td>\n",
       "    </tr>\n",
       "    <tr>\n",
       "      <th>3</th>\n",
       "      <td>Unknown</td>\n",
       "      <td>14128</td>\n",
       "    </tr>\n",
       "    <tr>\n",
       "      <th>4</th>\n",
       "      <td>Raining + high winds</td>\n",
       "      <td>9615</td>\n",
       "    </tr>\n",
       "    <tr>\n",
       "      <th>5</th>\n",
       "      <td>Fine + high winds</td>\n",
       "      <td>8554</td>\n",
       "    </tr>\n",
       "    <tr>\n",
       "      <th>6</th>\n",
       "      <td>Snowing no high winds</td>\n",
       "      <td>6238</td>\n",
       "    </tr>\n",
       "    <tr>\n",
       "      <th>7</th>\n",
       "      <td>Fog or mist</td>\n",
       "      <td>3528</td>\n",
       "    </tr>\n",
       "    <tr>\n",
       "      <th>8</th>\n",
       "      <td>Snowing + high winds</td>\n",
       "      <td>885</td>\n",
       "    </tr>\n",
       "  </tbody>\n",
       "</table>\n",
       "</div>"
      ],
      "text/plain": [
       "      Weather_Conditions  Accident_Count\n",
       "0     Fine no high winds          520885\n",
       "1  Raining no high winds           79696\n",
       "2                  Other           17150\n",
       "3                Unknown           14128\n",
       "4   Raining + high winds            9615\n",
       "5      Fine + high winds            8554\n",
       "6  Snowing no high winds            6238\n",
       "7            Fog or mist            3528\n",
       "8   Snowing + high winds             885"
      ]
     },
     "execution_count": 40,
     "metadata": {},
     "output_type": "execute_result"
    }
   ],
   "source": [
    "accident['Weather_Conditions'].fillna('Unknown').value_counts().reset_index(name='Accident_Count').rename(columns={'index':'Weather_Conditions'})"
   ]
  },
  {
   "cell_type": "markdown",
   "id": "c9dc3229-3fcd-40ce-a9a6-f707cd87d38e",
   "metadata": {},
   "source": [
    "<h4>INSIGHTS : Highlights weather types (rain, fog, clear) that correspond to higher accident counts.</h4>"
   ]
  },
  {
   "cell_type": "markdown",
   "id": "8723f44e-6a30-495d-a990-1048d5a42a0f",
   "metadata": {},
   "source": [
    "<h3>6.) Do accidents with 1 vehicle differ from those with 2 vehicles in terms of casualties?</h3>"
   ]
  },
  {
   "cell_type": "code",
   "execution_count": 10,
   "id": "5801e233-c56a-4cfb-a305-49defc7641d0",
   "metadata": {},
   "outputs": [
    {
     "data": {
      "text/plain": [
       "(np.float64(10199.156920414918), np.float64(0.0))"
      ]
     },
     "execution_count": 10,
     "metadata": {},
     "output_type": "execute_result"
    }
   ],
   "source": [
    "one_vehicle = accident[accident['Number_of_Vehicles'] == 1]['Number_of_Casualties']\n",
    "two_vehicle = accident[accident['Number_of_Vehicles'] == 2]['Number_of_Casualties']\n",
    "\n",
    "stats, p_value = f_oneway(one_vehicle.dropna(), two_vehicle.dropna())\n",
    "stats, p_value"
   ]
  },
  {
   "cell_type": "markdown",
   "id": "c5e81847-8b14-4fc5-9e3f-3e5aa0a84baf",
   "metadata": {},
   "source": [
    "<h4>INSIGHTS : This test asks whether single-vehicle accidents cause more or fewer casualties compared to two-vehicle accidents.</h4>"
   ]
  },
  {
   "cell_type": "markdown",
   "id": "a0fba046-8f62-481a-9d14-e77fec0a2732",
   "metadata": {},
   "source": [
    "<h3>7.) Do weather conditions affect the average number of casualties></h3>"
   ]
  },
  {
   "cell_type": "code",
   "execution_count": 12,
   "id": "00cc3487-261c-456b-9dab-5691c115cfeb",
   "metadata": {},
   "outputs": [
    {
     "data": {
      "text/plain": [
       "(np.float64(nan), np.float64(nan))"
      ]
     },
     "execution_count": 12,
     "metadata": {},
     "output_type": "execute_result"
    }
   ],
   "source": [
    "clear = accident[accident['Weather_Conditions'] == 'Fine no high winds']['Number_of_Casualties']\n",
    "rain = accident[accident['Weather_Conditions'] == 'Raining without high winds']['Number_of_Casualties']\n",
    "snow = accident[accident['Weather_Conditions'] == 'Snowing without high winds']['Number_of_Casualties']\n",
    "\n",
    "stats, p_value = f_oneway(clear.dropna(), rain.dropna(), snow.dropna())\n",
    "stats, p_value"
   ]
  },
  {
   "cell_type": "markdown",
   "id": "884a929b-14d7-4b03-b869-1d8be2e32739",
   "metadata": {},
   "source": [
    "<h4>INSIGHTS : This ANOVA tests if accidents in different weather conditions lead to different casualty numbers.</h4>"
   ]
  },
  {
   "cell_type": "markdown",
   "id": "d43f6180-5b61-4561-9068-39276c85c4c1",
   "metadata": {},
   "source": [
    "<h3>8.) What is the average number of vehicles per district?</h3>"
   ]
  },
  {
   "cell_type": "code",
   "execution_count": 19,
   "id": "9329d09e-6dc1-406a-925e-9436b541ba59",
   "metadata": {},
   "outputs": [
    {
     "data": {
      "text/html": [
       "<div>\n",
       "<style scoped>\n",
       "    .dataframe tbody tr th:only-of-type {\n",
       "        vertical-align: middle;\n",
       "    }\n",
       "\n",
       "    .dataframe tbody tr th {\n",
       "        vertical-align: top;\n",
       "    }\n",
       "\n",
       "    .dataframe thead th {\n",
       "        text-align: right;\n",
       "    }\n",
       "</style>\n",
       "<table border=\"1\" class=\"dataframe\">\n",
       "  <thead>\n",
       "    <tr style=\"text-align: right;\">\n",
       "      <th></th>\n",
       "      <th>District Area</th>\n",
       "      <th>Avg_Vehicles</th>\n",
       "    </tr>\n",
       "  </thead>\n",
       "  <tbody>\n",
       "    <tr>\n",
       "      <th>0</th>\n",
       "      <td>Aberdeen City</td>\n",
       "      <td>1.637188</td>\n",
       "    </tr>\n",
       "    <tr>\n",
       "      <th>1</th>\n",
       "      <td>Aberdeenshire</td>\n",
       "      <td>1.553368</td>\n",
       "    </tr>\n",
       "    <tr>\n",
       "      <th>2</th>\n",
       "      <td>Adur</td>\n",
       "      <td>1.969305</td>\n",
       "    </tr>\n",
       "    <tr>\n",
       "      <th>3</th>\n",
       "      <td>Allerdale</td>\n",
       "      <td>1.782801</td>\n",
       "    </tr>\n",
       "    <tr>\n",
       "      <th>4</th>\n",
       "      <td>Alnwick</td>\n",
       "      <td>1.646552</td>\n",
       "    </tr>\n",
       "    <tr>\n",
       "      <th>...</th>\n",
       "      <td>...</td>\n",
       "      <td>...</td>\n",
       "    </tr>\n",
       "    <tr>\n",
       "      <th>417</th>\n",
       "      <td>Wychavon</td>\n",
       "      <td>1.828068</td>\n",
       "    </tr>\n",
       "    <tr>\n",
       "      <th>418</th>\n",
       "      <td>Wycombe</td>\n",
       "      <td>1.866397</td>\n",
       "    </tr>\n",
       "    <tr>\n",
       "      <th>419</th>\n",
       "      <td>Wyre</td>\n",
       "      <td>1.860258</td>\n",
       "    </tr>\n",
       "    <tr>\n",
       "      <th>420</th>\n",
       "      <td>Wyre Forest</td>\n",
       "      <td>1.789474</td>\n",
       "    </tr>\n",
       "    <tr>\n",
       "      <th>421</th>\n",
       "      <td>York</td>\n",
       "      <td>1.856089</td>\n",
       "    </tr>\n",
       "  </tbody>\n",
       "</table>\n",
       "<p>422 rows × 2 columns</p>\n",
       "</div>"
      ],
      "text/plain": [
       "     District Area  Avg_Vehicles\n",
       "0    Aberdeen City      1.637188\n",
       "1    Aberdeenshire      1.553368\n",
       "2             Adur      1.969305\n",
       "3        Allerdale      1.782801\n",
       "4          Alnwick      1.646552\n",
       "..             ...           ...\n",
       "417       Wychavon      1.828068\n",
       "418        Wycombe      1.866397\n",
       "419           Wyre      1.860258\n",
       "420    Wyre Forest      1.789474\n",
       "421           York      1.856089\n",
       "\n",
       "[422 rows x 2 columns]"
      ]
     },
     "execution_count": 19,
     "metadata": {},
     "output_type": "execute_result"
    }
   ],
   "source": [
    "accident.groupby('District Area')['Number_of_Vehicles'].mean().reset_index(name='Avg_Vehicles')"
   ]
  },
  {
   "cell_type": "markdown",
   "id": "93f04951-35b1-4275-bff6-be2948aea7ee",
   "metadata": {},
   "source": [
    "<h4>INSIGHTS :  Districts with higher averages may have more multi-vehicle collisions.</h4>"
   ]
  },
  {
   "cell_type": "markdown",
   "id": "5270538a-0e61-445c-a4d5-845e1a990a58",
   "metadata": {},
   "source": [
    "<h3>9.) Which road surface condition has the highest accident count?</h3>"
   ]
  },
  {
   "cell_type": "code",
   "execution_count": 21,
   "id": "51dfef00-b3cd-4757-ada9-89432747c253",
   "metadata": {},
   "outputs": [
    {
     "data": {
      "text/html": [
       "<div>\n",
       "<style scoped>\n",
       "    .dataframe tbody tr th:only-of-type {\n",
       "        vertical-align: middle;\n",
       "    }\n",
       "\n",
       "    .dataframe tbody tr th {\n",
       "        vertical-align: top;\n",
       "    }\n",
       "\n",
       "    .dataframe thead th {\n",
       "        text-align: right;\n",
       "    }\n",
       "</style>\n",
       "<table border=\"1\" class=\"dataframe\">\n",
       "  <thead>\n",
       "    <tr style=\"text-align: right;\">\n",
       "      <th></th>\n",
       "      <th>Road_Surface_Conditions</th>\n",
       "      <th>Accident_Count</th>\n",
       "    </tr>\n",
       "  </thead>\n",
       "  <tbody>\n",
       "    <tr>\n",
       "      <th>0</th>\n",
       "      <td>Dry</td>\n",
       "      <td>447821</td>\n",
       "    </tr>\n",
       "    <tr>\n",
       "      <th>1</th>\n",
       "      <td>Wet or damp</td>\n",
       "      <td>186708</td>\n",
       "    </tr>\n",
       "    <tr>\n",
       "      <th>2</th>\n",
       "      <td>Frost or ice</td>\n",
       "      <td>18517</td>\n",
       "    </tr>\n",
       "    <tr>\n",
       "      <th>3</th>\n",
       "      <td>Snow</td>\n",
       "      <td>5890</td>\n",
       "    </tr>\n",
       "    <tr>\n",
       "      <th>4</th>\n",
       "      <td>Flood over 3cm. deep</td>\n",
       "      <td>1017</td>\n",
       "    </tr>\n",
       "    <tr>\n",
       "      <th>5</th>\n",
       "      <td>Unknown</td>\n",
       "      <td>726</td>\n",
       "    </tr>\n",
       "  </tbody>\n",
       "</table>\n",
       "</div>"
      ],
      "text/plain": [
       "  Road_Surface_Conditions  Accident_Count\n",
       "0                     Dry          447821\n",
       "1             Wet or damp          186708\n",
       "2            Frost or ice           18517\n",
       "3                    Snow            5890\n",
       "4    Flood over 3cm. deep            1017\n",
       "5                 Unknown             726"
      ]
     },
     "execution_count": 21,
     "metadata": {},
     "output_type": "execute_result"
    }
   ],
   "source": [
    "accident['Road_Surface_Conditions'].fillna('Unknown').value_counts().reset_index(name='Accident_Count').rename(columns={'index':'Road_Surface_Conditions'})"
   ]
  },
  {
   "cell_type": "markdown",
   "id": "d67255c9-3c64-4253-a65f-843e09480eb9",
   "metadata": {},
   "source": [
    "<h4>INSIGHTS : Helps identify if wet or icy roads coincide with more accidents.</h4>"
   ]
  },
  {
   "cell_type": "markdown",
   "id": "f442ea17-ea10-4c88-a445-ab299e6ee422",
   "metadata": {},
   "source": [
    "<h3>10.) How many accidents include more than one vehicle?</h3>"
   ]
  },
  {
   "cell_type": "code",
   "execution_count": 31,
   "id": "171d8eaa-42a2-4e56-91c3-9c03b09a5805",
   "metadata": {},
   "outputs": [
    {
     "data": {
      "text/plain": [
       "459892"
      ]
     },
     "execution_count": 31,
     "metadata": {},
     "output_type": "execute_result"
    }
   ],
   "source": [
    "accident[accident['Number_of_Vehicles'] > 1].shape[0]"
   ]
  },
  {
   "cell_type": "markdown",
   "id": "5cc2d6ba-f32a-46a4-b2f1-50d95a9a0402",
   "metadata": {},
   "source": [
    "<h4>INSIGHTS : Shows proportion of multi-vehicle collisions versus single-vehicle incidents.</h4>"
   ]
  },
  {
   "cell_type": "markdown",
   "id": "9a353ed0-f510-46d3-9a21-95ce12d3235f",
   "metadata": {},
   "source": [
    "<h3>11.) Are there differences in casualties between daylight, darkness with lights, and darkness without lights?</h3>"
   ]
  },
  {
   "cell_type": "code",
   "execution_count": 33,
   "id": "1b571a97-d3db-45ce-b511-9f0f05d12d10",
   "metadata": {},
   "outputs": [
    {
     "data": {
      "text/plain": [
       "(np.float64(1051.9027966748497), np.float64(0.0))"
      ]
     },
     "execution_count": 33,
     "metadata": {},
     "output_type": "execute_result"
    }
   ],
   "source": [
    "day = accident[accident['Light_Conditions'] == 'Daylight']['Number_of_Casualties']\n",
    "lit = accident[accident['Light_Conditions'] == 'Darkness - lights lit']['Number_of_Casualties']\n",
    "unlit = accident[accident['Light_Conditions'] == 'Darkness - no lighting']['Number_of_Casualties']\n",
    "\n",
    "stats, p_value = f_oneway(day.dropna(), lit.dropna(), unlit.dropna())\n",
    "stats, p_value"
   ]
  },
  {
   "cell_type": "markdown",
   "id": "9ca09f1e-1801-423e-80e6-3224d069183e",
   "metadata": {},
   "source": [
    "<h4>INSIGHTS : This shows wheather light conditions impact how severe the accidents are in terms of casualties.</h4>"
   ]
  },
  {
   "cell_type": "markdown",
   "id": "19a94d0d-4a41-4e8d-a140-c38112615e7a",
   "metadata": {},
   "source": [
    "<h3>12.) Which vehicle type is most often involved in fatal accidents?</h3>"
   ]
  },
  {
   "cell_type": "code",
   "execution_count": 35,
   "id": "e9a8492f-a8c9-445a-8a34-1f5be1f232a7",
   "metadata": {},
   "outputs": [
    {
     "data": {
      "text/plain": [
       "Vehicle_Type\n",
       "Car    6577\n",
       "Name: count, dtype: int64"
      ]
     },
     "execution_count": 35,
     "metadata": {},
     "output_type": "execute_result"
    }
   ],
   "source": [
    "accident[accident['Accident_Severity'] == 'Fatal']['Vehicle_Type'].value_counts().head(1)"
   ]
  },
  {
   "cell_type": "markdown",
   "id": "0fc2331b-58e0-41c3-9d2d-6e9dfd2b334c",
   "metadata": {},
   "source": [
    "<h4>INSIGHTS : This identifies the vehicle most frequently linked with deadly crashes.</h4>"
   ]
  },
  {
   "cell_type": "markdown",
   "id": "27e4f62c-4c44-4c24-a074-0834203e9908",
   "metadata": {},
   "source": [
    "<h3>13.) What is the most common road type where accidents occur?</h3>"
   ]
  },
  {
   "cell_type": "code",
   "execution_count": 42,
   "id": "1450cee6-4f85-48a2-abb5-03bda23fe176",
   "metadata": {},
   "outputs": [
    {
     "data": {
      "text/plain": [
       "'Single carriageway'"
      ]
     },
     "execution_count": 42,
     "metadata": {},
     "output_type": "execute_result"
    }
   ],
   "source": [
    "accident['Road_Type'].mode()[0]"
   ]
  },
  {
   "cell_type": "markdown",
   "id": "e7ce6bf8-3abe-4cb3-9769-4f951c6c0c5b",
   "metadata": {},
   "source": [
    "<h4>INSIGHTS : This shows the road type most prone to accident, which helps authorities focus safety improvements.</h4>"
   ]
  },
  {
   "cell_type": "markdown",
   "id": "7c441096-7749-4b42-a754-4e61e7e90c45",
   "metadata": {},
   "source": [
    "<h3>14.) What is the correlation between number of vehicles and number of casualties?</h3>"
   ]
  },
  {
   "cell_type": "code",
   "execution_count": 43,
   "id": "263ec26a-c552-47f7-af10-fcce42a3648b",
   "metadata": {},
   "outputs": [
    {
     "data": {
      "text/html": [
       "<div>\n",
       "<style scoped>\n",
       "    .dataframe tbody tr th:only-of-type {\n",
       "        vertical-align: middle;\n",
       "    }\n",
       "\n",
       "    .dataframe tbody tr th {\n",
       "        vertical-align: top;\n",
       "    }\n",
       "\n",
       "    .dataframe thead th {\n",
       "        text-align: right;\n",
       "    }\n",
       "</style>\n",
       "<table border=\"1\" class=\"dataframe\">\n",
       "  <thead>\n",
       "    <tr style=\"text-align: right;\">\n",
       "      <th></th>\n",
       "      <th>Number_of_Vehicles</th>\n",
       "      <th>Number_of_Casualties</th>\n",
       "    </tr>\n",
       "  </thead>\n",
       "  <tbody>\n",
       "    <tr>\n",
       "      <th>Number_of_Vehicles</th>\n",
       "      <td>1.000000</td>\n",
       "      <td>0.228889</td>\n",
       "    </tr>\n",
       "    <tr>\n",
       "      <th>Number_of_Casualties</th>\n",
       "      <td>0.228889</td>\n",
       "      <td>1.000000</td>\n",
       "    </tr>\n",
       "  </tbody>\n",
       "</table>\n",
       "</div>"
      ],
      "text/plain": [
       "                      Number_of_Vehicles  Number_of_Casualties\n",
       "Number_of_Vehicles              1.000000              0.228889\n",
       "Number_of_Casualties            0.228889              1.000000"
      ]
     },
     "execution_count": 43,
     "metadata": {},
     "output_type": "execute_result"
    }
   ],
   "source": [
    "accident[['Number_of_Vehicles', 'Number_of_Casualties']].corr()"
   ]
  },
  {
   "cell_type": "markdown",
   "id": "3c129bee-02ad-4778-b286-1bfaa019c762",
   "metadata": {},
   "source": [
    "<h4>INSIGHTS : This correlation shows if more vehicles usually lead to more casualties.</h4>"
   ]
  },
  {
   "cell_type": "markdown",
   "id": "6bda4ca6-990f-4756-8284-27a43e8e9414",
   "metadata": {},
   "source": [
    "<h3>15.) Perform a t-test comparing the number of vehicles and number of casualties.</h3>"
   ]
  },
  {
   "cell_type": "code",
   "execution_count": 46,
   "id": "f6adafcd-1d52-4db3-8c32-8be6f7c4aba4",
   "metadata": {},
   "outputs": [
    {
     "data": {
      "text/plain": [
       "(np.float64(124644.05667145054), np.float64(0.0))"
      ]
     },
     "execution_count": 46,
     "metadata": {},
     "output_type": "execute_result"
    }
   ],
   "source": [
    "stats, p_value = f_oneway(accident['Number_of_Vehicles'].dropna(),accident['Number_of_Casualties'].dropna())\n",
    "stats, p_value"
   ]
  },
  {
   "cell_type": "markdown",
   "id": "943724a0-2d41-4111-b42c-07d84c71633f",
   "metadata": {},
   "source": [
    "<h4>INSIGHTS : This test checks if there is a significant statistical difference between vehicles and casualties data.</h4> "
   ]
  },
  {
   "cell_type": "markdown",
   "id": "6030e6a2-a14f-41dd-9402-c2f6c0076b0b",
   "metadata": {},
   "source": [
    "<h3>16.) What is the variance in the number of casualties?</h3>"
   ]
  },
  {
   "cell_type": "code",
   "execution_count": 49,
   "id": "f11edcc4-4754-4c2d-931c-8eb41c41656b",
   "metadata": {},
   "outputs": [
    {
     "data": {
      "text/plain": [
       "np.float64(0.6803724822080995)"
      ]
     },
     "execution_count": 49,
     "metadata": {},
     "output_type": "execute_result"
    }
   ],
   "source": [
    "casualty_variance = accident ['Number_of_Casualties'].var()\n",
    "casualty_variance"
   ]
  },
  {
   "cell_type": "markdown",
   "id": "0cd581b4-935e-47d3-be5c-533ef102a2d3",
   "metadata": {},
   "source": [
    "<h4>INSIGHTS : This explains how spread out casualty numbers are across all accidents.</h4>"
   ]
  },
  {
   "cell_type": "markdown",
   "id": "f1718be2-a6ef-4f8c-b95d-846646beb32f",
   "metadata": {},
   "source": [
    "<h3>17.) Check if there is a correlation between number of vehicles and number of casualties.</h3>"
   ]
  },
  {
   "cell_type": "code",
   "execution_count": 50,
   "id": "da56d181-afd9-4405-800c-b5e87c8b3abb",
   "metadata": {},
   "outputs": [
    {
     "data": {
      "text/plain": [
       "np.float64(0.2288888612692759)"
      ]
     },
     "execution_count": 50,
     "metadata": {},
     "output_type": "execute_result"
    }
   ],
   "source": [
    "correlation = accident ['Number_of_Vehicles'].corr(accident['Number_of_Casualties'])\n",
    "correlation"
   ]
  },
  {
   "cell_type": "markdown",
   "id": "9eaa11ae-a206-4713-ab1e-812e5fcf8afd",
   "metadata": {},
   "source": [
    "<h4>INSIGHTS : A possitive correlation means more vehicles tend to cause more casualties.</h4>"
   ]
  },
  {
   "cell_type": "markdown",
   "id": "a90fe1a0-a0fd-4ef4-a7b7-8e7288c518f5",
   "metadata": {},
   "source": [
    "<h3>18.) How many accidents occurred in 2019?</h3>"
   ]
  },
  {
   "cell_type": "code",
   "execution_count": 53,
   "id": "4fa548d4-724b-4013-a701-78b5796bc16f",
   "metadata": {},
   "outputs": [
    {
     "data": {
      "text/plain": [
       "71867"
      ]
     },
     "execution_count": 53,
     "metadata": {},
     "output_type": "execute_result"
    }
   ],
   "source": [
    "accident_2019 = accident[accident['Accident Date'].dt.year == 2019].shape[0]\n",
    "accident_2019"
   ]
  },
  {
   "cell_type": "markdown",
   "id": "c4d05539-519b-447f-a6e7-4b61aec454b4",
   "metadata": {},
   "source": [
    "<h4>INSIGHTS : This filters accidents by year to see how frequent they were in 2019.</h4>"
   ]
  },
  {
   "cell_type": "markdown",
   "id": "830cb2f1-cb05-4c51-9b6d-3b2ad531dec5",
   "metadata": {},
   "source": [
    "<h3>19.) How many accidents happened on weekend vs weekdays?</h3>"
   ]
  },
  {
   "cell_type": "code",
   "execution_count": 54,
   "id": "9c076b22-5b63-40e7-b429-b05021eb9d8c",
   "metadata": {},
   "outputs": [
    {
     "data": {
      "text/plain": [
       "(75523, 189484)"
      ]
     },
     "execution_count": 54,
     "metadata": {},
     "output_type": "execute_result"
    }
   ],
   "source": [
    "accident['Weekday'] = accident['Accident Date'].dt.dayofweek\n",
    "weekend = accident[accident['Weekday'] >= 5].shape[0]\n",
    "weekday = accident[accident['Weekday'] < 5].shape[0]\n",
    "weekend, weekday"
   ]
  },
  {
   "cell_type": "markdown",
   "id": "7c9b0243-f476-4c8d-bb47-41988f9486a6",
   "metadata": {},
   "source": [
    "<h4>INSIGHTS : Compares weekend vs weekday driving risks.</h4>"
   ]
  },
  {
   "cell_type": "markdown",
   "id": "7a662f91-f813-46d1-8096-51163066e8e8",
   "metadata": {},
   "source": [
    "<h3>20.) How many accidents happened in December 2020?</h3>"
   ]
  },
  {
   "cell_type": "code",
   "execution_count": 56,
   "id": "edae32ba-e077-44c0-9dee-181574e2e9a9",
   "metadata": {},
   "outputs": [
    {
     "data": {
      "text/plain": [
       "5960"
      ]
     },
     "execution_count": 56,
     "metadata": {},
     "output_type": "execute_result"
    }
   ],
   "source": [
    "dec2020 = accident[(accident['Accident Date'].dt.year == 2020) & (accident['Accident Date'].dt.month == 12)].shape[0]\n",
    "dec2020"
   ]
  },
  {
   "cell_type": "markdown",
   "id": "3a7b4871-6641-4f35-b4b5-71de8e525245",
   "metadata": {},
   "source": [
    "<h4>INSIGHTS : Narrows down to a sigle month in a single year for detailed analysis.</h4>"
   ]
  },
  {
   "cell_type": "code",
   "execution_count": null,
   "id": "d838e914-c5d1-459c-a887-f70fb1b26aa7",
   "metadata": {},
   "outputs": [],
   "source": []
  }
 ],
 "metadata": {
  "kernelspec": {
   "display_name": "Python 3 (ipykernel)",
   "language": "python",
   "name": "python3"
  },
  "language_info": {
   "codemirror_mode": {
    "name": "ipython",
    "version": 3
   },
   "file_extension": ".py",
   "mimetype": "text/x-python",
   "name": "python",
   "nbconvert_exporter": "python",
   "pygments_lexer": "ipython3",
   "version": "3.13.7"
  }
 },
 "nbformat": 4,
 "nbformat_minor": 5
}
